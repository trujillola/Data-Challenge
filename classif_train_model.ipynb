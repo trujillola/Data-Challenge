{
 "cells": [
  {
   "cell_type": "code",
   "execution_count": 34,
   "metadata": {},
   "outputs": [],
   "source": [
    "import numpy as np\n",
    "from tensorflow.keras.models import Sequential\n",
    "from tensorflow.keras.layers import Dense, Dropout, Flatten\n",
    "from tensorflow.keras.layers import Conv2D, MaxPooling2D, GlobalAveragePooling2D\n",
    "from tensorflow.keras.preprocessing.image import ImageDataGenerator\n",
    "from tensorflow.keras.callbacks import ModelCheckpoint\n"
   ]
  },
  {
   "cell_type": "code",
   "execution_count": 33,
   "metadata": {},
   "outputs": [
    {
     "name": "stdout",
     "output_type": "stream",
     "text": [
      "Found 108 images belonging to 21 classes.\n",
      "Found 61 images belonging to 21 classes.\n",
      "['anhydrite', 'calcareous_dolomite', 'chalk', 'chert', 'clay', 'coal_lignite', 'conglomerate', 'dolomite', 'dolomitic_limestone', 'fossiliferous', 'glauconite', 'gypsum', 'limestone', 'marl', 'metamorphic', 'pyrite', 'salt', 'sand', 'shale', 'silt', 'tuff']\n"
     ]
    }
   ],
   "source": [
    "# train_datagen = ImageDataGenerator(rescale=1./255)\n",
    "# train_generator = train_datagen.flow_from_directory(\n",
    "#     'motifs_legende/supervised/train/',\n",
    "#     target_size=(224, 224),\n",
    "#     #batch_size=8,\n",
    "#     class_mode='categorical')\n",
    "\n",
    "# test_datagen = ImageDataGenerator(rescale=1./255)\n",
    "# test_generator = test_datagen.flow_from_directory(\n",
    "#     'motifs_legende/supervised/test/',\n",
    "#     target_size=(224, 224),\n",
    "#     #batch_size=8,\n",
    "#     class_mode='categorical')\n",
    "\n",
    "# # Créer un tableau numpy pour les étiquettes de classe\n",
    "# class_labels = list(test_generator.class_indices.keys())\n",
    "# print(class_labels)\n",
    "# class_indices = test_generator.class_indices\n",
    "# num_classes = len(class_labels)\n",
    "\n"
   ]
  },
  {
   "cell_type": "code",
   "execution_count": null,
   "metadata": {},
   "outputs": [
    {
     "name": "stdout",
     "output_type": "stream",
     "text": [
      "Found 22 images belonging to 5 classes.\n",
      "Found 15 images belonging to 5 classes.\n",
      "['coal_lignite', 'marl', 'marl_limestone', 'sand', 'sand_clay']\n"
     ]
    },
    {
     "name": "stderr",
     "output_type": "stream",
     "text": [
      "[codecarbon INFO @ 11:45:56] Energy consumed for RAM : 0.003606 kWh. RAM Power : 2.8654117584228516 W\n",
      "[codecarbon INFO @ 11:45:56] Energy consumed for all CPUs : 0.015738 kWh. All CPUs Power : 12.5 W\n",
      "[codecarbon INFO @ 11:45:56] 0.019344 kWh of electricity used since the begining.\n",
      "[codecarbon INFO @ 11:46:11] Energy consumed for RAM : 0.003618 kWh. RAM Power : 2.8654117584228516 W\n",
      "[codecarbon INFO @ 11:46:11] Energy consumed for all CPUs : 0.015790 kWh. All CPUs Power : 12.5 W\n",
      "[codecarbon INFO @ 11:46:11] 0.019408 kWh of electricity used since the begining.\n",
      "[codecarbon INFO @ 11:46:26] Energy consumed for RAM : 0.003630 kWh. RAM Power : 2.8654117584228516 W\n",
      "[codecarbon INFO @ 11:46:26] Energy consumed for all CPUs : 0.015843 kWh. All CPUs Power : 12.5 W\n",
      "[codecarbon INFO @ 11:46:26] 0.019472 kWh of electricity used since the begining.\n"
     ]
    }
   ],
   "source": [
    "# Augmenter l'ensemble de données d'entraînement\n",
    "train_datagen = ImageDataGenerator(rescale=1./255)\n",
    "# train_datagen = ImageDataGenerator(\n",
    "#       rescale=1./255,\n",
    "#       rotation_range=20,\n",
    "#       width_shift_range=0.2,\n",
    "#       height_shift_range=0.2,\n",
    "#       shear_range=0.2,\n",
    "#       zoom_range=0.2,\n",
    "#       horizontal_flip=True,\n",
    "#       fill_mode='nearest')\n",
    "train_generator = train_datagen.flow_from_directory(\n",
    "    'motifs_demo_classes/train/',\n",
    "    target_size=(224, 224),\n",
    "    #batch_size=8,\n",
    "    class_mode='categorical')\n",
    "\n",
    "test_datagen = ImageDataGenerator(rescale=1./255)\n",
    "test_generator = test_datagen.flow_from_directory(\n",
    "    'motifs_demo_classes/test/',\n",
    "    target_size=(224, 224),\n",
    "    #batch_size=8,\n",
    "    class_mode='categorical')\n",
    "\n",
    "\n",
    "# Créer un tableau numpy pour les étiquettes de classe\n",
    "class_labels = list(test_generator.class_indices.keys())\n",
    "print(class_labels)\n",
    "class_indices = test_generator.class_indices\n",
    "num_classes = len(class_labels)\n",
    "\n"
   ]
  },
  {
   "cell_type": "code",
   "execution_count": 9,
   "metadata": {},
   "outputs": [
    {
     "name": "stderr",
     "output_type": "stream",
     "text": [
      "[codecarbon INFO @ 09:59:18] [setup] RAM Tracking...\n",
      "[codecarbon INFO @ 09:59:18] [setup] GPU Tracking...\n",
      "[codecarbon INFO @ 09:59:18] No GPU found.\n",
      "[codecarbon INFO @ 09:59:18] [setup] CPU Tracking...\n",
      "[codecarbon WARNING @ 09:59:18] No CPU tracking mode found. Falling back on CPU constant mode.\n",
      "[codecarbon INFO @ 09:59:21] CPU Model on constant consumption mode: Intel(R) Core(TM) i5-10210U CPU @ 1.60GHz\n",
      "[codecarbon INFO @ 09:59:21] >>> Tracker's metadata:\n",
      "[codecarbon INFO @ 09:59:21]   Platform system: Windows-10-10.0.19041-SP0\n",
      "[codecarbon INFO @ 09:59:21]   Python version: 3.8.3\n",
      "[codecarbon INFO @ 09:59:21]   Available RAM : 7.641 GB\n",
      "[codecarbon INFO @ 09:59:21]   CPU count: 8\n",
      "[codecarbon INFO @ 09:59:21]   CPU model: Intel(R) Core(TM) i5-10210U CPU @ 1.60GHz\n",
      "[codecarbon INFO @ 09:59:21]   GPU count: None\n",
      "[codecarbon INFO @ 09:59:21]   GPU model: None\n"
     ]
    },
    {
     "name": "stdout",
     "output_type": "stream",
     "text": [
      "Epoch 1/10\n"
     ]
    },
    {
     "name": "stderr",
     "output_type": "stream",
     "text": [
      "[codecarbon INFO @ 09:59:36] Energy consumed for RAM : 0.000012 kWh. RAM Power : 2.8654117584228516 W\n",
      "[codecarbon INFO @ 09:59:36] Energy consumed for all CPUs : 0.000052 kWh. All CPUs Power : 12.5 W\n",
      "[codecarbon INFO @ 09:59:36] 0.000064 kWh of electricity used since the begining.\n"
     ]
    },
    {
     "name": "stdout",
     "output_type": "stream",
     "text": [
      "1/1 [==============================] - ETA: 0s - loss: 1.8852 - accuracy: 0.1364"
     ]
    },
    {
     "name": "stderr",
     "output_type": "stream",
     "text": [
      "[codecarbon INFO @ 09:59:51] Energy consumed for RAM : 0.000024 kWh. RAM Power : 2.8654117584228516 W\n",
      "[codecarbon INFO @ 09:59:51] Energy consumed for all CPUs : 0.000104 kWh. All CPUs Power : 12.5 W\n",
      "[codecarbon INFO @ 09:59:51] 0.000128 kWh of electricity used since the begining.\n"
     ]
    },
    {
     "name": "stdout",
     "output_type": "stream",
     "text": [
      "\n",
      "Epoch 1: saving model to model_resnet.h5\n",
      "1/1 [==============================] - 32s 32s/step - loss: 1.8852 - accuracy: 0.1364 - val_loss: 1.6988 - val_accuracy: 0.2000\n",
      "Epoch 2/10\n",
      "1/1 [==============================] - ETA: 0s - loss: 0.4335 - accuracy: 0.8636\n",
      "Epoch 2: saving model to model_resnet.h5\n",
      "1/1 [==============================] - 10s 10s/step - loss: 0.4335 - accuracy: 0.8636 - val_loss: 4.0690 - val_accuracy: 0.2000\n",
      "Epoch 3/10\n"
     ]
    },
    {
     "name": "stderr",
     "output_type": "stream",
     "text": [
      "[codecarbon INFO @ 10:00:06] Energy consumed for RAM : 0.000036 kWh. RAM Power : 2.8654117584228516 W\n",
      "[codecarbon INFO @ 10:00:06] Energy consumed for all CPUs : 0.000156 kWh. All CPUs Power : 12.5 W\n",
      "[codecarbon INFO @ 10:00:06] 0.000192 kWh of electricity used since the begining.\n"
     ]
    },
    {
     "name": "stdout",
     "output_type": "stream",
     "text": [
      "1/1 [==============================] - ETA: 0s - loss: 1.2007 - accuracy: 0.8182\n",
      "Epoch 3: saving model to model_resnet.h5\n",
      "1/1 [==============================] - 10s 10s/step - loss: 1.2007 - accuracy: 0.8182 - val_loss: 9.9949 - val_accuracy: 0.2000\n",
      "Epoch 4/10\n"
     ]
    },
    {
     "name": "stderr",
     "output_type": "stream",
     "text": [
      "[codecarbon INFO @ 10:00:21] Energy consumed for RAM : 0.000048 kWh. RAM Power : 2.8654117584228516 W\n",
      "[codecarbon INFO @ 10:00:21] Energy consumed for all CPUs : 0.000209 kWh. All CPUs Power : 12.5 W\n",
      "[codecarbon INFO @ 10:00:21] 0.000256 kWh of electricity used since the begining.\n"
     ]
    },
    {
     "name": "stdout",
     "output_type": "stream",
     "text": [
      "1/1 [==============================] - ETA: 0s - loss: 0.1723 - accuracy: 0.9545\n",
      "Epoch 4: saving model to model_resnet.h5\n",
      "1/1 [==============================] - 10s 10s/step - loss: 0.1723 - accuracy: 0.9545 - val_loss: 18.1047 - val_accuracy: 0.2000\n",
      "Epoch 5/10\n",
      "1/1 [==============================] - ETA: 0s - loss: 0.0013 - accuracy: 1.0000\n",
      "Epoch 5: saving model to model_resnet.h5\n",
      "1/1 [==============================] - 12s 12s/step - loss: 0.0013 - accuracy: 1.0000 - val_loss: 24.1352 - val_accuracy: 0.2000\n",
      "Epoch 6/10\n"
     ]
    },
    {
     "name": "stderr",
     "output_type": "stream",
     "text": [
      "[codecarbon INFO @ 10:00:36] Energy consumed for RAM : 0.000060 kWh. RAM Power : 2.8654117584228516 W\n",
      "[codecarbon INFO @ 10:00:36] Energy consumed for all CPUs : 0.000261 kWh. All CPUs Power : 12.5 W\n",
      "[codecarbon INFO @ 10:00:36] 0.000321 kWh of electricity used since the begining.\n"
     ]
    },
    {
     "name": "stdout",
     "output_type": "stream",
     "text": [
      "1/1 [==============================] - ETA: 0s - loss: 0.0974 - accuracy: 0.9545\n",
      "Epoch 6: saving model to model_resnet.h5\n",
      "1/1 [==============================] - 11s 11s/step - loss: 0.0974 - accuracy: 0.9545 - val_loss: 31.9155 - val_accuracy: 0.2000\n",
      "Epoch 7/10\n"
     ]
    },
    {
     "name": "stderr",
     "output_type": "stream",
     "text": [
      "[codecarbon INFO @ 10:00:51] Energy consumed for RAM : 0.000072 kWh. RAM Power : 2.8654117584228516 W\n",
      "[codecarbon INFO @ 10:00:51] Energy consumed for all CPUs : 0.000313 kWh. All CPUs Power : 12.5 W\n",
      "[codecarbon INFO @ 10:00:51] 0.000385 kWh of electricity used since the begining.\n"
     ]
    },
    {
     "name": "stdout",
     "output_type": "stream",
     "text": [
      "1/1 [==============================] - ETA: 0s - loss: 0.0029 - accuracy: 1.0000\n",
      "Epoch 7: saving model to model_resnet.h5\n",
      "1/1 [==============================] - 12s 12s/step - loss: 0.0029 - accuracy: 1.0000 - val_loss: 42.9968 - val_accuracy: 0.2000\n",
      "Epoch 8/10\n"
     ]
    },
    {
     "name": "stderr",
     "output_type": "stream",
     "text": [
      "[codecarbon INFO @ 10:01:06] Energy consumed for RAM : 0.000084 kWh. RAM Power : 2.8654117584228516 W\n",
      "[codecarbon INFO @ 10:01:06] Energy consumed for all CPUs : 0.000365 kWh. All CPUs Power : 12.5 W\n",
      "[codecarbon INFO @ 10:01:06] 0.000449 kWh of electricity used since the begining.\n"
     ]
    },
    {
     "name": "stdout",
     "output_type": "stream",
     "text": [
      "1/1 [==============================] - ETA: 0s - loss: 0.0048 - accuracy: 1.0000\n",
      "Epoch 8: saving model to model_resnet.h5\n",
      "1/1 [==============================] - 13s 13s/step - loss: 0.0048 - accuracy: 1.0000 - val_loss: 55.1976 - val_accuracy: 0.2000\n",
      "Epoch 9/10\n",
      "1/1 [==============================] - ETA: 0s - loss: 0.0030 - accuracy: 1.0000"
     ]
    },
    {
     "name": "stderr",
     "output_type": "stream",
     "text": [
      "[codecarbon INFO @ 10:01:21] Energy consumed for RAM : 0.000096 kWh. RAM Power : 2.8654117584228516 W\n",
      "[codecarbon INFO @ 10:01:21] Energy consumed for all CPUs : 0.000417 kWh. All CPUs Power : 12.5 W\n",
      "[codecarbon INFO @ 10:01:21] 0.000513 kWh of electricity used since the begining.\n"
     ]
    },
    {
     "name": "stdout",
     "output_type": "stream",
     "text": [
      "\n",
      "Epoch 9: saving model to model_resnet.h5\n",
      "1/1 [==============================] - 11s 11s/step - loss: 0.0030 - accuracy: 1.0000 - val_loss: 65.1168 - val_accuracy: 0.2000\n",
      "Epoch 10/10\n",
      "1/1 [==============================] - ETA: 0s - loss: 7.9714e-04 - accuracy: 1.0000\n",
      "Epoch 10: saving model to model_resnet.h5\n",
      "1/1 [==============================] - 10s 10s/step - loss: 7.9714e-04 - accuracy: 1.0000 - val_loss: 76.2834 - val_accuracy: 0.2000\n"
     ]
    },
    {
     "name": "stderr",
     "output_type": "stream",
     "text": [
      "[codecarbon INFO @ 10:01:33] Energy consumed for RAM : 0.000105 kWh. RAM Power : 2.8654117584228516 W\n",
      "[codecarbon INFO @ 10:01:33] Energy consumed for all CPUs : 0.000457 kWh. All CPUs Power : 12.5 W\n",
      "[codecarbon INFO @ 10:01:33] 0.000562 kWh of electricity used since the begining.\n"
     ]
    },
    {
     "name": "stdout",
     "output_type": "stream",
     "text": [
      "Emissions: 3.092100757710189e-05 kg\n"
     ]
    }
   ],
   "source": [
    "from tensorflow.keras.applications.resnet50 import ResNet50\n",
    "base_model = ResNet50(weights=\"imagenet\", include_top=False)\n",
    "\n",
    "model = Sequential()\n",
    "model.add(base_model)\n",
    "#léger fine tuning\n",
    "model.add(GlobalAveragePooling2D())\n",
    "model.add(Dense(1024, activation='relu'))\n",
    "model.add(Dropout(0.5))\n",
    "#on prédit 1 des 5 classes\n",
    "model.add(Dense(5, activation='softmax'))\n",
    "\n",
    "from codecarbon import EmissionsTracker\n",
    "model.compile(loss='categorical_crossentropy',\n",
    "              optimizer='adam', metrics=['accuracy'])\n",
    "\n",
    "checkpoint = ModelCheckpoint('model_resnet.h5', \n",
    "                             verbose=1, \n",
    "                             save_best_only=False, \n",
    "                             save_weights_only=False,\n",
    "                             mode='auto')\n",
    "\n",
    "tracker = EmissionsTracker()\n",
    "tracker.start()\n",
    "model.fit(train_generator,\n",
    "          epochs=10,\n",
    "          validation_data=test_generator,\n",
    "          callbacks=[checkpoint])\n",
    "emissions: float = tracker.stop()\n",
    "print(f\"Emissions: {emissions} kg\")\n",
    "\n",
    "#carbonboard --filepath=\"examples/emissions.csv\" --port=3333\n",
    "\n"
   ]
  },
  {
   "cell_type": "code",
   "execution_count": 7,
   "metadata": {},
   "outputs": [
    {
     "name": "stderr",
     "output_type": "stream",
     "text": [
      "[codecarbon INFO @ 09:51:46] [setup] RAM Tracking...\n",
      "[codecarbon INFO @ 09:51:46] [setup] GPU Tracking...\n",
      "[codecarbon INFO @ 09:51:46] No GPU found.\n",
      "[codecarbon INFO @ 09:51:46] [setup] CPU Tracking...\n",
      "[codecarbon WARNING @ 09:51:46] No CPU tracking mode found. Falling back on CPU constant mode.\n",
      "[codecarbon INFO @ 09:51:48] CPU Model on constant consumption mode: Intel(R) Core(TM) i5-10210U CPU @ 1.60GHz\n",
      "[codecarbon INFO @ 09:51:48] >>> Tracker's metadata:\n",
      "[codecarbon INFO @ 09:51:48]   Platform system: Windows-10-10.0.19041-SP0\n",
      "[codecarbon INFO @ 09:51:48]   Python version: 3.8.3\n",
      "[codecarbon INFO @ 09:51:48]   Available RAM : 7.641 GB\n",
      "[codecarbon INFO @ 09:51:48]   CPU count: 8\n",
      "[codecarbon INFO @ 09:51:48]   CPU model: Intel(R) Core(TM) i5-10210U CPU @ 1.60GHz\n",
      "[codecarbon INFO @ 09:51:48]   GPU count: None\n",
      "[codecarbon INFO @ 09:51:48]   GPU model: None\n"
     ]
    },
    {
     "name": "stdout",
     "output_type": "stream",
     "text": [
      "Epoch 1/15\n"
     ]
    },
    {
     "name": "stderr",
     "output_type": "stream",
     "text": [
      "[codecarbon INFO @ 09:52:04] Energy consumed for RAM : 0.000012 kWh. RAM Power : 2.8654117584228516 W\n",
      "[codecarbon INFO @ 09:52:04] Energy consumed for all CPUs : 0.000052 kWh. All CPUs Power : 12.5 W\n",
      "[codecarbon INFO @ 09:52:04] 0.000064 kWh of electricity used since the begining.\n"
     ]
    },
    {
     "name": "stdout",
     "output_type": "stream",
     "text": [
      "1/1 [==============================] - ETA: 0s - loss: 1.6601 - accuracy: 0.2273\n",
      "Epoch 1: saving model to model_vgg.h5\n",
      "1/1 [==============================] - 22s 22s/step - loss: 1.6601 - accuracy: 0.2273 - val_loss: 5.4538 - val_accuracy: 0.2000\n",
      "Epoch 2/15\n"
     ]
    },
    {
     "name": "stderr",
     "output_type": "stream",
     "text": [
      "[codecarbon INFO @ 09:52:19] Energy consumed for RAM : 0.000024 kWh. RAM Power : 2.8654117584228516 W\n",
      "[codecarbon INFO @ 09:52:19] Energy consumed for all CPUs : 0.000104 kWh. All CPUs Power : 12.5 W\n",
      "[codecarbon INFO @ 09:52:19] 0.000128 kWh of electricity used since the begining.\n"
     ]
    },
    {
     "name": "stdout",
     "output_type": "stream",
     "text": [
      "1/1 [==============================] - ETA: 0s - loss: 5.9403 - accuracy: 0.2727\n",
      "Epoch 2: saving model to model_vgg.h5\n",
      "1/1 [==============================] - 19s 19s/step - loss: 5.9403 - accuracy: 0.2727 - val_loss: 2.5424 - val_accuracy: 0.2000\n",
      "Epoch 3/15\n"
     ]
    },
    {
     "name": "stderr",
     "output_type": "stream",
     "text": [
      "[codecarbon INFO @ 09:52:34] Energy consumed for RAM : 0.000036 kWh. RAM Power : 2.8654117584228516 W\n",
      "[codecarbon INFO @ 09:52:34] Energy consumed for all CPUs : 0.000156 kWh. All CPUs Power : 12.5 W\n",
      "[codecarbon INFO @ 09:52:34] 0.000192 kWh of electricity used since the begining.\n"
     ]
    },
    {
     "name": "stdout",
     "output_type": "stream",
     "text": [
      "1/1 [==============================] - ETA: 0s - loss: 3.5946 - accuracy: 0.2273"
     ]
    },
    {
     "name": "stderr",
     "output_type": "stream",
     "text": [
      "[codecarbon INFO @ 09:52:49] Energy consumed for RAM : 0.000048 kWh. RAM Power : 2.8654117584228516 W\n",
      "[codecarbon INFO @ 09:52:49] Energy consumed for all CPUs : 0.000209 kWh. All CPUs Power : 12.5 W\n",
      "[codecarbon INFO @ 09:52:49] 0.000256 kWh of electricity used since the begining.\n"
     ]
    },
    {
     "name": "stdout",
     "output_type": "stream",
     "text": [
      "\n",
      "Epoch 3: saving model to model_vgg.h5\n",
      "1/1 [==============================] - 19s 19s/step - loss: 3.5946 - accuracy: 0.2273 - val_loss: 1.6826 - val_accuracy: 0.2000\n",
      "Epoch 4/15\n"
     ]
    },
    {
     "name": "stderr",
     "output_type": "stream",
     "text": [
      "[codecarbon INFO @ 09:53:04] Energy consumed for RAM : 0.000060 kWh. RAM Power : 2.8654117584228516 W\n",
      "[codecarbon INFO @ 09:53:04] Energy consumed for all CPUs : 0.000261 kWh. All CPUs Power : 12.5 W\n",
      "[codecarbon INFO @ 09:53:04] 0.000320 kWh of electricity used since the begining.\n"
     ]
    },
    {
     "name": "stdout",
     "output_type": "stream",
     "text": [
      "1/1 [==============================] - ETA: 0s - loss: 1.9953 - accuracy: 0.2273\n",
      "Epoch 4: saving model to model_vgg.h5\n",
      "1/1 [==============================] - 20s 20s/step - loss: 1.9953 - accuracy: 0.2273 - val_loss: 1.7064 - val_accuracy: 0.2000\n",
      "Epoch 5/15\n"
     ]
    },
    {
     "name": "stderr",
     "output_type": "stream",
     "text": [
      "[codecarbon INFO @ 09:53:19] Energy consumed for RAM : 0.000072 kWh. RAM Power : 2.8654117584228516 W\n",
      "[codecarbon INFO @ 09:53:19] Energy consumed for all CPUs : 0.000313 kWh. All CPUs Power : 12.5 W\n",
      "[codecarbon INFO @ 09:53:19] 0.000384 kWh of electricity used since the begining.\n"
     ]
    },
    {
     "name": "stdout",
     "output_type": "stream",
     "text": [
      "1/1 [==============================] - ETA: 0s - loss: 1.6818 - accuracy: 0.2273\n",
      "Epoch 5: saving model to model_vgg.h5\n",
      "1/1 [==============================] - 19s 19s/step - loss: 1.6818 - accuracy: 0.2273 - val_loss: 1.6058 - val_accuracy: 0.2000\n",
      "Epoch 6/15\n"
     ]
    },
    {
     "name": "stderr",
     "output_type": "stream",
     "text": [
      "[codecarbon INFO @ 09:53:34] Energy consumed for RAM : 0.000084 kWh. RAM Power : 2.8654117584228516 W\n",
      "[codecarbon INFO @ 09:53:34] Energy consumed for all CPUs : 0.000365 kWh. All CPUs Power : 12.5 W\n",
      "[codecarbon INFO @ 09:53:34] 0.000449 kWh of electricity used since the begining.\n"
     ]
    },
    {
     "name": "stdout",
     "output_type": "stream",
     "text": [
      "1/1 [==============================] - ETA: 0s - loss: 1.6062 - accuracy: 0.2273\n",
      "Epoch 6: saving model to model_vgg.h5\n",
      "1/1 [==============================] - 18s 18s/step - loss: 1.6062 - accuracy: 0.2273 - val_loss: 1.5975 - val_accuracy: 0.2000\n",
      "Epoch 7/15\n"
     ]
    },
    {
     "name": "stderr",
     "output_type": "stream",
     "text": [
      "[codecarbon INFO @ 09:53:49] Energy consumed for RAM : 0.000096 kWh. RAM Power : 2.8654117584228516 W\n",
      "[codecarbon INFO @ 09:53:49] Energy consumed for all CPUs : 0.000417 kWh. All CPUs Power : 12.5 W\n",
      "[codecarbon INFO @ 09:53:49] 0.000513 kWh of electricity used since the begining.\n"
     ]
    },
    {
     "name": "stdout",
     "output_type": "stream",
     "text": [
      "1/1 [==============================] - ETA: 0s - loss: 1.5913 - accuracy: 0.1818"
     ]
    },
    {
     "name": "stderr",
     "output_type": "stream",
     "text": [
      "[codecarbon INFO @ 09:54:04] Energy consumed for RAM : 0.000108 kWh. RAM Power : 2.8654117584228516 W\n",
      "[codecarbon INFO @ 09:54:04] Energy consumed for all CPUs : 0.000469 kWh. All CPUs Power : 12.5 W\n",
      "[codecarbon INFO @ 09:54:04] 0.000577 kWh of electricity used since the begining.\n"
     ]
    },
    {
     "name": "stdout",
     "output_type": "stream",
     "text": [
      "\n",
      "Epoch 7: saving model to model_vgg.h5\n",
      "1/1 [==============================] - 19s 19s/step - loss: 1.5913 - accuracy: 0.1818 - val_loss: 1.5874 - val_accuracy: 0.4000\n",
      "Epoch 8/15\n"
     ]
    },
    {
     "name": "stderr",
     "output_type": "stream",
     "text": [
      "[codecarbon INFO @ 09:54:19] Energy consumed for RAM : 0.000119 kWh. RAM Power : 2.8654117584228516 W\n",
      "[codecarbon INFO @ 09:54:19] Energy consumed for all CPUs : 0.000521 kWh. All CPUs Power : 12.5 W\n",
      "[codecarbon INFO @ 09:54:19] 0.000641 kWh of electricity used since the begining.\n"
     ]
    },
    {
     "name": "stdout",
     "output_type": "stream",
     "text": [
      "1/1 [==============================] - ETA: 0s - loss: 1.5948 - accuracy: 0.2727\n",
      "Epoch 8: saving model to model_vgg.h5\n",
      "1/1 [==============================] - 20s 20s/step - loss: 1.5948 - accuracy: 0.2727 - val_loss: 1.6159 - val_accuracy: 0.4000\n",
      "Epoch 9/15\n"
     ]
    },
    {
     "name": "stderr",
     "output_type": "stream",
     "text": [
      "[codecarbon INFO @ 09:54:34] Energy consumed for RAM : 0.000131 kWh. RAM Power : 2.8654117584228516 W\n",
      "[codecarbon INFO @ 09:54:34] Energy consumed for all CPUs : 0.000574 kWh. All CPUs Power : 12.5 W\n",
      "[codecarbon INFO @ 09:54:34] 0.000705 kWh of electricity used since the begining.\n"
     ]
    },
    {
     "name": "stdout",
     "output_type": "stream",
     "text": [
      "1/1 [==============================] - ETA: 0s - loss: 1.6114 - accuracy: 0.3182\n",
      "Epoch 9: saving model to model_vgg.h5\n",
      "1/1 [==============================] - 20s 20s/step - loss: 1.6114 - accuracy: 0.3182 - val_loss: 1.5853 - val_accuracy: 0.2000\n",
      "Epoch 10/15\n"
     ]
    },
    {
     "name": "stderr",
     "output_type": "stream",
     "text": [
      "[codecarbon INFO @ 09:54:49] Energy consumed for RAM : 0.000143 kWh. RAM Power : 2.8654117584228516 W\n",
      "[codecarbon INFO @ 09:54:49] Energy consumed for all CPUs : 0.000626 kWh. All CPUs Power : 12.5 W\n",
      "[codecarbon INFO @ 09:54:49] 0.000769 kWh of electricity used since the begining.\n"
     ]
    },
    {
     "name": "stdout",
     "output_type": "stream",
     "text": [
      "1/1 [==============================] - ETA: 0s - loss: 1.5540 - accuracy: 0.2727\n",
      "Epoch 10: saving model to model_vgg.h5\n"
     ]
    },
    {
     "name": "stderr",
     "output_type": "stream",
     "text": [
      "[codecarbon INFO @ 09:55:04] Energy consumed for RAM : 0.000155 kWh. RAM Power : 2.8654117584228516 W\n",
      "[codecarbon INFO @ 09:55:04] Energy consumed for all CPUs : 0.000678 kWh. All CPUs Power : 12.5 W\n",
      "[codecarbon INFO @ 09:55:04] 0.000833 kWh of electricity used since the begining.\n"
     ]
    },
    {
     "name": "stdout",
     "output_type": "stream",
     "text": [
      "1/1 [==============================] - 19s 19s/step - loss: 1.5540 - accuracy: 0.2727 - val_loss: 1.5407 - val_accuracy: 0.2000\n",
      "Epoch 11/15\n"
     ]
    },
    {
     "name": "stderr",
     "output_type": "stream",
     "text": [
      "[codecarbon INFO @ 09:55:19] Energy consumed for RAM : 0.000167 kWh. RAM Power : 2.8654117584228516 W\n",
      "[codecarbon INFO @ 09:55:19] Energy consumed for all CPUs : 0.000730 kWh. All CPUs Power : 12.5 W\n",
      "[codecarbon INFO @ 09:55:19] 0.000897 kWh of electricity used since the begining.\n"
     ]
    },
    {
     "name": "stdout",
     "output_type": "stream",
     "text": [
      "1/1 [==============================] - ETA: 0s - loss: 1.5468 - accuracy: 0.2727\n",
      "Epoch 11: saving model to model_vgg.h5\n",
      "1/1 [==============================] - 21s 21s/step - loss: 1.5468 - accuracy: 0.2727 - val_loss: 1.4983 - val_accuracy: 0.3333\n",
      "Epoch 12/15\n"
     ]
    },
    {
     "name": "stderr",
     "output_type": "stream",
     "text": [
      "[codecarbon INFO @ 09:55:34] Energy consumed for RAM : 0.000179 kWh. RAM Power : 2.8654117584228516 W\n",
      "[codecarbon INFO @ 09:55:34] Energy consumed for all CPUs : 0.000782 kWh. All CPUs Power : 12.5 W\n",
      "[codecarbon INFO @ 09:55:34] 0.000961 kWh of electricity used since the begining.\n"
     ]
    },
    {
     "name": "stdout",
     "output_type": "stream",
     "text": [
      "1/1 [==============================] - ETA: 0s - loss: 1.5890 - accuracy: 0.3182\n",
      "Epoch 12: saving model to model_vgg.h5\n",
      "1/1 [==============================] - 21s 21s/step - loss: 1.5890 - accuracy: 0.3182 - val_loss: 1.4469 - val_accuracy: 0.4000\n",
      "Epoch 13/15\n"
     ]
    },
    {
     "name": "stderr",
     "output_type": "stream",
     "text": [
      "[codecarbon INFO @ 09:55:49] Energy consumed for RAM : 0.000191 kWh. RAM Power : 2.8654117584228516 W\n",
      "[codecarbon INFO @ 09:55:49] Energy consumed for all CPUs : 0.000834 kWh. All CPUs Power : 12.5 W\n",
      "[codecarbon INFO @ 09:55:49] 0.001025 kWh of electricity used since the begining.\n"
     ]
    },
    {
     "name": "stdout",
     "output_type": "stream",
     "text": [
      "1/1 [==============================] - ETA: 0s - loss: 1.5865 - accuracy: 0.2273\n",
      "Epoch 13: saving model to model_vgg.h5\n",
      "1/1 [==============================] - 18s 18s/step - loss: 1.5865 - accuracy: 0.2273 - val_loss: 1.7045 - val_accuracy: 0.2000\n",
      "Epoch 14/15\n"
     ]
    },
    {
     "name": "stderr",
     "output_type": "stream",
     "text": [
      "[codecarbon INFO @ 09:56:04] Energy consumed for RAM : 0.000203 kWh. RAM Power : 2.8654117584228516 W\n",
      "[codecarbon INFO @ 09:56:04] Energy consumed for all CPUs : 0.000887 kWh. All CPUs Power : 12.5 W\n",
      "[codecarbon INFO @ 09:56:04] 0.001090 kWh of electricity used since the begining.\n",
      "[codecarbon INFO @ 09:56:19] Energy consumed for RAM : 0.000215 kWh. RAM Power : 2.8654117584228516 W\n",
      "[codecarbon INFO @ 09:56:19] Energy consumed for all CPUs : 0.000939 kWh. All CPUs Power : 12.5 W\n",
      "[codecarbon INFO @ 09:56:19] 0.001154 kWh of electricity used since the begining.\n"
     ]
    },
    {
     "name": "stdout",
     "output_type": "stream",
     "text": [
      "1/1 [==============================] - ETA: 0s - loss: 1.6837 - accuracy: 0.2273\n",
      "Epoch 14: saving model to model_vgg.h5\n",
      "1/1 [==============================] - 20s 20s/step - loss: 1.6837 - accuracy: 0.2273 - val_loss: 1.4395 - val_accuracy: 0.4000\n",
      "Epoch 15/15\n"
     ]
    },
    {
     "name": "stderr",
     "output_type": "stream",
     "text": [
      "[codecarbon INFO @ 09:56:34] Energy consumed for RAM : 0.000227 kWh. RAM Power : 2.8654117584228516 W\n",
      "[codecarbon INFO @ 09:56:34] Energy consumed for all CPUs : 0.000991 kWh. All CPUs Power : 12.5 W\n",
      "[codecarbon INFO @ 09:56:34] 0.001218 kWh of electricity used since the begining.\n"
     ]
    },
    {
     "name": "stdout",
     "output_type": "stream",
     "text": [
      "1/1 [==============================] - ETA: 0s - loss: 1.5427 - accuracy: 0.2727\n",
      "Epoch 15: saving model to model_vgg.h5\n",
      "1/1 [==============================] - 19s 19s/step - loss: 1.5427 - accuracy: 0.2727 - val_loss: 1.4485 - val_accuracy: 0.3333\n"
     ]
    },
    {
     "name": "stderr",
     "output_type": "stream",
     "text": [
      "[codecarbon INFO @ 09:56:43] Energy consumed for RAM : 0.000234 kWh. RAM Power : 2.8654117584228516 W\n",
      "[codecarbon INFO @ 09:56:43] Energy consumed for all CPUs : 0.001022 kWh. All CPUs Power : 12.5 W\n",
      "[codecarbon INFO @ 09:56:43] 0.001256 kWh of electricity used since the begining.\n"
     ]
    },
    {
     "name": "stdout",
     "output_type": "stream",
     "text": [
      "Emissions: 6.908894251829506e-05 kg\n"
     ]
    }
   ],
   "source": [
    "from tensorflow.keras.applications.vgg16 import VGG16\n",
    "base_model = VGG16(weights=\"imagenet\", include_top=False)\n",
    "\n",
    "model = Sequential()\n",
    "model.add(base_model)\n",
    "#léger fine tuning\n",
    "model.add(GlobalAveragePooling2D())\n",
    "model.add(Dense(1024, activation='relu'))\n",
    "model.add(Dropout(0.5))\n",
    "model.add(Dense(5, activation='softmax'))\n",
    "\n",
    "from codecarbon import EmissionsTracker\n",
    "model.compile(loss='categorical_crossentropy',\n",
    "              optimizer='adam', metrics=['accuracy'])\n",
    "\n",
    "checkpoint = ModelCheckpoint('model_vgg.h5', \n",
    "                             verbose=1, \n",
    "                             save_best_only=False, \n",
    "                             save_weights_only=False,\n",
    "                             mode='auto')\n",
    "\n",
    "tracker = EmissionsTracker()\n",
    "tracker.start()\n",
    "model.fit(train_generator,\n",
    "          epochs=10,\n",
    "          validation_data=test_generator,\n",
    "          callbacks=[checkpoint])\n",
    "emissions: float = tracker.stop()\n",
    "print(f\"Emissions: {emissions} kg\")\n",
    "\n",
    "#carbonboard --filepath=\"examples/emissions.csv\" --port=3333\n",
    "\n"
   ]
  },
  {
   "cell_type": "code",
   "execution_count": null,
   "metadata": {},
   "outputs": [
    {
     "name": "stderr",
     "output_type": "stream",
     "text": [
      "[codecarbon INFO @ 10:52:44] [setup] RAM Tracking...\n",
      "[codecarbon INFO @ 10:52:44] [setup] GPU Tracking...\n",
      "[codecarbon INFO @ 10:52:44] No GPU found.\n",
      "[codecarbon INFO @ 10:52:44] [setup] CPU Tracking...\n",
      "[codecarbon WARNING @ 10:52:44] No CPU tracking mode found. Falling back on CPU constant mode.\n",
      "[codecarbon INFO @ 10:52:47] CPU Model on constant consumption mode: Intel(R) Core(TM) i5-10210U CPU @ 1.60GHz\n",
      "[codecarbon INFO @ 10:52:47] >>> Tracker's metadata:\n",
      "[codecarbon INFO @ 10:52:47]   Platform system: Windows-10-10.0.19041-SP0\n",
      "[codecarbon INFO @ 10:52:47]   Python version: 3.8.3\n",
      "[codecarbon INFO @ 10:52:47]   Available RAM : 7.641 GB\n",
      "[codecarbon INFO @ 10:52:47]   CPU count: 8\n",
      "[codecarbon INFO @ 10:52:47]   CPU model: Intel(R) Core(TM) i5-10210U CPU @ 1.60GHz\n",
      "[codecarbon INFO @ 10:52:47]   GPU count: None\n",
      "[codecarbon INFO @ 10:52:47]   GPU model: None\n"
     ]
    },
    {
     "name": "stdout",
     "output_type": "stream",
     "text": [
      "Epoch 1/10\n"
     ]
    },
    {
     "name": "stderr",
     "output_type": "stream",
     "text": [
      "[codecarbon INFO @ 10:52:54] Energy consumed for RAM : 0.001075 kWh. RAM Power : 2.8654117584228516 W\n",
      "[codecarbon INFO @ 10:52:54] Energy consumed for all CPUs : 0.004694 kWh. All CPUs Power : 12.5 W\n",
      "[codecarbon INFO @ 10:52:54] 0.005769 kWh of electricity used since the begining.\n",
      "[codecarbon INFO @ 10:53:03] Energy consumed for RAM : 0.000012 kWh. RAM Power : 2.8654117584228516 W\n",
      "[codecarbon INFO @ 10:53:03] Energy consumed for all CPUs : 0.000054 kWh. All CPUs Power : 12.5 W\n",
      "[codecarbon INFO @ 10:53:03] 0.000067 kWh of electricity used since the begining.\n",
      "[codecarbon INFO @ 10:53:09] Energy consumed for RAM : 0.001087 kWh. RAM Power : 2.8654117584228516 W\n",
      "[codecarbon INFO @ 10:53:09] Energy consumed for all CPUs : 0.004746 kWh. All CPUs Power : 12.5 W\n",
      "[codecarbon INFO @ 10:53:09] 0.005833 kWh of electricity used since the begining.\n",
      "[codecarbon INFO @ 10:53:18] Energy consumed for RAM : 0.000024 kWh. RAM Power : 2.8654117584228516 W\n",
      "[codecarbon INFO @ 10:53:18] Energy consumed for all CPUs : 0.000106 kWh. All CPUs Power : 12.5 W\n",
      "[codecarbon INFO @ 10:53:18] 0.000130 kWh of electricity used since the begining.\n"
     ]
    },
    {
     "name": "stdout",
     "output_type": "stream",
     "text": [
      "1/1 [==============================] - ETA: 0s - loss: 1.7825 - accuracy: 0.1818\n",
      "Epoch 1: saving model to model_inception_bin.h5\n"
     ]
    },
    {
     "name": "stderr",
     "output_type": "stream",
     "text": [
      "[codecarbon INFO @ 10:53:24] Energy consumed for RAM : 0.001099 kWh. RAM Power : 2.8654117584228516 W\n",
      "[codecarbon INFO @ 10:53:24] Energy consumed for all CPUs : 0.004798 kWh. All CPUs Power : 12.5 W\n",
      "[codecarbon INFO @ 10:53:24] 0.005897 kWh of electricity used since the begining.\n"
     ]
    },
    {
     "name": "stdout",
     "output_type": "stream",
     "text": [
      "1/1 [==============================] - 38s 38s/step - loss: 1.7825 - accuracy: 0.1818 - val_loss: 1.9266 - val_accuracy: 0.3333\n",
      "Epoch 2/10\n"
     ]
    },
    {
     "name": "stderr",
     "output_type": "stream",
     "text": [
      "[codecarbon INFO @ 10:53:33] Energy consumed for RAM : 0.000036 kWh. RAM Power : 2.8654117584228516 W\n",
      "[codecarbon INFO @ 10:53:33] Energy consumed for all CPUs : 0.000158 kWh. All CPUs Power : 12.5 W\n",
      "[codecarbon INFO @ 10:53:33] 0.000194 kWh of electricity used since the begining.\n"
     ]
    },
    {
     "name": "stdout",
     "output_type": "stream",
     "text": [
      "1/1 [==============================] - ETA: 0s - loss: 1.5104 - accuracy: 0.5455\n",
      "Epoch 2: saving model to model_inception_bin.h5\n",
      "1/1 [==============================] - 10s 10s/step - loss: 1.5104 - accuracy: 0.5455 - val_loss: 1.9891 - val_accuracy: 0.6667\n",
      "Epoch 3/10\n"
     ]
    },
    {
     "name": "stderr",
     "output_type": "stream",
     "text": [
      "[codecarbon INFO @ 10:53:39] Energy consumed for RAM : 0.001111 kWh. RAM Power : 2.8654117584228516 W\n",
      "[codecarbon INFO @ 10:53:39] Energy consumed for all CPUs : 0.004850 kWh. All CPUs Power : 12.5 W\n",
      "[codecarbon INFO @ 10:53:39] 0.005961 kWh of electricity used since the begining.\n"
     ]
    },
    {
     "name": "stdout",
     "output_type": "stream",
     "text": [
      "1/1 [==============================] - ETA: 0s - loss: 0.2191 - accuracy: 0.9091\n",
      "Epoch 3: saving model to model_inception_bin.h5\n",
      "1/1 [==============================] - 8s 8s/step - loss: 0.2191 - accuracy: 0.9091 - val_loss: 5.3271 - val_accuracy: 0.2667\n",
      "Epoch 4/10\n"
     ]
    },
    {
     "name": "stderr",
     "output_type": "stream",
     "text": [
      "[codecarbon INFO @ 10:53:48] Energy consumed for RAM : 0.000048 kWh. RAM Power : 2.8654117584228516 W\n",
      "[codecarbon INFO @ 10:53:48] Energy consumed for all CPUs : 0.000210 kWh. All CPUs Power : 12.5 W\n",
      "[codecarbon INFO @ 10:53:48] 0.000258 kWh of electricity used since the begining.\n"
     ]
    },
    {
     "name": "stdout",
     "output_type": "stream",
     "text": [
      "1/1 [==============================] - ETA: 0s - loss: 0.0887 - accuracy: 0.9545\n",
      "Epoch 4: saving model to model_inception_bin.h5\n",
      "1/1 [==============================] - 8s 8s/step - loss: 0.0887 - accuracy: 0.9545 - val_loss: 7.7868 - val_accuracy: 0.3333\n",
      "Epoch 5/10\n"
     ]
    },
    {
     "name": "stderr",
     "output_type": "stream",
     "text": [
      "[codecarbon INFO @ 10:53:54] Energy consumed for RAM : 0.001123 kWh. RAM Power : 2.8654117584228516 W\n",
      "[codecarbon INFO @ 10:53:54] Energy consumed for all CPUs : 0.004902 kWh. All CPUs Power : 12.5 W\n",
      "[codecarbon INFO @ 10:53:54] 0.006025 kWh of electricity used since the begining.\n"
     ]
    },
    {
     "name": "stdout",
     "output_type": "stream",
     "text": [
      "1/1 [==============================] - ETA: 0s - loss: 0.0306 - accuracy: 1.0000\n",
      "Epoch 5: saving model to model_inception_bin.h5\n",
      "1/1 [==============================] - 8s 8s/step - loss: 0.0306 - accuracy: 1.0000 - val_loss: 10.2018 - val_accuracy: 0.3333\n",
      "Epoch 6/10\n"
     ]
    },
    {
     "name": "stderr",
     "output_type": "stream",
     "text": [
      "[codecarbon INFO @ 10:54:03] Energy consumed for RAM : 0.000060 kWh. RAM Power : 2.8654117584228516 W\n",
      "[codecarbon INFO @ 10:54:03] Energy consumed for all CPUs : 0.000262 kWh. All CPUs Power : 12.5 W\n",
      "[codecarbon INFO @ 10:54:03] 0.000322 kWh of electricity used since the begining.\n"
     ]
    },
    {
     "name": "stdout",
     "output_type": "stream",
     "text": [
      "1/1 [==============================] - ETA: 0s - loss: 0.0069 - accuracy: 1.0000\n",
      "Epoch 6: saving model to model_inception_bin.h5\n",
      "1/1 [==============================] - 8s 8s/step - loss: 0.0069 - accuracy: 1.0000 - val_loss: 11.6570 - val_accuracy: 0.3333\n",
      "Epoch 7/10\n"
     ]
    },
    {
     "name": "stderr",
     "output_type": "stream",
     "text": [
      "[codecarbon INFO @ 10:54:09] Energy consumed for RAM : 0.001135 kWh. RAM Power : 2.8654117584228516 W\n",
      "[codecarbon INFO @ 10:54:09] Energy consumed for all CPUs : 0.004954 kWh. All CPUs Power : 12.5 W\n",
      "[codecarbon INFO @ 10:54:09] 0.006089 kWh of electricity used since the begining.\n"
     ]
    },
    {
     "name": "stdout",
     "output_type": "stream",
     "text": [
      "1/1 [==============================] - ETA: 0s - loss: 0.0039 - accuracy: 1.0000\n",
      "Epoch 7: saving model to model_inception_bin.h5\n",
      "1/1 [==============================] - 9s 9s/step - loss: 0.0039 - accuracy: 1.0000 - val_loss: 11.7027 - val_accuracy: 0.2667\n",
      "Epoch 8/10\n"
     ]
    },
    {
     "name": "stderr",
     "output_type": "stream",
     "text": [
      "[codecarbon INFO @ 10:54:18] Energy consumed for RAM : 0.000072 kWh. RAM Power : 2.8654117584228516 W\n",
      "[codecarbon INFO @ 10:54:18] Energy consumed for all CPUs : 0.000314 kWh. All CPUs Power : 12.5 W\n",
      "[codecarbon INFO @ 10:54:18] 0.000386 kWh of electricity used since the begining.\n"
     ]
    },
    {
     "name": "stdout",
     "output_type": "stream",
     "text": [
      "1/1 [==============================] - ETA: 0s - loss: 0.0043 - accuracy: 1.0000"
     ]
    },
    {
     "name": "stderr",
     "output_type": "stream",
     "text": [
      "[codecarbon INFO @ 10:54:24] Energy consumed for RAM : 0.001147 kWh. RAM Power : 2.8654117584228516 W\n",
      "[codecarbon INFO @ 10:54:24] Energy consumed for all CPUs : 0.005006 kWh. All CPUs Power : 12.5 W\n",
      "[codecarbon INFO @ 10:54:24] 0.006153 kWh of electricity used since the begining.\n"
     ]
    },
    {
     "name": "stdout",
     "output_type": "stream",
     "text": [
      "\n",
      "Epoch 8: saving model to model_inception_bin.h5\n",
      "1/1 [==============================] - 9s 9s/step - loss: 0.0043 - accuracy: 1.0000 - val_loss: 10.2557 - val_accuracy: 0.2667\n",
      "Epoch 9/10\n",
      "1/1 [==============================] - ETA: 0s - loss: 0.0033 - accuracy: 1.0000"
     ]
    },
    {
     "name": "stderr",
     "output_type": "stream",
     "text": [
      "[codecarbon INFO @ 10:54:33] Energy consumed for RAM : 0.000084 kWh. RAM Power : 2.8654117584228516 W\n",
      "[codecarbon INFO @ 10:54:33] Energy consumed for all CPUs : 0.000367 kWh. All CPUs Power : 12.5 W\n",
      "[codecarbon INFO @ 10:54:33] 0.000450 kWh of electricity used since the begining.\n"
     ]
    },
    {
     "name": "stdout",
     "output_type": "stream",
     "text": [
      "\n",
      "Epoch 9: saving model to model_inception_bin.h5\n",
      "1/1 [==============================] - 10s 10s/step - loss: 0.0033 - accuracy: 1.0000 - val_loss: 8.9962 - val_accuracy: 0.2000\n",
      "Epoch 10/10\n"
     ]
    },
    {
     "name": "stderr",
     "output_type": "stream",
     "text": [
      "[codecarbon INFO @ 10:54:39] Energy consumed for RAM : 0.001159 kWh. RAM Power : 2.8654117584228516 W\n",
      "[codecarbon INFO @ 10:54:39] Energy consumed for all CPUs : 0.005059 kWh. All CPUs Power : 12.5 W\n",
      "[codecarbon INFO @ 10:54:39] 0.006217 kWh of electricity used since the begining.\n"
     ]
    },
    {
     "name": "stdout",
     "output_type": "stream",
     "text": [
      "1/1 [==============================] - ETA: 0s - loss: 9.7199e-04 - accuracy: 1.0000\n",
      "Epoch 10: saving model to model_inception_bin.h5\n",
      "1/1 [==============================] - 10s 10s/step - loss: 9.7199e-04 - accuracy: 1.0000 - val_loss: 8.4806 - val_accuracy: 0.2000\n"
     ]
    },
    {
     "name": "stderr",
     "output_type": "stream",
     "text": [
      "[codecarbon INFO @ 10:54:45] Energy consumed for RAM : 0.000093 kWh. RAM Power : 2.8654117584228516 W\n",
      "[codecarbon INFO @ 10:54:45] Energy consumed for all CPUs : 0.000408 kWh. All CPUs Power : 12.5 W\n",
      "[codecarbon INFO @ 10:54:45] 0.000501 kWh of electricity used since the begining.\n"
     ]
    },
    {
     "name": "stdout",
     "output_type": "stream",
     "text": [
      "Emissions: 2.7581435163623945e-05 kg\n"
     ]
    },
    {
     "name": "stderr",
     "output_type": "stream",
     "text": [
      "[codecarbon INFO @ 10:54:54] Energy consumed for RAM : 0.001171 kWh. RAM Power : 2.8654117584228516 W\n",
      "[codecarbon INFO @ 10:54:54] Energy consumed for all CPUs : 0.005111 kWh. All CPUs Power : 12.5 W\n",
      "[codecarbon INFO @ 10:54:54] 0.006281 kWh of electricity used since the begining.\n",
      "[codecarbon INFO @ 10:55:09] Energy consumed for RAM : 0.001183 kWh. RAM Power : 2.8654117584228516 W\n",
      "[codecarbon INFO @ 10:55:09] Energy consumed for all CPUs : 0.005163 kWh. All CPUs Power : 12.5 W\n",
      "[codecarbon INFO @ 10:55:09] 0.006345 kWh of electricity used since the begining.\n",
      "[codecarbon INFO @ 10:55:24] Energy consumed for RAM : 0.001195 kWh. RAM Power : 2.8654117584228516 W\n",
      "[codecarbon INFO @ 10:55:24] Energy consumed for all CPUs : 0.005215 kWh. All CPUs Power : 12.5 W\n",
      "[codecarbon INFO @ 10:55:24] 0.006410 kWh of electricity used since the begining.\n",
      "[codecarbon INFO @ 10:55:39] Energy consumed for RAM : 0.001207 kWh. RAM Power : 2.8654117584228516 W\n",
      "[codecarbon INFO @ 10:55:39] Energy consumed for all CPUs : 0.005267 kWh. All CPUs Power : 12.5 W\n",
      "[codecarbon INFO @ 10:55:39] 0.006474 kWh of electricity used since the begining.\n",
      "[codecarbon INFO @ 10:55:54] Energy consumed for RAM : 0.001219 kWh. RAM Power : 2.8654117584228516 W\n",
      "[codecarbon INFO @ 10:55:54] Energy consumed for all CPUs : 0.005319 kWh. All CPUs Power : 12.5 W\n",
      "[codecarbon INFO @ 10:55:54] 0.006538 kWh of electricity used since the begining.\n",
      "[codecarbon INFO @ 10:56:09] Energy consumed for RAM : 0.001230 kWh. RAM Power : 2.8654117584228516 W\n",
      "[codecarbon INFO @ 10:56:09] Energy consumed for all CPUs : 0.005371 kWh. All CPUs Power : 12.5 W\n",
      "[codecarbon INFO @ 10:56:09] 0.006602 kWh of electricity used since the begining.\n",
      "[codecarbon INFO @ 10:56:24] Energy consumed for RAM : 0.001242 kWh. RAM Power : 2.8654117584228516 W\n",
      "[codecarbon INFO @ 10:56:24] Energy consumed for all CPUs : 0.005423 kWh. All CPUs Power : 12.5 W\n",
      "[codecarbon INFO @ 10:56:24] 0.006666 kWh of electricity used since the begining.\n",
      "[codecarbon INFO @ 10:56:39] Energy consumed for RAM : 0.001254 kWh. RAM Power : 2.8654117584228516 W\n",
      "[codecarbon INFO @ 10:56:39] Energy consumed for all CPUs : 0.005475 kWh. All CPUs Power : 12.5 W\n",
      "[codecarbon INFO @ 10:56:39] 0.006730 kWh of electricity used since the begining.\n",
      "[codecarbon INFO @ 10:56:54] Energy consumed for RAM : 0.001266 kWh. RAM Power : 2.8654117584228516 W\n",
      "[codecarbon INFO @ 10:56:54] Energy consumed for all CPUs : 0.005527 kWh. All CPUs Power : 12.5 W\n",
      "[codecarbon INFO @ 10:56:54] 0.006794 kWh of electricity used since the begining.\n",
      "[codecarbon INFO @ 10:57:09] Energy consumed for RAM : 0.001278 kWh. RAM Power : 2.8654117584228516 W\n",
      "[codecarbon INFO @ 10:57:09] Energy consumed for all CPUs : 0.005580 kWh. All CPUs Power : 12.5 W\n",
      "[codecarbon INFO @ 10:57:09] 0.006858 kWh of electricity used since the begining.\n",
      "[codecarbon INFO @ 10:57:24] Energy consumed for RAM : 0.001290 kWh. RAM Power : 2.8654117584228516 W\n",
      "[codecarbon INFO @ 10:57:24] Energy consumed for all CPUs : 0.005632 kWh. All CPUs Power : 12.5 W\n",
      "[codecarbon INFO @ 10:57:24] 0.006922 kWh of electricity used since the begining.\n",
      "[codecarbon INFO @ 10:57:39] Energy consumed for RAM : 0.001302 kWh. RAM Power : 2.8654117584228516 W\n",
      "[codecarbon INFO @ 10:57:39] Energy consumed for all CPUs : 0.005684 kWh. All CPUs Power : 12.5 W\n",
      "[codecarbon INFO @ 10:57:39] 0.006986 kWh of electricity used since the begining.\n",
      "[codecarbon INFO @ 10:57:54] Energy consumed for RAM : 0.001314 kWh. RAM Power : 2.8654117584228516 W\n",
      "[codecarbon INFO @ 10:57:54] Energy consumed for all CPUs : 0.005736 kWh. All CPUs Power : 12.5 W\n",
      "[codecarbon INFO @ 10:57:54] 0.007050 kWh of electricity used since the begining.\n",
      "[codecarbon INFO @ 10:58:09] Energy consumed for RAM : 0.001326 kWh. RAM Power : 2.8654117584228516 W\n",
      "[codecarbon INFO @ 10:58:09] Energy consumed for all CPUs : 0.005788 kWh. All CPUs Power : 12.5 W\n",
      "[codecarbon INFO @ 10:58:09] 0.007114 kWh of electricity used since the begining.\n",
      "[codecarbon INFO @ 10:58:24] Energy consumed for RAM : 0.001338 kWh. RAM Power : 2.8654117584228516 W\n",
      "[codecarbon INFO @ 10:58:24] Energy consumed for all CPUs : 0.005840 kWh. All CPUs Power : 12.5 W\n",
      "[codecarbon INFO @ 10:58:24] 0.007178 kWh of electricity used since the begining.\n",
      "[codecarbon INFO @ 10:58:39] Energy consumed for RAM : 0.001350 kWh. RAM Power : 2.8654117584228516 W\n",
      "[codecarbon INFO @ 10:58:39] Energy consumed for all CPUs : 0.005892 kWh. All CPUs Power : 12.5 W\n",
      "[codecarbon INFO @ 10:58:39] 0.007242 kWh of electricity used since the begining.\n",
      "[codecarbon INFO @ 10:58:54] Energy consumed for RAM : 0.001362 kWh. RAM Power : 2.8654117584228516 W\n",
      "[codecarbon INFO @ 10:58:54] Energy consumed for all CPUs : 0.005944 kWh. All CPUs Power : 12.5 W\n",
      "[codecarbon INFO @ 10:58:54] 0.007306 kWh of electricity used since the begining.\n",
      "[codecarbon INFO @ 10:59:09] Energy consumed for RAM : 0.001374 kWh. RAM Power : 2.8654117584228516 W\n",
      "[codecarbon INFO @ 10:59:09] Energy consumed for all CPUs : 0.005996 kWh. All CPUs Power : 12.5 W\n",
      "[codecarbon INFO @ 10:59:09] 0.007370 kWh of electricity used since the begining.\n",
      "[codecarbon INFO @ 10:59:24] Energy consumed for RAM : 0.001386 kWh. RAM Power : 2.8654117584228516 W\n",
      "[codecarbon INFO @ 10:59:24] Energy consumed for all CPUs : 0.006048 kWh. All CPUs Power : 12.5 W\n",
      "[codecarbon INFO @ 10:59:24] 0.007434 kWh of electricity used since the begining.\n",
      "[codecarbon INFO @ 10:59:39] Energy consumed for RAM : 0.001398 kWh. RAM Power : 2.8654117584228516 W\n",
      "[codecarbon INFO @ 10:59:39] Energy consumed for all CPUs : 0.006100 kWh. All CPUs Power : 12.5 W\n",
      "[codecarbon INFO @ 10:59:39] 0.007498 kWh of electricity used since the begining.\n",
      "[codecarbon INFO @ 10:59:54] Energy consumed for RAM : 0.001410 kWh. RAM Power : 2.8654117584228516 W\n",
      "[codecarbon INFO @ 10:59:55] Energy consumed for all CPUs : 0.006153 kWh. All CPUs Power : 12.5 W\n",
      "[codecarbon INFO @ 10:59:55] 0.007562 kWh of electricity used since the begining.\n",
      "[codecarbon INFO @ 11:00:10] Energy consumed for RAM : 0.001421 kWh. RAM Power : 2.8654117584228516 W\n",
      "[codecarbon INFO @ 11:00:10] Energy consumed for all CPUs : 0.006205 kWh. All CPUs Power : 12.5 W\n",
      "[codecarbon INFO @ 11:00:10] 0.007626 kWh of electricity used since the begining.\n",
      "[codecarbon INFO @ 11:00:25] Energy consumed for RAM : 0.001433 kWh. RAM Power : 2.8654117584228516 W\n",
      "[codecarbon INFO @ 11:00:25] Energy consumed for all CPUs : 0.006257 kWh. All CPUs Power : 12.5 W\n",
      "[codecarbon INFO @ 11:00:25] 0.007690 kWh of electricity used since the begining.\n",
      "[codecarbon INFO @ 11:00:40] Energy consumed for RAM : 0.001445 kWh. RAM Power : 2.8654117584228516 W\n",
      "[codecarbon INFO @ 11:00:40] Energy consumed for all CPUs : 0.006309 kWh. All CPUs Power : 12.5 W\n",
      "[codecarbon INFO @ 11:00:40] 0.007754 kWh of electricity used since the begining.\n",
      "[codecarbon INFO @ 11:00:55] Energy consumed for RAM : 0.001457 kWh. RAM Power : 2.8654117584228516 W\n",
      "[codecarbon INFO @ 11:00:55] Energy consumed for all CPUs : 0.006361 kWh. All CPUs Power : 12.5 W\n",
      "[codecarbon INFO @ 11:00:55] 0.007818 kWh of electricity used since the begining.\n",
      "[codecarbon INFO @ 11:01:10] Energy consumed for RAM : 0.001469 kWh. RAM Power : 2.8654117584228516 W\n",
      "[codecarbon INFO @ 11:01:10] Energy consumed for all CPUs : 0.006413 kWh. All CPUs Power : 12.5 W\n",
      "[codecarbon INFO @ 11:01:10] 0.007882 kWh of electricity used since the begining.\n",
      "[codecarbon INFO @ 11:01:25] Energy consumed for RAM : 0.001481 kWh. RAM Power : 2.8654117584228516 W\n",
      "[codecarbon INFO @ 11:01:25] Energy consumed for all CPUs : 0.006465 kWh. All CPUs Power : 12.5 W\n",
      "[codecarbon INFO @ 11:01:25] 0.007946 kWh of electricity used since the begining.\n",
      "[codecarbon INFO @ 11:01:40] Energy consumed for RAM : 0.001493 kWh. RAM Power : 2.8654117584228516 W\n",
      "[codecarbon INFO @ 11:01:40] Energy consumed for all CPUs : 0.006517 kWh. All CPUs Power : 12.5 W\n",
      "[codecarbon INFO @ 11:01:40] 0.008010 kWh of electricity used since the begining.\n",
      "[codecarbon INFO @ 11:01:55] Energy consumed for RAM : 0.001505 kWh. RAM Power : 2.8654117584228516 W\n",
      "[codecarbon INFO @ 11:01:55] Energy consumed for all CPUs : 0.006569 kWh. All CPUs Power : 12.5 W\n",
      "[codecarbon INFO @ 11:01:55] 0.008074 kWh of electricity used since the begining.\n",
      "[codecarbon INFO @ 11:02:10] Energy consumed for RAM : 0.001517 kWh. RAM Power : 2.8654117584228516 W\n",
      "[codecarbon INFO @ 11:02:10] Energy consumed for all CPUs : 0.006621 kWh. All CPUs Power : 12.5 W\n",
      "[codecarbon INFO @ 11:02:10] 0.008138 kWh of electricity used since the begining.\n",
      "[codecarbon INFO @ 11:02:25] Energy consumed for RAM : 0.001529 kWh. RAM Power : 2.8654117584228516 W\n",
      "[codecarbon INFO @ 11:02:25] Energy consumed for all CPUs : 0.006673 kWh. All CPUs Power : 12.5 W\n",
      "[codecarbon INFO @ 11:02:25] 0.008202 kWh of electricity used since the begining.\n",
      "[codecarbon INFO @ 11:02:40] Energy consumed for RAM : 0.001541 kWh. RAM Power : 2.8654117584228516 W\n",
      "[codecarbon INFO @ 11:02:40] Energy consumed for all CPUs : 0.006726 kWh. All CPUs Power : 12.5 W\n",
      "[codecarbon INFO @ 11:02:40] 0.008266 kWh of electricity used since the begining.\n",
      "[codecarbon INFO @ 11:02:55] Energy consumed for RAM : 0.001553 kWh. RAM Power : 2.8654117584228516 W\n",
      "[codecarbon INFO @ 11:02:55] Energy consumed for all CPUs : 0.006778 kWh. All CPUs Power : 12.5 W\n",
      "[codecarbon INFO @ 11:02:55] 0.008330 kWh of electricity used since the begining.\n",
      "[codecarbon INFO @ 11:03:10] Energy consumed for RAM : 0.001565 kWh. RAM Power : 2.8654117584228516 W\n",
      "[codecarbon INFO @ 11:03:10] Energy consumed for all CPUs : 0.006830 kWh. All CPUs Power : 12.5 W\n",
      "[codecarbon INFO @ 11:03:10] 0.008394 kWh of electricity used since the begining.\n",
      "[codecarbon INFO @ 11:03:25] Energy consumed for RAM : 0.001577 kWh. RAM Power : 2.8654117584228516 W\n",
      "[codecarbon INFO @ 11:03:25] Energy consumed for all CPUs : 0.006882 kWh. All CPUs Power : 12.5 W\n",
      "[codecarbon INFO @ 11:03:25] 0.008458 kWh of electricity used since the begining.\n",
      "[codecarbon INFO @ 11:03:40] Energy consumed for RAM : 0.001589 kWh. RAM Power : 2.8654117584228516 W\n",
      "[codecarbon INFO @ 11:03:40] Energy consumed for all CPUs : 0.006934 kWh. All CPUs Power : 12.5 W\n",
      "[codecarbon INFO @ 11:03:40] 0.008522 kWh of electricity used since the begining.\n",
      "[codecarbon INFO @ 11:03:55] Energy consumed for RAM : 0.001600 kWh. RAM Power : 2.8654117584228516 W\n",
      "[codecarbon INFO @ 11:03:55] Energy consumed for all CPUs : 0.006986 kWh. All CPUs Power : 12.5 W\n",
      "[codecarbon INFO @ 11:03:55] 0.008587 kWh of electricity used since the begining.\n",
      "[codecarbon INFO @ 11:04:10] Energy consumed for RAM : 0.001612 kWh. RAM Power : 2.8654117584228516 W\n",
      "[codecarbon INFO @ 11:04:10] Energy consumed for all CPUs : 0.007038 kWh. All CPUs Power : 12.5 W\n",
      "[codecarbon INFO @ 11:04:10] 0.008651 kWh of electricity used since the begining.\n",
      "[codecarbon INFO @ 11:04:25] Energy consumed for RAM : 0.001624 kWh. RAM Power : 2.8654117584228516 W\n",
      "[codecarbon INFO @ 11:04:25] Energy consumed for all CPUs : 0.007090 kWh. All CPUs Power : 12.5 W\n",
      "[codecarbon INFO @ 11:04:25] 0.008715 kWh of electricity used since the begining.\n",
      "[codecarbon INFO @ 11:04:40] Energy consumed for RAM : 0.001636 kWh. RAM Power : 2.8654117584228516 W\n",
      "[codecarbon INFO @ 11:04:40] Energy consumed for all CPUs : 0.007142 kWh. All CPUs Power : 12.5 W\n",
      "[codecarbon INFO @ 11:04:40] 0.008779 kWh of electricity used since the begining.\n",
      "[codecarbon INFO @ 11:04:55] Energy consumed for RAM : 0.001648 kWh. RAM Power : 2.8654117584228516 W\n",
      "[codecarbon INFO @ 11:04:55] Energy consumed for all CPUs : 0.007194 kWh. All CPUs Power : 12.5 W\n",
      "[codecarbon INFO @ 11:04:55] 0.008843 kWh of electricity used since the begining.\n",
      "[codecarbon INFO @ 11:05:10] Energy consumed for RAM : 0.001660 kWh. RAM Power : 2.8654117584228516 W\n",
      "[codecarbon INFO @ 11:05:10] Energy consumed for all CPUs : 0.007247 kWh. All CPUs Power : 12.5 W\n",
      "[codecarbon INFO @ 11:05:10] 0.008907 kWh of electricity used since the begining.\n",
      "[codecarbon INFO @ 11:05:25] Energy consumed for RAM : 0.001672 kWh. RAM Power : 2.8654117584228516 W\n",
      "[codecarbon INFO @ 11:05:25] Energy consumed for all CPUs : 0.007299 kWh. All CPUs Power : 12.5 W\n",
      "[codecarbon INFO @ 11:05:25] 0.008971 kWh of electricity used since the begining.\n"
     ]
    }
   ],
   "source": [
    "from tensorflow.keras.applications.inception_v3 import InceptionV3\n",
    "base_model = InceptionV3(weights=\"imagenet\", include_top=False)\n",
    "\n",
    "model = Sequential()\n",
    "model.add(base_model)\n",
    "#léger fine tuning\n",
    "model.add(GlobalAveragePooling2D())\n",
    "model.add(Dense(1024, activation='relu'))\n",
    "model.add(Dropout(0.5))\n",
    "model.add(Dense(5, activation='softmax'))\n",
    "\n",
    "from codecarbon import EmissionsTracker\n",
    "model.compile(loss='categorical_crossentropy',\n",
    "              optimizer='adam', metrics=['accuracy'])\n",
    "\n",
    "checkpoint = ModelCheckpoint('model_inception_bin.h5', \n",
    "                             verbose=1, \n",
    "                             save_best_only=False, \n",
    "                             save_weights_only=False,\n",
    "                             mode='auto')\n",
    "\n",
    "tracker = EmissionsTracker()\n",
    "tracker.start()\n",
    "model.fit(train_generator,\n",
    "          epochs=10,\n",
    "          validation_data=test_generator,\n",
    "          callbacks=[checkpoint])\n",
    "emissions: float = tracker.stop()\n",
    "print(f\"Emissions: {emissions} kg\")\n",
    "\n",
    "#carbonboard --filepath=\"examples/emissions.csv\" --port=3333\n"
   ]
  },
  {
   "cell_type": "code",
   "execution_count": 16,
   "metadata": {},
   "outputs": [
    {
     "name": "stdout",
     "output_type": "stream",
     "text": [
      "Downloading data from https://storage.googleapis.com/tensorflow/keras-applications/densenet/densenet201_weights_tf_dim_ordering_tf_kernels_notop.h5\n",
      "74836368/74836368 [==============================] - 22s 0us/step\n"
     ]
    },
    {
     "name": "stderr",
     "output_type": "stream",
     "text": [
      "[codecarbon INFO @ 10:18:46] [setup] RAM Tracking...\n",
      "[codecarbon INFO @ 10:18:46] [setup] GPU Tracking...\n",
      "[codecarbon INFO @ 10:18:46] No GPU found.\n",
      "[codecarbon INFO @ 10:18:46] [setup] CPU Tracking...\n",
      "[codecarbon WARNING @ 10:18:46] No CPU tracking mode found. Falling back on CPU constant mode.\n",
      "[codecarbon INFO @ 10:18:49] CPU Model on constant consumption mode: Intel(R) Core(TM) i5-10210U CPU @ 1.60GHz\n",
      "[codecarbon INFO @ 10:18:49] >>> Tracker's metadata:\n",
      "[codecarbon INFO @ 10:18:49]   Platform system: Windows-10-10.0.19041-SP0\n",
      "[codecarbon INFO @ 10:18:49]   Python version: 3.8.3\n",
      "[codecarbon INFO @ 10:18:49]   Available RAM : 7.641 GB\n",
      "[codecarbon INFO @ 10:18:49]   CPU count: 8\n",
      "[codecarbon INFO @ 10:18:49]   CPU model: Intel(R) Core(TM) i5-10210U CPU @ 1.60GHz\n",
      "[codecarbon INFO @ 10:18:49]   GPU count: None\n",
      "[codecarbon INFO @ 10:18:49]   GPU model: None\n"
     ]
    },
    {
     "name": "stdout",
     "output_type": "stream",
     "text": [
      "Epoch 1/10\n"
     ]
    },
    {
     "name": "stderr",
     "output_type": "stream",
     "text": [
      "[codecarbon INFO @ 10:19:04] Energy consumed for RAM : 0.000012 kWh. RAM Power : 2.8654117584228516 W\n",
      "[codecarbon INFO @ 10:19:04] Energy consumed for all CPUs : 0.000052 kWh. All CPUs Power : 12.5 W\n",
      "[codecarbon INFO @ 10:19:04] 0.000064 kWh of electricity used since the begining.\n",
      "[codecarbon INFO @ 10:19:19] Energy consumed for RAM : 0.000024 kWh. RAM Power : 2.8654117584228516 W\n",
      "[codecarbon INFO @ 10:19:19] Energy consumed for all CPUs : 0.000104 kWh. All CPUs Power : 12.5 W\n",
      "[codecarbon INFO @ 10:19:19] 0.000128 kWh of electricity used since the begining.\n",
      "[codecarbon INFO @ 10:19:34] Energy consumed for RAM : 0.000036 kWh. RAM Power : 2.8654117584228516 W\n",
      "[codecarbon INFO @ 10:19:34] Energy consumed for all CPUs : 0.000156 kWh. All CPUs Power : 12.5 W\n",
      "[codecarbon INFO @ 10:19:34] 0.000192 kWh of electricity used since the begining.\n",
      "[codecarbon INFO @ 10:19:49] Energy consumed for RAM : 0.000048 kWh. RAM Power : 2.8654117584228516 W\n",
      "[codecarbon INFO @ 10:19:49] Energy consumed for all CPUs : 0.000208 kWh. All CPUs Power : 12.5 W\n",
      "[codecarbon INFO @ 10:19:49] 0.000256 kWh of electricity used since the begining.\n",
      "[codecarbon INFO @ 10:20:04] Energy consumed for RAM : 0.000060 kWh. RAM Power : 2.8654117584228516 W\n",
      "[codecarbon INFO @ 10:20:04] Energy consumed for all CPUs : 0.000260 kWh. All CPUs Power : 12.5 W\n",
      "[codecarbon INFO @ 10:20:04] 0.000320 kWh of electricity used since the begining.\n",
      "[codecarbon INFO @ 10:20:20] Energy consumed for RAM : 0.000072 kWh. RAM Power : 2.8654117584228516 W\n",
      "[codecarbon INFO @ 10:20:21] Energy consumed for all CPUs : 0.000318 kWh. All CPUs Power : 12.5 W\n",
      "[codecarbon INFO @ 10:20:21] 0.000390 kWh of electricity used since the begining.\n",
      "[codecarbon INFO @ 10:20:36] Energy consumed for RAM : 0.000084 kWh. RAM Power : 2.8654117584228516 W\n",
      "[codecarbon INFO @ 10:20:36] Energy consumed for all CPUs : 0.000370 kWh. All CPUs Power : 12.5 W\n",
      "[codecarbon INFO @ 10:20:36] 0.000454 kWh of electricity used since the begining.\n"
     ]
    },
    {
     "name": "stdout",
     "output_type": "stream",
     "text": [
      "1/1 [==============================] - ETA: 0s - loss: 2.0947 - accuracy: 0.2273"
     ]
    },
    {
     "name": "stderr",
     "output_type": "stream",
     "text": [
      "[codecarbon INFO @ 10:20:51] Energy consumed for RAM : 0.000096 kWh. RAM Power : 2.8654117584228516 W\n",
      "[codecarbon INFO @ 10:20:51] Energy consumed for all CPUs : 0.000421 kWh. All CPUs Power : 12.5 W\n",
      "[codecarbon INFO @ 10:20:51] 0.000518 kWh of electricity used since the begining.\n"
     ]
    },
    {
     "name": "stdout",
     "output_type": "stream",
     "text": [
      "\n",
      "Epoch 1: saving model to model_densenet.h5\n",
      "1/1 [==============================] - 125s 125s/step - loss: 2.0947 - accuracy: 0.2273 - val_loss: 0.8799 - val_accuracy: 0.6667\n",
      "Epoch 2/10\n"
     ]
    },
    {
     "name": "stderr",
     "output_type": "stream",
     "text": [
      "[codecarbon INFO @ 10:21:06] Energy consumed for RAM : 0.000108 kWh. RAM Power : 2.8654117584228516 W\n",
      "[codecarbon INFO @ 10:21:07] Energy consumed for all CPUs : 0.000476 kWh. All CPUs Power : 12.5 W\n",
      "[codecarbon INFO @ 10:21:07] 0.000585 kWh of electricity used since the begining.\n"
     ]
    },
    {
     "name": "stdout",
     "output_type": "stream",
     "text": [
      "1/1 [==============================] - ETA: 0s - loss: 0.6791 - accuracy: 0.7727\n",
      "Epoch 2: saving model to model_densenet.h5\n"
     ]
    },
    {
     "name": "stderr",
     "output_type": "stream",
     "text": [
      "[codecarbon INFO @ 10:21:21] Energy consumed for RAM : 0.000120 kWh. RAM Power : 2.8654117584228516 W\n",
      "[codecarbon INFO @ 10:21:21] Energy consumed for all CPUs : 0.000528 kWh. All CPUs Power : 12.5 W\n",
      "[codecarbon INFO @ 10:21:21] 0.000648 kWh of electricity used since the begining.\n"
     ]
    },
    {
     "name": "stdout",
     "output_type": "stream",
     "text": [
      "1/1 [==============================] - 29s 29s/step - loss: 0.6791 - accuracy: 0.7727 - val_loss: 0.2064 - val_accuracy: 1.0000\n",
      "Epoch 3/10\n"
     ]
    },
    {
     "name": "stderr",
     "output_type": "stream",
     "text": [
      "[codecarbon INFO @ 10:21:36] Energy consumed for RAM : 0.000132 kWh. RAM Power : 2.8654117584228516 W\n",
      "[codecarbon INFO @ 10:21:37] Energy consumed for all CPUs : 0.000581 kWh. All CPUs Power : 12.5 W\n",
      "[codecarbon INFO @ 10:21:37] 0.000713 kWh of electricity used since the begining.\n"
     ]
    },
    {
     "name": "stdout",
     "output_type": "stream",
     "text": [
      "1/1 [==============================] - ETA: 0s - loss: 0.0291 - accuracy: 1.0000\n",
      "Epoch 3: saving model to model_densenet.h5\n",
      "1/1 [==============================] - 24s 24s/step - loss: 0.0291 - accuracy: 1.0000 - val_loss: 0.4299 - val_accuracy: 0.7333\n",
      "Epoch 4/10\n"
     ]
    },
    {
     "name": "stderr",
     "output_type": "stream",
     "text": [
      "[codecarbon INFO @ 10:21:51] Energy consumed for RAM : 0.000144 kWh. RAM Power : 2.8654117584228516 W\n",
      "[codecarbon INFO @ 10:21:52] Energy consumed for all CPUs : 0.000632 kWh. All CPUs Power : 12.5 W\n",
      "[codecarbon INFO @ 10:21:52] 0.000777 kWh of electricity used since the begining.\n"
     ]
    },
    {
     "name": "stdout",
     "output_type": "stream",
     "text": [
      "1/1 [==============================] - ETA: 0s - loss: 0.0057 - accuracy: 1.0000"
     ]
    },
    {
     "name": "stderr",
     "output_type": "stream",
     "text": [
      "[codecarbon INFO @ 10:22:07] Energy consumed for RAM : 0.000156 kWh. RAM Power : 2.8654117584228516 W\n",
      "[codecarbon INFO @ 10:22:07] Energy consumed for all CPUs : 0.000685 kWh. All CPUs Power : 12.5 W\n",
      "[codecarbon INFO @ 10:22:07] 0.000841 kWh of electricity used since the begining.\n"
     ]
    },
    {
     "name": "stdout",
     "output_type": "stream",
     "text": [
      "\n",
      "Epoch 4: saving model to model_densenet.h5\n",
      "1/1 [==============================] - 22s 22s/step - loss: 0.0057 - accuracy: 1.0000 - val_loss: 1.9404 - val_accuracy: 0.3333\n",
      "Epoch 5/10\n"
     ]
    },
    {
     "name": "stderr",
     "output_type": "stream",
     "text": [
      "[codecarbon INFO @ 10:22:22] Energy consumed for RAM : 0.000168 kWh. RAM Power : 2.8654117584228516 W\n",
      "[codecarbon INFO @ 10:22:22] Energy consumed for all CPUs : 0.000737 kWh. All CPUs Power : 12.5 W\n",
      "[codecarbon INFO @ 10:22:22] 0.000905 kWh of electricity used since the begining.\n"
     ]
    },
    {
     "name": "stdout",
     "output_type": "stream",
     "text": [
      "1/1 [==============================] - ETA: 0s - loss: 0.0016 - accuracy: 1.0000\n",
      "Epoch 5: saving model to model_densenet.h5\n",
      "1/1 [==============================] - 22s 22s/step - loss: 0.0016 - accuracy: 1.0000 - val_loss: 4.3807 - val_accuracy: 0.2000\n",
      "Epoch 6/10\n"
     ]
    },
    {
     "name": "stderr",
     "output_type": "stream",
     "text": [
      "[codecarbon INFO @ 10:22:37] Energy consumed for RAM : 0.000180 kWh. RAM Power : 2.8654117584228516 W\n",
      "[codecarbon INFO @ 10:22:37] Energy consumed for all CPUs : 0.000789 kWh. All CPUs Power : 12.5 W\n",
      "[codecarbon INFO @ 10:22:37] 0.000969 kWh of electricity used since the begining.\n"
     ]
    },
    {
     "name": "stdout",
     "output_type": "stream",
     "text": [
      "1/1 [==============================] - ETA: 0s - loss: 0.0048 - accuracy: 1.0000"
     ]
    },
    {
     "name": "stderr",
     "output_type": "stream",
     "text": [
      "[codecarbon INFO @ 10:22:52] Energy consumed for RAM : 0.000192 kWh. RAM Power : 2.8654117584228516 W\n",
      "[codecarbon INFO @ 10:22:52] Energy consumed for all CPUs : 0.000841 kWh. All CPUs Power : 12.5 W\n",
      "[codecarbon INFO @ 10:22:52] 0.001033 kWh of electricity used since the begining.\n"
     ]
    },
    {
     "name": "stdout",
     "output_type": "stream",
     "text": [
      "\n",
      "Epoch 6: saving model to model_densenet.h5\n",
      "1/1 [==============================] - 24s 24s/step - loss: 0.0048 - accuracy: 1.0000 - val_loss: 7.3300 - val_accuracy: 0.2000\n",
      "Epoch 7/10\n"
     ]
    },
    {
     "name": "stderr",
     "output_type": "stream",
     "text": [
      "[codecarbon INFO @ 10:23:07] Energy consumed for RAM : 0.000204 kWh. RAM Power : 2.8654117584228516 W\n",
      "[codecarbon INFO @ 10:23:07] Energy consumed for all CPUs : 0.000893 kWh. All CPUs Power : 12.5 W\n",
      "[codecarbon INFO @ 10:23:07] 0.001097 kWh of electricity used since the begining.\n"
     ]
    },
    {
     "name": "stdout",
     "output_type": "stream",
     "text": [
      "1/1 [==============================] - ETA: 0s - loss: 0.0066 - accuracy: 1.0000\n",
      "Epoch 7: saving model to model_densenet.h5\n",
      "1/1 [==============================] - 22s 22s/step - loss: 0.0066 - accuracy: 1.0000 - val_loss: 9.8864 - val_accuracy: 0.2000\n",
      "Epoch 8/10\n"
     ]
    },
    {
     "name": "stderr",
     "output_type": "stream",
     "text": [
      "[codecarbon INFO @ 10:23:22] Energy consumed for RAM : 0.000216 kWh. RAM Power : 2.8654117584228516 W\n",
      "[codecarbon INFO @ 10:23:22] Energy consumed for all CPUs : 0.000945 kWh. All CPUs Power : 12.5 W\n",
      "[codecarbon INFO @ 10:23:22] 0.001161 kWh of electricity used since the begining.\n",
      "[codecarbon INFO @ 10:23:37] Energy consumed for RAM : 0.000228 kWh. RAM Power : 2.8654117584228516 W\n",
      "[codecarbon INFO @ 10:23:37] Energy consumed for all CPUs : 0.000997 kWh. All CPUs Power : 12.5 W\n",
      "[codecarbon INFO @ 10:23:37] 0.001225 kWh of electricity used since the begining.\n"
     ]
    },
    {
     "name": "stdout",
     "output_type": "stream",
     "text": [
      "1/1 [==============================] - ETA: 0s - loss: 0.0031 - accuracy: 1.0000\n",
      "Epoch 8: saving model to model_densenet.h5\n",
      "1/1 [==============================] - 24s 24s/step - loss: 0.0031 - accuracy: 1.0000 - val_loss: 12.4401 - val_accuracy: 0.2000\n",
      "Epoch 9/10\n"
     ]
    },
    {
     "name": "stderr",
     "output_type": "stream",
     "text": [
      "[codecarbon INFO @ 10:23:52] Energy consumed for RAM : 0.000240 kWh. RAM Power : 2.8654117584228516 W\n",
      "[codecarbon INFO @ 10:23:52] Energy consumed for all CPUs : 0.001050 kWh. All CPUs Power : 12.5 W\n",
      "[codecarbon INFO @ 10:23:52] 0.001290 kWh of electricity used since the begining.\n"
     ]
    },
    {
     "name": "stdout",
     "output_type": "stream",
     "text": [
      "1/1 [==============================] - ETA: 0s - loss: 0.0028 - accuracy: 1.0000\n",
      "Epoch 9: saving model to model_densenet.h5\n",
      "1/1 [==============================] - 23s 23s/step - loss: 0.0028 - accuracy: 1.0000 - val_loss: 14.9842 - val_accuracy: 0.2000\n",
      "Epoch 10/10\n"
     ]
    },
    {
     "name": "stderr",
     "output_type": "stream",
     "text": [
      "[codecarbon INFO @ 10:24:07] Energy consumed for RAM : 0.000252 kWh. RAM Power : 2.8654117584228516 W\n",
      "[codecarbon INFO @ 10:24:07] Energy consumed for all CPUs : 0.001102 kWh. All CPUs Power : 12.5 W\n",
      "[codecarbon INFO @ 10:24:07] 0.001353 kWh of electricity used since the begining.\n"
     ]
    },
    {
     "name": "stdout",
     "output_type": "stream",
     "text": [
      "1/1 [==============================] - ETA: 0s - loss: 2.1717e-04 - accuracy: 1.0000"
     ]
    },
    {
     "name": "stderr",
     "output_type": "stream",
     "text": [
      "[codecarbon INFO @ 10:24:22] Energy consumed for RAM : 0.000264 kWh. RAM Power : 2.8654117584228516 W\n",
      "[codecarbon INFO @ 10:24:22] Energy consumed for all CPUs : 0.001154 kWh. All CPUs Power : 12.5 W\n",
      "[codecarbon INFO @ 10:24:22] 0.001417 kWh of electricity used since the begining.\n"
     ]
    },
    {
     "name": "stdout",
     "output_type": "stream",
     "text": [
      "\n",
      "Epoch 10: saving model to model_densenet.h5\n",
      "1/1 [==============================] - 21s 21s/step - loss: 2.1717e-04 - accuracy: 1.0000 - val_loss: 17.5002 - val_accuracy: 0.2000\n"
     ]
    },
    {
     "name": "stderr",
     "output_type": "stream",
     "text": [
      "[codecarbon INFO @ 10:24:26] Energy consumed for RAM : 0.000267 kWh. RAM Power : 2.8654117584228516 W\n",
      "[codecarbon INFO @ 10:24:26] Energy consumed for all CPUs : 0.001169 kWh. All CPUs Power : 12.5 W\n",
      "[codecarbon INFO @ 10:24:26] 0.001436 kWh of electricity used since the begining.\n"
     ]
    },
    {
     "name": "stdout",
     "output_type": "stream",
     "text": [
      "Emissions: 7.900235453705965e-05 kg\n"
     ]
    }
   ],
   "source": [
    "from tensorflow.keras.applications.densenet import DenseNet201\n",
    "base_model = DenseNet201(weights=\"imagenet\", include_top=False)\n",
    "\n",
    "model = Sequential()\n",
    "model.add(base_model)\n",
    "#léger fine tuning\n",
    "model.add(GlobalAveragePooling2D())\n",
    "model.add(Dense(1024, activation='relu'))\n",
    "model.add(Dropout(0.5))\n",
    "model.add(Dense(5, activation='softmax'))\n",
    "\n",
    "from codecarbon import EmissionsTracker\n",
    "model.compile(loss='categorical_crossentropy',\n",
    "              optimizer='adam', metrics=['accuracy'])\n",
    "\n",
    "checkpoint = ModelCheckpoint('model_densenet.h5', \n",
    "                             verbose=1, \n",
    "                             save_best_only=False, \n",
    "                             save_weights_only=False,\n",
    "                             mode='auto')\n",
    "\n",
    "tracker = EmissionsTracker()\n",
    "tracker.start()\n",
    "model.fit(train_generator,\n",
    "          epochs=10,\n",
    "          validation_data=test_generator,\n",
    "          callbacks=[checkpoint])\n",
    "emissions: float = tracker.stop()\n",
    "print(f\"Emissions: {emissions} kg\")\n",
    "\n",
    "#carbonboard --filepath=\"examples/emissions.csv\" --port=3333\n"
   ]
  },
  {
   "cell_type": "code",
   "execution_count": null,
   "metadata": {},
   "outputs": [
    {
     "name": "stdout",
     "output_type": "stream",
     "text": [
      "WARNING:tensorflow:`input_shape` is undefined or non-square, or `rows` is not in [96, 128, 160, 192, 224]. Weights for input shape (224, 224) will be loaded as the default.\n",
      "Downloading data from https://storage.googleapis.com/tensorflow/keras-applications/mobilenet_v2/mobilenet_v2_weights_tf_dim_ordering_tf_kernels_1.0_224_no_top.h5\n",
      "5054464/9406464 [===============>..............] - ETA: 0s"
     ]
    },
    {
     "name": "stderr",
     "output_type": "stream",
     "text": [
      "[codecarbon INFO @ 10:33:53] Energy consumed for RAM : 0.000168 kWh. RAM Power : 2.8654117584228516 W\n"
     ]
    },
    {
     "name": "stdout",
     "output_type": "stream",
     "text": [
      "5971968/9406464 [==================>...........] - ETA: 0s"
     ]
    },
    {
     "name": "stderr",
     "output_type": "stream",
     "text": [
      "[codecarbon INFO @ 10:33:53] Energy consumed for all CPUs : 0.000733 kWh. All CPUs Power : 12.5 W\n",
      "[codecarbon INFO @ 10:33:53] 0.000901 kWh of electricity used since the begining.\n"
     ]
    },
    {
     "name": "stdout",
     "output_type": "stream",
     "text": [
      "9406464/9406464 [==============================] - 1s 0us/step\n"
     ]
    },
    {
     "name": "stderr",
     "output_type": "stream",
     "text": [
      "[codecarbon INFO @ 10:33:54] [setup] RAM Tracking...\n",
      "[codecarbon INFO @ 10:33:54] [setup] GPU Tracking...\n",
      "[codecarbon INFO @ 10:33:54] No GPU found.\n",
      "[codecarbon INFO @ 10:33:54] [setup] CPU Tracking...\n",
      "[codecarbon WARNING @ 10:33:54] No CPU tracking mode found. Falling back on CPU constant mode.\n",
      "[codecarbon INFO @ 10:33:57] CPU Model on constant consumption mode: Intel(R) Core(TM) i5-10210U CPU @ 1.60GHz\n",
      "[codecarbon INFO @ 10:33:57] >>> Tracker's metadata:\n",
      "[codecarbon INFO @ 10:33:57]   Platform system: Windows-10-10.0.19041-SP0\n",
      "[codecarbon INFO @ 10:33:57]   Python version: 3.8.3\n",
      "[codecarbon INFO @ 10:33:57]   Available RAM : 7.641 GB\n",
      "[codecarbon INFO @ 10:33:57]   CPU count: 8\n",
      "[codecarbon INFO @ 10:33:57]   CPU model: Intel(R) Core(TM) i5-10210U CPU @ 1.60GHz\n",
      "[codecarbon INFO @ 10:33:57]   GPU count: None\n",
      "[codecarbon INFO @ 10:33:57]   GPU model: None\n"
     ]
    },
    {
     "name": "stdout",
     "output_type": "stream",
     "text": [
      "Epoch 1/10\n"
     ]
    },
    {
     "name": "stderr",
     "output_type": "stream",
     "text": [
      "[codecarbon INFO @ 10:34:08] Energy consumed for RAM : 0.000180 kWh. RAM Power : 2.8654117584228516 W\n",
      "[codecarbon INFO @ 10:34:08] Energy consumed for all CPUs : 0.000785 kWh. All CPUs Power : 12.5 W\n",
      "[codecarbon INFO @ 10:34:08] 0.000965 kWh of electricity used since the begining.\n",
      "[codecarbon INFO @ 10:34:12] Energy consumed for RAM : 0.000012 kWh. RAM Power : 2.8654117584228516 W\n",
      "[codecarbon INFO @ 10:34:12] Energy consumed for all CPUs : 0.000052 kWh. All CPUs Power : 12.5 W\n",
      "[codecarbon INFO @ 10:34:12] 0.000064 kWh of electricity used since the begining.\n"
     ]
    },
    {
     "name": "stdout",
     "output_type": "stream",
     "text": [
      "1/1 [==============================] - ETA: 0s - loss: 2.1786 - accuracy: 0.3182\n",
      "Epoch 1: saving model to model_mobilenet.h5\n",
      "1/1 [==============================] - 21s 21s/step - loss: 2.1786 - accuracy: 0.3182 - val_loss: 1.1598 - val_accuracy: 0.5333\n",
      "Epoch 2/10\n",
      "1/1 [==============================] - ETA: 0s - loss: 0.3084 - accuracy: 0.9545\n",
      "Epoch 2: saving model to model_mobilenet.h5\n",
      "1/1 [==============================] - 4s 4s/step - loss: 0.3084 - accuracy: 0.9545 - val_loss: 1.3971 - val_accuracy: 0.6000\n",
      "Epoch 3/10\n"
     ]
    },
    {
     "name": "stderr",
     "output_type": "stream",
     "text": [
      "[codecarbon INFO @ 10:34:23] Energy consumed for RAM : 0.000192 kWh. RAM Power : 2.8654117584228516 W\n",
      "[codecarbon INFO @ 10:34:23] Energy consumed for all CPUs : 0.000838 kWh. All CPUs Power : 12.5 W\n",
      "[codecarbon INFO @ 10:34:23] 0.001030 kWh of electricity used since the begining.\n"
     ]
    },
    {
     "name": "stdout",
     "output_type": "stream",
     "text": [
      "1/1 [==============================] - ETA: 0s - loss: 0.0421 - accuracy: 1.0000\n",
      "Epoch 3: saving model to model_mobilenet.h5\n",
      "1/1 [==============================] - 4s 4s/step - loss: 0.0421 - accuracy: 1.0000 - val_loss: 1.6810 - val_accuracy: 0.6000\n",
      "Epoch 4/10\n"
     ]
    },
    {
     "name": "stderr",
     "output_type": "stream",
     "text": [
      "[codecarbon INFO @ 10:34:27] Energy consumed for RAM : 0.000024 kWh. RAM Power : 2.8654117584228516 W\n",
      "[codecarbon INFO @ 10:34:27] Energy consumed for all CPUs : 0.000104 kWh. All CPUs Power : 12.5 W\n",
      "[codecarbon INFO @ 10:34:27] 0.000128 kWh of electricity used since the begining.\n"
     ]
    },
    {
     "name": "stdout",
     "output_type": "stream",
     "text": [
      "1/1 [==============================] - ETA: 0s - loss: 0.0049 - accuracy: 1.0000\n",
      "Epoch 4: saving model to model_mobilenet.h5\n",
      "1/1 [==============================] - 4s 4s/step - loss: 0.0049 - accuracy: 1.0000 - val_loss: 2.1185 - val_accuracy: 0.6000\n",
      "Epoch 5/10\n",
      "1/1 [==============================] - ETA: 0s - loss: 0.0037 - accuracy: 1.0000\n",
      "Epoch 5: saving model to model_mobilenet.h5\n",
      "1/1 [==============================] - 4s 4s/step - loss: 0.0037 - accuracy: 1.0000 - val_loss: 2.5566 - val_accuracy: 0.6000\n",
      "Epoch 6/10\n",
      "1/1 [==============================] - ETA: 0s - loss: 7.4271e-04 - accuracy: 1.0000\n",
      "Epoch 6: saving model to model_mobilenet.h5\n"
     ]
    },
    {
     "name": "stderr",
     "output_type": "stream",
     "text": [
      "[codecarbon INFO @ 10:34:38] Energy consumed for RAM : 0.000204 kWh. RAM Power : 2.8654117584228516 W\n",
      "[codecarbon INFO @ 10:34:38] Energy consumed for all CPUs : 0.000890 kWh. All CPUs Power : 12.5 W\n",
      "[codecarbon INFO @ 10:34:38] 0.001094 kWh of electricity used since the begining.\n"
     ]
    },
    {
     "name": "stdout",
     "output_type": "stream",
     "text": [
      "1/1 [==============================] - 4s 4s/step - loss: 7.4271e-04 - accuracy: 1.0000 - val_loss: 3.0014 - val_accuracy: 0.6000\n",
      "Epoch 7/10\n",
      "1/1 [==============================] - ETA: 0s - loss: 6.9302e-04 - accuracy: 1.0000\n",
      "Epoch 7: saving model to model_mobilenet.h5\n"
     ]
    },
    {
     "name": "stderr",
     "output_type": "stream",
     "text": [
      "[codecarbon INFO @ 10:34:42] Energy consumed for RAM : 0.000036 kWh. RAM Power : 2.8654117584228516 W\n",
      "[codecarbon INFO @ 10:34:42] Energy consumed for all CPUs : 0.000157 kWh. All CPUs Power : 12.5 W\n",
      "[codecarbon INFO @ 10:34:42] 0.000193 kWh of electricity used since the begining.\n"
     ]
    },
    {
     "name": "stdout",
     "output_type": "stream",
     "text": [
      "1/1 [==============================] - 4s 4s/step - loss: 6.9302e-04 - accuracy: 1.0000 - val_loss: 3.4305 - val_accuracy: 0.6000\n",
      "Epoch 8/10\n",
      "1/1 [==============================] - ETA: 0s - loss: 0.0031 - accuracy: 1.0000\n",
      "Epoch 8: saving model to model_mobilenet.h5\n",
      "1/1 [==============================] - 4s 4s/step - loss: 0.0031 - accuracy: 1.0000 - val_loss: 3.8336 - val_accuracy: 0.5333\n",
      "Epoch 9/10\n",
      "1/1 [==============================] - ETA: 0s - loss: 3.9046e-04 - accuracy: 1.0000\n",
      "Epoch 9: saving model to model_mobilenet.h5\n",
      "1/1 [==============================] - 4s 4s/step - loss: 3.9046e-04 - accuracy: 1.0000 - val_loss: 4.1931 - val_accuracy: 0.5333\n",
      "Epoch 10/10\n"
     ]
    },
    {
     "name": "stderr",
     "output_type": "stream",
     "text": [
      "[codecarbon INFO @ 10:34:53] Energy consumed for RAM : 0.000216 kWh. RAM Power : 2.8654117584228516 W\n",
      "[codecarbon INFO @ 10:34:53] Energy consumed for all CPUs : 0.000942 kWh. All CPUs Power : 12.5 W\n",
      "[codecarbon INFO @ 10:34:53] 0.001158 kWh of electricity used since the begining.\n"
     ]
    },
    {
     "name": "stdout",
     "output_type": "stream",
     "text": [
      "1/1 [==============================] - ETA: 0s - loss: 1.5873e-04 - accuracy: 1.0000\n",
      "Epoch 10: saving model to model_mobilenet.h5\n",
      "1/1 [==============================] - 4s 4s/step - loss: 1.5873e-04 - accuracy: 1.0000 - val_loss: 4.5121 - val_accuracy: 0.5333\n"
     ]
    },
    {
     "name": "stderr",
     "output_type": "stream",
     "text": [
      "[codecarbon INFO @ 10:34:54] Energy consumed for RAM : 0.000046 kWh. RAM Power : 2.8654117584228516 W\n",
      "[codecarbon INFO @ 10:34:54] Energy consumed for all CPUs : 0.000200 kWh. All CPUs Power : 12.5 W\n",
      "[codecarbon INFO @ 10:34:54] 0.000245 kWh of electricity used since the begining.\n"
     ]
    },
    {
     "name": "stdout",
     "output_type": "stream",
     "text": [
      "Emissions: 1.3485666197131886e-05 kg\n"
     ]
    },
    {
     "name": "stderr",
     "output_type": "stream",
     "text": [
      "[codecarbon INFO @ 10:35:08] Energy consumed for RAM : 0.000228 kWh. RAM Power : 2.8654117584228516 W\n",
      "[codecarbon INFO @ 10:35:08] Energy consumed for all CPUs : 0.000994 kWh. All CPUs Power : 12.5 W\n",
      "[codecarbon INFO @ 10:35:08] 0.001222 kWh of electricity used since the begining.\n",
      "[codecarbon INFO @ 10:35:23] Energy consumed for RAM : 0.000240 kWh. RAM Power : 2.8654117584228516 W\n",
      "[codecarbon INFO @ 10:35:23] Energy consumed for all CPUs : 0.001046 kWh. All CPUs Power : 12.5 W\n",
      "[codecarbon INFO @ 10:35:23] 0.001286 kWh of electricity used since the begining.\n",
      "[codecarbon INFO @ 10:35:38] Energy consumed for RAM : 0.000252 kWh. RAM Power : 2.8654117584228516 W\n",
      "[codecarbon INFO @ 10:35:38] Energy consumed for all CPUs : 0.001098 kWh. All CPUs Power : 12.5 W\n",
      "[codecarbon INFO @ 10:35:38] 0.001350 kWh of electricity used since the begining.\n",
      "[codecarbon INFO @ 10:35:53] Energy consumed for RAM : 0.000264 kWh. RAM Power : 2.8654117584228516 W\n",
      "[codecarbon INFO @ 10:35:53] Energy consumed for all CPUs : 0.001150 kWh. All CPUs Power : 12.5 W\n",
      "[codecarbon INFO @ 10:35:53] 0.001414 kWh of electricity used since the begining.\n",
      "[codecarbon INFO @ 10:36:08] Energy consumed for RAM : 0.000275 kWh. RAM Power : 2.8654117584228516 W\n",
      "[codecarbon INFO @ 10:36:08] Energy consumed for all CPUs : 0.001202 kWh. All CPUs Power : 12.5 W\n",
      "[codecarbon INFO @ 10:36:08] 0.001478 kWh of electricity used since the begining.\n"
     ]
    }
   ],
   "source": [
    "from tensorflow.keras.applications.mobilenet_v2 import MobileNetV2\n",
    "base_model = MobileNetV2(weights='imagenet', include_top=False)\n",
    "\n",
    "model = Sequential()\n",
    "model.add(base_model)\n",
    "model.add(GlobalAveragePooling2D())\n",
    "model.add(Dense(1024, activation='relu'))\n",
    "model.add(Dropout(0.5))\n",
    "model.add(Dense(5, activation='softmax'))\n",
    "\n",
    "from codecarbon import EmissionsTracker\n",
    "model.compile(loss='categorical_crossentropy',\n",
    "              optimizer='adam', metrics=['accuracy'])\n",
    "\n",
    "checkpoint = ModelCheckpoint('model_mobilenet.h5', \n",
    "                             verbose=1, \n",
    "                             save_best_only=False, \n",
    "                             save_weights_only=False,\n",
    "                             mode='auto')\n",
    "\n",
    "tracker = EmissionsTracker()\n",
    "tracker.start()\n",
    "model.fit(train_generator,\n",
    "          epochs=10,\n",
    "          validation_data=test_generator,\n",
    "          callbacks=[checkpoint])\n",
    "emissions: float = tracker.stop()\n",
    "print(f\"Emissions: {emissions} kg\")\n",
    "\n",
    "#carbonboard --filepath=\"examples/emissions.csv\" --port=3333\n",
    "\n"
   ]
  },
  {
   "cell_type": "code",
   "execution_count": null,
   "metadata": {},
   "outputs": [
    {
     "name": "stdout",
     "output_type": "stream",
     "text": [
      "Downloading data from https://storage.googleapis.com/tensorflow/keras-applications/xception/xception_weights_tf_dim_ordering_tf_kernels_notop.h5\n",
      "34963456/83683744 [===========>..................] - ETA: 6s"
     ]
    },
    {
     "name": "stderr",
     "output_type": "stream",
     "text": [
      "[codecarbon INFO @ 10:37:23] Energy consumed for RAM : 0.000335 kWh. RAM Power : 2.8654117584228516 W\n",
      "[codecarbon INFO @ 10:37:23] Energy consumed for all CPUs : 0.001463 kWh. All CPUs Power : 12.5 W\n",
      "[codecarbon INFO @ 10:37:23] 0.001798 kWh of electricity used since the begining.\n"
     ]
    },
    {
     "name": "stdout",
     "output_type": "stream",
     "text": [
      "83683744/83683744 [==============================] - 9s 0us/step\n"
     ]
    },
    {
     "name": "stderr",
     "output_type": "stream",
     "text": [
      "[codecarbon INFO @ 10:37:29] [setup] RAM Tracking...\n",
      "[codecarbon INFO @ 10:37:29] [setup] GPU Tracking...\n",
      "[codecarbon INFO @ 10:37:29] No GPU found.\n",
      "[codecarbon INFO @ 10:37:29] [setup] CPU Tracking...\n",
      "[codecarbon WARNING @ 10:37:29] No CPU tracking mode found. Falling back on CPU constant mode.\n",
      "[codecarbon INFO @ 10:37:31] CPU Model on constant consumption mode: Intel(R) Core(TM) i5-10210U CPU @ 1.60GHz\n",
      "[codecarbon INFO @ 10:37:31] >>> Tracker's metadata:\n",
      "[codecarbon INFO @ 10:37:31]   Platform system: Windows-10-10.0.19041-SP0\n",
      "[codecarbon INFO @ 10:37:31]   Python version: 3.8.3\n",
      "[codecarbon INFO @ 10:37:31]   Available RAM : 7.641 GB\n",
      "[codecarbon INFO @ 10:37:31]   CPU count: 8\n",
      "[codecarbon INFO @ 10:37:31]   CPU model: Intel(R) Core(TM) i5-10210U CPU @ 1.60GHz\n",
      "[codecarbon INFO @ 10:37:31]   GPU count: None\n",
      "[codecarbon INFO @ 10:37:31]   GPU model: None\n"
     ]
    },
    {
     "name": "stdout",
     "output_type": "stream",
     "text": [
      "Epoch 1/10\n"
     ]
    },
    {
     "name": "stderr",
     "output_type": "stream",
     "text": [
      "[codecarbon INFO @ 10:37:38] Energy consumed for RAM : 0.000347 kWh. RAM Power : 2.8654117584228516 W\n",
      "[codecarbon INFO @ 10:37:38] Energy consumed for all CPUs : 0.001515 kWh. All CPUs Power : 12.5 W\n",
      "[codecarbon INFO @ 10:37:38] 0.001863 kWh of electricity used since the begining.\n",
      "[codecarbon INFO @ 10:37:46] Energy consumed for RAM : 0.000012 kWh. RAM Power : 2.8654117584228516 W\n",
      "[codecarbon INFO @ 10:37:46] Energy consumed for all CPUs : 0.000052 kWh. All CPUs Power : 12.5 W\n",
      "[codecarbon INFO @ 10:37:46] 0.000064 kWh of electricity used since the begining.\n",
      "[codecarbon INFO @ 10:37:54] Energy consumed for RAM : 0.000359 kWh. RAM Power : 2.8654117584228516 W\n",
      "[codecarbon INFO @ 10:37:54] Energy consumed for all CPUs : 0.001569 kWh. All CPUs Power : 12.5 W\n",
      "[codecarbon INFO @ 10:37:54] 0.001928 kWh of electricity used since the begining.\n"
     ]
    },
    {
     "name": "stdout",
     "output_type": "stream",
     "text": [
      "1/1 [==============================] - ETA: 0s - loss: 1.6035 - accuracy: 0.3636\n",
      "Epoch 1: saving model to model_xception.h5\n"
     ]
    },
    {
     "name": "stderr",
     "output_type": "stream",
     "text": [
      "[codecarbon INFO @ 10:38:01] Energy consumed for RAM : 0.000024 kWh. RAM Power : 2.8654117584228516 W\n",
      "[codecarbon INFO @ 10:38:01] Energy consumed for all CPUs : 0.000105 kWh. All CPUs Power : 12.5 W\n",
      "[codecarbon INFO @ 10:38:01] 0.000128 kWh of electricity used since the begining.\n"
     ]
    },
    {
     "name": "stdout",
     "output_type": "stream",
     "text": [
      "1/1 [==============================] - 31s 31s/step - loss: 1.6035 - accuracy: 0.3636 - val_loss: 1.2585 - val_accuracy: 0.5333\n",
      "Epoch 2/10\n"
     ]
    },
    {
     "name": "stderr",
     "output_type": "stream",
     "text": [
      "[codecarbon INFO @ 10:38:09] Energy consumed for RAM : 0.000371 kWh. RAM Power : 2.8654117584228516 W\n",
      "[codecarbon INFO @ 10:38:09] Energy consumed for all CPUs : 0.001620 kWh. All CPUs Power : 12.5 W\n",
      "[codecarbon INFO @ 10:38:09] 0.001991 kWh of electricity used since the begining.\n"
     ]
    },
    {
     "name": "stdout",
     "output_type": "stream",
     "text": [
      "1/1 [==============================] - ETA: 0s - loss: 1.1787 - accuracy: 0.7727\n",
      "Epoch 2: saving model to model_xception.h5\n",
      "1/1 [==============================] - 13s 13s/step - loss: 1.1787 - accuracy: 0.7727 - val_loss: 1.0196 - val_accuracy: 0.6667\n",
      "Epoch 3/10\n"
     ]
    },
    {
     "name": "stderr",
     "output_type": "stream",
     "text": [
      "[codecarbon INFO @ 10:38:16] Energy consumed for RAM : 0.000036 kWh. RAM Power : 2.8654117584228516 W\n",
      "[codecarbon INFO @ 10:38:16] Energy consumed for all CPUs : 0.000156 kWh. All CPUs Power : 12.5 W\n",
      "[codecarbon INFO @ 10:38:16] 0.000192 kWh of electricity used since the begining.\n",
      "[codecarbon INFO @ 10:38:24] Energy consumed for RAM : 0.000383 kWh. RAM Power : 2.8654117584228516 W\n",
      "[codecarbon INFO @ 10:38:24] Energy consumed for all CPUs : 0.001672 kWh. All CPUs Power : 12.5 W\n",
      "[codecarbon INFO @ 10:38:24] 0.002055 kWh of electricity used since the begining.\n"
     ]
    },
    {
     "name": "stdout",
     "output_type": "stream",
     "text": [
      "1/1 [==============================] - ETA: 0s - loss: 0.6642 - accuracy: 0.8636\n",
      "Epoch 3: saving model to model_xception.h5\n",
      "1/1 [==============================] - 12s 12s/step - loss: 0.6642 - accuracy: 0.8636 - val_loss: 0.7485 - val_accuracy: 0.9333\n",
      "Epoch 4/10\n"
     ]
    },
    {
     "name": "stderr",
     "output_type": "stream",
     "text": [
      "[codecarbon INFO @ 10:38:31] Energy consumed for RAM : 0.000048 kWh. RAM Power : 2.8654117584228516 W\n",
      "[codecarbon INFO @ 10:38:31] Energy consumed for all CPUs : 0.000209 kWh. All CPUs Power : 12.5 W\n",
      "[codecarbon INFO @ 10:38:31] 0.000256 kWh of electricity used since the begining.\n"
     ]
    },
    {
     "name": "stdout",
     "output_type": "stream",
     "text": [
      "1/1 [==============================] - ETA: 0s - loss: 0.1564 - accuracy: 1.0000\n",
      "Epoch 4: saving model to model_xception.h5\n",
      "1/1 [==============================] - 11s 11s/step - loss: 0.1564 - accuracy: 1.0000 - val_loss: 0.5791 - val_accuracy: 0.8667\n",
      "Epoch 5/10\n"
     ]
    },
    {
     "name": "stderr",
     "output_type": "stream",
     "text": [
      "[codecarbon INFO @ 10:38:39] Energy consumed for RAM : 0.000395 kWh. RAM Power : 2.8654117584228516 W\n",
      "[codecarbon INFO @ 10:38:39] Energy consumed for all CPUs : 0.001725 kWh. All CPUs Power : 12.5 W\n",
      "[codecarbon INFO @ 10:38:39] 0.002120 kWh of electricity used since the begining.\n",
      "[codecarbon INFO @ 10:38:46] Energy consumed for RAM : 0.000060 kWh. RAM Power : 2.8654117584228516 W\n",
      "[codecarbon INFO @ 10:38:46] Energy consumed for all CPUs : 0.000261 kWh. All CPUs Power : 12.5 W\n",
      "[codecarbon INFO @ 10:38:46] 0.000320 kWh of electricity used since the begining.\n"
     ]
    },
    {
     "name": "stdout",
     "output_type": "stream",
     "text": [
      "1/1 [==============================] - ETA: 0s - loss: 0.0173 - accuracy: 1.0000\n",
      "Epoch 5: saving model to model_xception.h5\n",
      "1/1 [==============================] - 12s 12s/step - loss: 0.0173 - accuracy: 1.0000 - val_loss: 0.5556 - val_accuracy: 0.8667\n",
      "Epoch 6/10\n"
     ]
    },
    {
     "name": "stderr",
     "output_type": "stream",
     "text": [
      "[codecarbon INFO @ 10:38:54] Energy consumed for RAM : 0.000407 kWh. RAM Power : 2.8654117584228516 W\n",
      "[codecarbon INFO @ 10:38:54] Energy consumed for all CPUs : 0.001777 kWh. All CPUs Power : 12.5 W\n",
      "[codecarbon INFO @ 10:38:54] 0.002184 kWh of electricity used since the begining.\n"
     ]
    },
    {
     "name": "stdout",
     "output_type": "stream",
     "text": [
      "1/1 [==============================] - ETA: 0s - loss: 0.0022 - accuracy: 1.0000\n",
      "Epoch 6: saving model to model_xception.h5\n"
     ]
    },
    {
     "name": "stderr",
     "output_type": "stream",
     "text": [
      "[codecarbon INFO @ 10:39:01] Energy consumed for RAM : 0.000072 kWh. RAM Power : 2.8654117584228516 W\n",
      "[codecarbon INFO @ 10:39:01] Energy consumed for all CPUs : 0.000313 kWh. All CPUs Power : 12.5 W\n",
      "[codecarbon INFO @ 10:39:01] 0.000384 kWh of electricity used since the begining.\n"
     ]
    },
    {
     "name": "stdout",
     "output_type": "stream",
     "text": [
      "1/1 [==============================] - 12s 12s/step - loss: 0.0022 - accuracy: 1.0000 - val_loss: 0.6260 - val_accuracy: 0.8000\n",
      "Epoch 7/10\n"
     ]
    },
    {
     "name": "stderr",
     "output_type": "stream",
     "text": [
      "[codecarbon INFO @ 10:39:09] Energy consumed for RAM : 0.000419 kWh. RAM Power : 2.8654117584228516 W\n",
      "[codecarbon INFO @ 10:39:09] Energy consumed for all CPUs : 0.001829 kWh. All CPUs Power : 12.5 W\n",
      "[codecarbon INFO @ 10:39:09] 0.002248 kWh of electricity used since the begining.\n"
     ]
    },
    {
     "name": "stdout",
     "output_type": "stream",
     "text": [
      "1/1 [==============================] - ETA: 0s - loss: 9.3848e-04 - accuracy: 1.0000\n",
      "Epoch 7: saving model to model_xception.h5\n",
      "1/1 [==============================] - 12s 12s/step - loss: 9.3848e-04 - accuracy: 1.0000 - val_loss: 0.7640 - val_accuracy: 0.8000\n",
      "Epoch 8/10\n"
     ]
    },
    {
     "name": "stderr",
     "output_type": "stream",
     "text": [
      "[codecarbon INFO @ 10:39:16] Energy consumed for RAM : 0.000084 kWh. RAM Power : 2.8654117584228516 W\n",
      "[codecarbon INFO @ 10:39:16] Energy consumed for all CPUs : 0.000365 kWh. All CPUs Power : 12.5 W\n",
      "[codecarbon INFO @ 10:39:16] 0.000449 kWh of electricity used since the begining.\n",
      "[codecarbon INFO @ 10:39:24] Energy consumed for RAM : 0.000431 kWh. RAM Power : 2.8654117584228516 W\n",
      "[codecarbon INFO @ 10:39:24] Energy consumed for all CPUs : 0.001881 kWh. All CPUs Power : 12.5 W\n",
      "[codecarbon INFO @ 10:39:24] 0.002312 kWh of electricity used since the begining.\n"
     ]
    },
    {
     "name": "stdout",
     "output_type": "stream",
     "text": [
      "1/1 [==============================] - ETA: 0s - loss: 6.1984e-04 - accuracy: 1.0000\n",
      "Epoch 8: saving model to model_xception.h5\n",
      "1/1 [==============================] - 12s 12s/step - loss: 6.1984e-04 - accuracy: 1.0000 - val_loss: 0.9102 - val_accuracy: 0.8000\n",
      "Epoch 9/10\n"
     ]
    },
    {
     "name": "stderr",
     "output_type": "stream",
     "text": [
      "[codecarbon INFO @ 10:39:31] Energy consumed for RAM : 0.000096 kWh. RAM Power : 2.8654117584228516 W\n",
      "[codecarbon INFO @ 10:39:31] Energy consumed for all CPUs : 0.000417 kWh. All CPUs Power : 12.5 W\n",
      "[codecarbon INFO @ 10:39:31] 0.000513 kWh of electricity used since the begining.\n"
     ]
    },
    {
     "name": "stdout",
     "output_type": "stream",
     "text": [
      "1/1 [==============================] - ETA: 0s - loss: 4.8807e-04 - accuracy: 1.0000\n",
      "Epoch 9: saving model to model_xception.h5\n",
      "1/1 [==============================] - 13s 13s/step - loss: 4.8807e-04 - accuracy: 1.0000 - val_loss: 1.0500 - val_accuracy: 0.8000\n",
      "Epoch 10/10\n"
     ]
    },
    {
     "name": "stderr",
     "output_type": "stream",
     "text": [
      "[codecarbon INFO @ 10:39:39] Energy consumed for RAM : 0.000443 kWh. RAM Power : 2.8654117584228516 W\n",
      "[codecarbon INFO @ 10:39:39] Energy consumed for all CPUs : 0.001933 kWh. All CPUs Power : 12.5 W\n",
      "[codecarbon INFO @ 10:39:39] 0.002376 kWh of electricity used since the begining.\n",
      "[codecarbon INFO @ 10:39:46] Energy consumed for RAM : 0.000107 kWh. RAM Power : 2.8654117584228516 W\n",
      "[codecarbon INFO @ 10:39:46] Energy consumed for all CPUs : 0.000469 kWh. All CPUs Power : 12.5 W\n",
      "[codecarbon INFO @ 10:39:46] 0.000577 kWh of electricity used since the begining.\n"
     ]
    },
    {
     "name": "stdout",
     "output_type": "stream",
     "text": [
      "1/1 [==============================] - ETA: 0s - loss: 5.2790e-04 - accuracy: 1.0000\n",
      "Epoch 10: saving model to model_xception.h5\n",
      "1/1 [==============================] - 15s 15s/step - loss: 5.2790e-04 - accuracy: 1.0000 - val_loss: 1.1786 - val_accuracy: 0.8000\n"
     ]
    },
    {
     "name": "stderr",
     "output_type": "stream",
     "text": [
      "[codecarbon INFO @ 10:39:53] Energy consumed for RAM : 0.000113 kWh. RAM Power : 2.8654117584228516 W\n",
      "[codecarbon INFO @ 10:39:53] Energy consumed for all CPUs : 0.000493 kWh. All CPUs Power : 12.5 W\n",
      "[codecarbon INFO @ 10:39:53] 0.000606 kWh of electricity used since the begining.\n"
     ]
    },
    {
     "name": "stdout",
     "output_type": "stream",
     "text": [
      "Emissions: 3.331588205313319e-05 kg\n"
     ]
    },
    {
     "name": "stderr",
     "output_type": "stream",
     "text": [
      "[codecarbon INFO @ 10:39:54] Energy consumed for RAM : 0.000455 kWh. RAM Power : 2.8654117584228516 W\n",
      "[codecarbon INFO @ 10:39:54] Energy consumed for all CPUs : 0.001985 kWh. All CPUs Power : 12.5 W\n",
      "[codecarbon INFO @ 10:39:54] 0.002440 kWh of electricity used since the begining.\n",
      "[codecarbon INFO @ 10:40:09] Energy consumed for RAM : 0.000467 kWh. RAM Power : 2.8654117584228516 W\n",
      "[codecarbon INFO @ 10:40:09] Energy consumed for all CPUs : 0.002037 kWh. All CPUs Power : 12.5 W\n",
      "[codecarbon INFO @ 10:40:09] 0.002504 kWh of electricity used since the begining.\n",
      "[codecarbon INFO @ 10:40:24] Energy consumed for RAM : 0.000479 kWh. RAM Power : 2.8654117584228516 W\n",
      "[codecarbon INFO @ 10:40:24] Energy consumed for all CPUs : 0.002089 kWh. All CPUs Power : 12.5 W\n",
      "[codecarbon INFO @ 10:40:24] 0.002568 kWh of electricity used since the begining.\n",
      "[codecarbon INFO @ 10:40:39] Energy consumed for RAM : 0.000491 kWh. RAM Power : 2.8654117584228516 W\n",
      "[codecarbon INFO @ 10:40:39] Energy consumed for all CPUs : 0.002141 kWh. All CPUs Power : 12.5 W\n",
      "[codecarbon INFO @ 10:40:39] 0.002632 kWh of electricity used since the begining.\n",
      "[codecarbon INFO @ 10:40:54] Energy consumed for RAM : 0.000502 kWh. RAM Power : 2.8654117584228516 W\n",
      "[codecarbon INFO @ 10:40:54] Energy consumed for all CPUs : 0.002193 kWh. All CPUs Power : 12.5 W\n",
      "[codecarbon INFO @ 10:40:54] 0.002696 kWh of electricity used since the begining.\n",
      "[codecarbon INFO @ 10:41:09] Energy consumed for RAM : 0.000514 kWh. RAM Power : 2.8654117584228516 W\n",
      "[codecarbon INFO @ 10:41:09] Energy consumed for all CPUs : 0.002246 kWh. All CPUs Power : 12.5 W\n",
      "[codecarbon INFO @ 10:41:09] 0.002760 kWh of electricity used since the begining.\n",
      "[codecarbon INFO @ 10:41:24] Energy consumed for RAM : 0.000526 kWh. RAM Power : 2.8654117584228516 W\n",
      "[codecarbon INFO @ 10:41:24] Energy consumed for all CPUs : 0.002298 kWh. All CPUs Power : 12.5 W\n",
      "[codecarbon INFO @ 10:41:24] 0.002824 kWh of electricity used since the begining.\n",
      "[codecarbon INFO @ 10:41:39] Energy consumed for RAM : 0.000538 kWh. RAM Power : 2.8654117584228516 W\n",
      "[codecarbon INFO @ 10:41:39] Energy consumed for all CPUs : 0.002350 kWh. All CPUs Power : 12.5 W\n",
      "[codecarbon INFO @ 10:41:39] 0.002888 kWh of electricity used since the begining.\n",
      "[codecarbon INFO @ 10:41:54] Energy consumed for RAM : 0.000550 kWh. RAM Power : 2.8654117584228516 W\n",
      "[codecarbon INFO @ 10:41:54] Energy consumed for all CPUs : 0.002402 kWh. All CPUs Power : 12.5 W\n",
      "[codecarbon INFO @ 10:41:54] 0.002952 kWh of electricity used since the begining.\n",
      "[codecarbon INFO @ 10:42:09] Energy consumed for RAM : 0.000562 kWh. RAM Power : 2.8654117584228516 W\n",
      "[codecarbon INFO @ 10:42:09] Energy consumed for all CPUs : 0.002454 kWh. All CPUs Power : 12.5 W\n",
      "[codecarbon INFO @ 10:42:09] 0.003016 kWh of electricity used since the begining.\n",
      "[codecarbon INFO @ 10:42:24] Energy consumed for RAM : 0.000574 kWh. RAM Power : 2.8654117584228516 W\n",
      "[codecarbon INFO @ 10:42:24] Energy consumed for all CPUs : 0.002506 kWh. All CPUs Power : 12.5 W\n",
      "[codecarbon INFO @ 10:42:24] 0.003080 kWh of electricity used since the begining.\n",
      "[codecarbon INFO @ 10:42:39] Energy consumed for RAM : 0.000586 kWh. RAM Power : 2.8654117584228516 W\n",
      "[codecarbon INFO @ 10:42:39] Energy consumed for all CPUs : 0.002558 kWh. All CPUs Power : 12.5 W\n",
      "[codecarbon INFO @ 10:42:39] 0.003144 kWh of electricity used since the begining.\n",
      "[codecarbon INFO @ 10:42:54] Energy consumed for RAM : 0.000598 kWh. RAM Power : 2.8654117584228516 W\n",
      "[codecarbon INFO @ 10:42:54] Energy consumed for all CPUs : 0.002610 kWh. All CPUs Power : 12.5 W\n",
      "[codecarbon INFO @ 10:42:54] 0.003208 kWh of electricity used since the begining.\n",
      "[codecarbon INFO @ 10:43:09] Energy consumed for RAM : 0.000610 kWh. RAM Power : 2.8654117584228516 W\n",
      "[codecarbon INFO @ 10:43:09] Energy consumed for all CPUs : 0.002662 kWh. All CPUs Power : 12.5 W\n",
      "[codecarbon INFO @ 10:43:09] 0.003272 kWh of electricity used since the begining.\n",
      "[codecarbon INFO @ 10:43:24] Energy consumed for RAM : 0.000622 kWh. RAM Power : 2.8654117584228516 W\n",
      "[codecarbon INFO @ 10:43:24] Energy consumed for all CPUs : 0.002714 kWh. All CPUs Power : 12.5 W\n",
      "[codecarbon INFO @ 10:43:24] 0.003336 kWh of electricity used since the begining.\n",
      "[codecarbon INFO @ 10:43:39] Energy consumed for RAM : 0.000634 kWh. RAM Power : 2.8654117584228516 W\n",
      "[codecarbon INFO @ 10:43:39] Energy consumed for all CPUs : 0.002766 kWh. All CPUs Power : 12.5 W\n",
      "[codecarbon INFO @ 10:43:39] 0.003400 kWh of electricity used since the begining.\n",
      "[codecarbon INFO @ 10:43:54] Energy consumed for RAM : 0.000646 kWh. RAM Power : 2.8654117584228516 W\n",
      "[codecarbon INFO @ 10:43:54] Energy consumed for all CPUs : 0.002819 kWh. All CPUs Power : 12.5 W\n",
      "[codecarbon INFO @ 10:43:54] 0.003464 kWh of electricity used since the begining.\n"
     ]
    }
   ],
   "source": [
    "from tensorflow.keras.applications.xception import Xception\n",
    "base_model = Xception(weights='imagenet', include_top=False)\n",
    "\n",
    "model = Sequential()\n",
    "model.add(base_model)\n",
    "model.add(GlobalAveragePooling2D())\n",
    "model.add(Dense(1024, activation='relu'))\n",
    "model.add(Dropout(0.5))\n",
    "model.add(Dense(5, activation='softmax'))\n",
    "\n",
    "from codecarbon import EmissionsTracker\n",
    "model.compile(loss='categorical_crossentropy',\n",
    "              optimizer='adam', metrics=['accuracy'])\n",
    "\n",
    "checkpoint = ModelCheckpoint('model_xception.h5', \n",
    "                             verbose=1, \n",
    "                             save_best_only=False, \n",
    "                             save_weights_only=False,\n",
    "                             mode='auto')\n",
    "\n",
    "tracker = EmissionsTracker()\n",
    "tracker.start()\n",
    "model.fit(train_generator,\n",
    "          epochs=10,\n",
    "          validation_data=test_generator,\n",
    "          callbacks=[checkpoint])\n",
    "emissions: float = tracker.stop()\n",
    "print(f\"Emissions: {emissions} kg\")"
   ]
  },
  {
   "cell_type": "code",
   "execution_count": 30,
   "metadata": {},
   "outputs": [
    {
     "name": "stdout",
     "output_type": "stream",
     "text": [
      "Downloading data from https://storage.googleapis.com/tensorflow/keras-applications/inception_resnet_v2/inception_resnet_v2_weights_tf_dim_ordering_tf_kernels_notop.h5\n",
      " 24289280/219055592 [==>...........................] - ETA: 30s"
     ]
    },
    {
     "name": "stderr",
     "output_type": "stream",
     "text": [
      "[codecarbon INFO @ 10:44:24] Energy consumed for RAM : 0.000670 kWh. RAM Power : 2.8654117584228516 W\n",
      "[codecarbon INFO @ 10:44:24] Energy consumed for all CPUs : 0.002923 kWh. All CPUs Power : 12.5 W\n",
      "[codecarbon INFO @ 10:44:24] 0.003592 kWh of electricity used since the begining.\n"
     ]
    },
    {
     "name": "stdout",
     "output_type": "stream",
     "text": [
      "149643264/219055592 [===================>..........] - ETA: 8s"
     ]
    },
    {
     "name": "stderr",
     "output_type": "stream",
     "text": [
      "[codecarbon INFO @ 10:44:39] Energy consumed for RAM : 0.000681 kWh. RAM Power : 2.8654117584228516 W\n"
     ]
    },
    {
     "name": "stdout",
     "output_type": "stream",
     "text": [
      "150396928/219055592 [===================>..........] - ETA: 8s"
     ]
    },
    {
     "name": "stderr",
     "output_type": "stream",
     "text": [
      "[codecarbon INFO @ 10:44:39] Energy consumed for all CPUs : 0.002975 kWh. All CPUs Power : 12.5 W\n",
      "[codecarbon INFO @ 10:44:39] 0.003656 kWh of electricity used since the begining.\n"
     ]
    },
    {
     "name": "stdout",
     "output_type": "stream",
     "text": [
      "219055592/219055592 [==============================] - 26s 0us/step\n"
     ]
    },
    {
     "name": "stderr",
     "output_type": "stream",
     "text": [
      "[codecarbon INFO @ 10:44:54] Energy consumed for RAM : 0.000693 kWh. RAM Power : 2.8654117584228516 W\n",
      "[codecarbon INFO @ 10:44:54] Energy consumed for all CPUs : 0.003027 kWh. All CPUs Power : 12.5 W\n",
      "[codecarbon INFO @ 10:44:54] 0.003720 kWh of electricity used since the begining.\n",
      "[codecarbon INFO @ 10:44:54] [setup] RAM Tracking...\n",
      "[codecarbon INFO @ 10:44:54] [setup] GPU Tracking...\n",
      "[codecarbon INFO @ 10:44:54] No GPU found.\n",
      "[codecarbon INFO @ 10:44:54] [setup] CPU Tracking...\n",
      "[codecarbon WARNING @ 10:44:54] No CPU tracking mode found. Falling back on CPU constant mode.\n",
      "[codecarbon INFO @ 10:44:57] CPU Model on constant consumption mode: Intel(R) Core(TM) i5-10210U CPU @ 1.60GHz\n",
      "[codecarbon INFO @ 10:44:57] >>> Tracker's metadata:\n",
      "[codecarbon INFO @ 10:44:57]   Platform system: Windows-10-10.0.19041-SP0\n",
      "[codecarbon INFO @ 10:44:57]   Python version: 3.8.3\n",
      "[codecarbon INFO @ 10:44:57]   Available RAM : 7.641 GB\n",
      "[codecarbon INFO @ 10:44:57]   CPU count: 8\n",
      "[codecarbon INFO @ 10:44:57]   CPU model: Intel(R) Core(TM) i5-10210U CPU @ 1.60GHz\n",
      "[codecarbon INFO @ 10:44:57]   GPU count: None\n",
      "[codecarbon INFO @ 10:44:57]   GPU model: None\n"
     ]
    },
    {
     "name": "stdout",
     "output_type": "stream",
     "text": [
      "Epoch 1/10\n"
     ]
    },
    {
     "name": "stderr",
     "output_type": "stream",
     "text": [
      "[codecarbon INFO @ 10:45:09] Energy consumed for RAM : 0.000705 kWh. RAM Power : 2.8654117584228516 W\n",
      "[codecarbon INFO @ 10:45:09] Energy consumed for all CPUs : 0.003079 kWh. All CPUs Power : 12.5 W\n",
      "[codecarbon INFO @ 10:45:09] 0.003784 kWh of electricity used since the begining.\n",
      "[codecarbon INFO @ 10:45:13] Energy consumed for RAM : 0.000012 kWh. RAM Power : 2.8654117584228516 W\n",
      "[codecarbon INFO @ 10:45:13] Energy consumed for all CPUs : 0.000052 kWh. All CPUs Power : 12.5 W\n",
      "[codecarbon INFO @ 10:45:13] 0.000064 kWh of electricity used since the begining.\n",
      "[codecarbon INFO @ 10:45:24] Energy consumed for RAM : 0.000717 kWh. RAM Power : 2.8654117584228516 W\n",
      "[codecarbon INFO @ 10:45:24] Energy consumed for all CPUs : 0.003131 kWh. All CPUs Power : 12.5 W\n",
      "[codecarbon INFO @ 10:45:24] 0.003848 kWh of electricity used since the begining.\n",
      "[codecarbon INFO @ 10:45:28] Energy consumed for RAM : 0.000024 kWh. RAM Power : 2.8654117584228516 W\n",
      "[codecarbon INFO @ 10:45:28] Energy consumed for all CPUs : 0.000104 kWh. All CPUs Power : 12.5 W\n",
      "[codecarbon INFO @ 10:45:28] 0.000128 kWh of electricity used since the begining.\n",
      "[codecarbon INFO @ 10:45:39] Energy consumed for RAM : 0.000729 kWh. RAM Power : 2.8654117584228516 W\n",
      "[codecarbon INFO @ 10:45:39] Energy consumed for all CPUs : 0.003183 kWh. All CPUs Power : 12.5 W\n",
      "[codecarbon INFO @ 10:45:39] 0.003912 kWh of electricity used since the begining.\n",
      "[codecarbon INFO @ 10:45:43] Energy consumed for RAM : 0.000036 kWh. RAM Power : 2.8654117584228516 W\n",
      "[codecarbon INFO @ 10:45:43] Energy consumed for all CPUs : 0.000157 kWh. All CPUs Power : 12.5 W\n",
      "[codecarbon INFO @ 10:45:43] 0.000193 kWh of electricity used since the begining.\n",
      "[codecarbon INFO @ 10:45:54] Energy consumed for RAM : 0.000741 kWh. RAM Power : 2.8654117584228516 W\n",
      "[codecarbon INFO @ 10:45:54] Energy consumed for all CPUs : 0.003235 kWh. All CPUs Power : 12.5 W\n",
      "[codecarbon INFO @ 10:45:54] 0.003976 kWh of electricity used since the begining.\n",
      "[codecarbon INFO @ 10:45:58] Energy consumed for RAM : 0.000048 kWh. RAM Power : 2.8654117584228516 W\n",
      "[codecarbon INFO @ 10:45:58] Energy consumed for all CPUs : 0.000209 kWh. All CPUs Power : 12.5 W\n",
      "[codecarbon INFO @ 10:45:58] 0.000257 kWh of electricity used since the begining.\n",
      "[codecarbon INFO @ 10:46:09] Energy consumed for RAM : 0.000753 kWh. RAM Power : 2.8654117584228516 W\n",
      "[codecarbon INFO @ 10:46:09] Energy consumed for all CPUs : 0.003287 kWh. All CPUs Power : 12.5 W\n",
      "[codecarbon INFO @ 10:46:09] 0.004040 kWh of electricity used since the begining.\n",
      "[codecarbon INFO @ 10:46:13] Energy consumed for RAM : 0.000060 kWh. RAM Power : 2.8654117584228516 W\n",
      "[codecarbon INFO @ 10:46:13] Energy consumed for all CPUs : 0.000261 kWh. All CPUs Power : 12.5 W\n",
      "[codecarbon INFO @ 10:46:13] 0.000321 kWh of electricity used since the begining.\n"
     ]
    },
    {
     "name": "stdout",
     "output_type": "stream",
     "text": [
      "1/1 [==============================] - ETA: 0s - loss: 1.7813 - accuracy: 0.2727"
     ]
    },
    {
     "name": "stderr",
     "output_type": "stream",
     "text": [
      "[codecarbon INFO @ 10:46:24] Energy consumed for RAM : 0.000765 kWh. RAM Power : 2.8654117584228516 W\n",
      "[codecarbon INFO @ 10:46:24] Energy consumed for all CPUs : 0.003339 kWh. All CPUs Power : 12.5 W\n",
      "[codecarbon INFO @ 10:46:24] 0.004104 kWh of electricity used since the begining.\n",
      "[codecarbon INFO @ 10:46:28] Energy consumed for RAM : 0.000072 kWh. RAM Power : 2.8654117584228516 W\n",
      "[codecarbon INFO @ 10:46:28] Energy consumed for all CPUs : 0.000313 kWh. All CPUs Power : 12.5 W\n",
      "[codecarbon INFO @ 10:46:28] 0.000385 kWh of electricity used since the begining.\n"
     ]
    },
    {
     "name": "stdout",
     "output_type": "stream",
     "text": [
      "\n",
      "Epoch 1: saving model to model_incept-res.h5\n",
      "1/1 [==============================] - 94s 94s/step - loss: 1.7813 - accuracy: 0.2727 - val_loss: 1.3936 - val_accuracy: 0.6667\n",
      "Epoch 2/10\n"
     ]
    },
    {
     "name": "stderr",
     "output_type": "stream",
     "text": [
      "[codecarbon INFO @ 10:46:39] Energy consumed for RAM : 0.000777 kWh. RAM Power : 2.8654117584228516 W\n",
      "[codecarbon INFO @ 10:46:39] Energy consumed for all CPUs : 0.003391 kWh. All CPUs Power : 12.5 W\n",
      "[codecarbon INFO @ 10:46:39] 0.004168 kWh of electricity used since the begining.\n",
      "[codecarbon INFO @ 10:46:43] Energy consumed for RAM : 0.000084 kWh. RAM Power : 2.8654117584228516 W\n",
      "[codecarbon INFO @ 10:46:43] Energy consumed for all CPUs : 0.000365 kWh. All CPUs Power : 12.5 W\n",
      "[codecarbon INFO @ 10:46:43] 0.000449 kWh of electricity used since the begining.\n"
     ]
    },
    {
     "name": "stdout",
     "output_type": "stream",
     "text": [
      "1/1 [==============================] - ETA: 0s - loss: 0.8291 - accuracy: 0.7727"
     ]
    },
    {
     "name": "stderr",
     "output_type": "stream",
     "text": [
      "[codecarbon INFO @ 10:46:54] Energy consumed for RAM : 0.000789 kWh. RAM Power : 2.8654117584228516 W\n",
      "[codecarbon INFO @ 10:46:54] Energy consumed for all CPUs : 0.003444 kWh. All CPUs Power : 12.5 W\n",
      "[codecarbon INFO @ 10:46:54] 0.004232 kWh of electricity used since the begining.\n"
     ]
    },
    {
     "name": "stdout",
     "output_type": "stream",
     "text": [
      "\n",
      "Epoch 2: saving model to model_incept-res.h5\n"
     ]
    },
    {
     "name": "stderr",
     "output_type": "stream",
     "text": [
      "[codecarbon INFO @ 10:46:58] Energy consumed for RAM : 0.000096 kWh. RAM Power : 2.8654117584228516 W\n",
      "[codecarbon INFO @ 10:46:58] Energy consumed for all CPUs : 0.000417 kWh. All CPUs Power : 12.5 W\n",
      "[codecarbon INFO @ 10:46:58] 0.000513 kWh of electricity used since the begining.\n"
     ]
    },
    {
     "name": "stdout",
     "output_type": "stream",
     "text": [
      "1/1 [==============================] - 26s 26s/step - loss: 0.8291 - accuracy: 0.7727 - val_loss: 0.7616 - val_accuracy: 0.7333\n",
      "Epoch 3/10\n"
     ]
    },
    {
     "name": "stderr",
     "output_type": "stream",
     "text": [
      "[codecarbon INFO @ 10:47:09] Energy consumed for RAM : 0.000801 kWh. RAM Power : 2.8654117584228516 W\n",
      "[codecarbon INFO @ 10:47:09] Energy consumed for all CPUs : 0.003496 kWh. All CPUs Power : 12.5 W\n",
      "[codecarbon INFO @ 10:47:09] 0.004296 kWh of electricity used since the begining.\n",
      "[codecarbon INFO @ 10:47:13] Energy consumed for RAM : 0.000108 kWh. RAM Power : 2.8654117584228516 W\n",
      "[codecarbon INFO @ 10:47:13] Energy consumed for all CPUs : 0.000469 kWh. All CPUs Power : 12.5 W\n",
      "[codecarbon INFO @ 10:47:13] 0.000577 kWh of electricity used since the begining.\n"
     ]
    },
    {
     "name": "stdout",
     "output_type": "stream",
     "text": [
      "1/1 [==============================] - ETA: 0s - loss: 0.1580 - accuracy: 1.0000\n",
      "Epoch 3: saving model to model_incept-res.h5\n"
     ]
    },
    {
     "name": "stderr",
     "output_type": "stream",
     "text": [
      "[codecarbon INFO @ 10:47:24] Energy consumed for RAM : 0.000813 kWh. RAM Power : 2.8654117584228516 W\n",
      "[codecarbon INFO @ 10:47:24] Energy consumed for all CPUs : 0.003548 kWh. All CPUs Power : 12.5 W\n",
      "[codecarbon INFO @ 10:47:24] 0.004360 kWh of electricity used since the begining.\n"
     ]
    },
    {
     "name": "stdout",
     "output_type": "stream",
     "text": [
      "1/1 [==============================] - 27s 27s/step - loss: 0.1580 - accuracy: 1.0000 - val_loss: 1.5583 - val_accuracy: 0.6667\n",
      "Epoch 4/10\n"
     ]
    },
    {
     "name": "stderr",
     "output_type": "stream",
     "text": [
      "[codecarbon INFO @ 10:47:28] Energy consumed for RAM : 0.000119 kWh. RAM Power : 2.8654117584228516 W\n",
      "[codecarbon INFO @ 10:47:28] Energy consumed for all CPUs : 0.000521 kWh. All CPUs Power : 12.5 W\n",
      "[codecarbon INFO @ 10:47:28] 0.000641 kWh of electricity used since the begining.\n",
      "[codecarbon INFO @ 10:47:39] Energy consumed for RAM : 0.000825 kWh. RAM Power : 2.8654117584228516 W\n",
      "[codecarbon INFO @ 10:47:39] Energy consumed for all CPUs : 0.003600 kWh. All CPUs Power : 12.5 W\n",
      "[codecarbon INFO @ 10:47:39] 0.004425 kWh of electricity used since the begining.\n",
      "[codecarbon INFO @ 10:47:43] Energy consumed for RAM : 0.000131 kWh. RAM Power : 2.8654117584228516 W\n",
      "[codecarbon INFO @ 10:47:43] Energy consumed for all CPUs : 0.000574 kWh. All CPUs Power : 12.5 W\n",
      "[codecarbon INFO @ 10:47:43] 0.000705 kWh of electricity used since the begining.\n"
     ]
    },
    {
     "name": "stdout",
     "output_type": "stream",
     "text": [
      "1/1 [==============================] - ETA: 0s - loss: 0.0039 - accuracy: 1.0000\n",
      "Epoch 4: saving model to model_incept-res.h5\n",
      "1/1 [==============================] - 27s 27s/step - loss: 0.0039 - accuracy: 1.0000 - val_loss: 4.4874 - val_accuracy: 0.4667\n",
      "Epoch 5/10\n"
     ]
    },
    {
     "name": "stderr",
     "output_type": "stream",
     "text": [
      "[codecarbon INFO @ 10:47:54] Energy consumed for RAM : 0.000837 kWh. RAM Power : 2.8654117584228516 W\n",
      "[codecarbon INFO @ 10:47:54] Energy consumed for all CPUs : 0.003652 kWh. All CPUs Power : 12.5 W\n",
      "[codecarbon INFO @ 10:47:54] 0.004489 kWh of electricity used since the begining.\n",
      "[codecarbon INFO @ 10:47:58] Energy consumed for RAM : 0.000143 kWh. RAM Power : 2.8654117584228516 W\n",
      "[codecarbon INFO @ 10:47:58] Energy consumed for all CPUs : 0.000626 kWh. All CPUs Power : 12.5 W\n",
      "[codecarbon INFO @ 10:47:58] 0.000769 kWh of electricity used since the begining.\n",
      "[codecarbon INFO @ 10:48:09] Energy consumed for RAM : 0.000849 kWh. RAM Power : 2.8654117584228516 W\n",
      "[codecarbon INFO @ 10:48:09] Energy consumed for all CPUs : 0.003704 kWh. All CPUs Power : 12.5 W\n",
      "[codecarbon INFO @ 10:48:09] 0.004553 kWh of electricity used since the begining.\n"
     ]
    },
    {
     "name": "stdout",
     "output_type": "stream",
     "text": [
      "1/1 [==============================] - ETA: 0s - loss: 0.0043 - accuracy: 1.0000"
     ]
    },
    {
     "name": "stderr",
     "output_type": "stream",
     "text": [
      "[codecarbon INFO @ 10:48:13] Energy consumed for RAM : 0.000155 kWh. RAM Power : 2.8654117584228516 W\n",
      "[codecarbon INFO @ 10:48:13] Energy consumed for all CPUs : 0.000678 kWh. All CPUs Power : 12.5 W\n",
      "[codecarbon INFO @ 10:48:13] 0.000833 kWh of electricity used since the begining.\n"
     ]
    },
    {
     "name": "stdout",
     "output_type": "stream",
     "text": [
      "\n",
      "Epoch 5: saving model to model_incept-res.h5\n",
      "1/1 [==============================] - 27s 27s/step - loss: 0.0043 - accuracy: 1.0000 - val_loss: 6.8173 - val_accuracy: 0.3333\n",
      "Epoch 6/10\n"
     ]
    },
    {
     "name": "stderr",
     "output_type": "stream",
     "text": [
      "[codecarbon INFO @ 10:48:24] Energy consumed for RAM : 0.000860 kWh. RAM Power : 2.8654117584228516 W\n",
      "[codecarbon INFO @ 10:48:24] Energy consumed for all CPUs : 0.003756 kWh. All CPUs Power : 12.5 W\n",
      "[codecarbon INFO @ 10:48:24] 0.004617 kWh of electricity used since the begining.\n",
      "[codecarbon INFO @ 10:48:28] Energy consumed for RAM : 0.000167 kWh. RAM Power : 2.8654117584228516 W\n",
      "[codecarbon INFO @ 10:48:28] Energy consumed for all CPUs : 0.000730 kWh. All CPUs Power : 12.5 W\n",
      "[codecarbon INFO @ 10:48:28] 0.000897 kWh of electricity used since the begining.\n",
      "[codecarbon INFO @ 10:48:39] Energy consumed for RAM : 0.000872 kWh. RAM Power : 2.8654117584228516 W\n",
      "[codecarbon INFO @ 10:48:39] Energy consumed for all CPUs : 0.003808 kWh. All CPUs Power : 12.5 W\n",
      "[codecarbon INFO @ 10:48:39] 0.004681 kWh of electricity used since the begining.\n",
      "[codecarbon INFO @ 10:48:43] Energy consumed for RAM : 0.000179 kWh. RAM Power : 2.8654117584228516 W\n",
      "[codecarbon INFO @ 10:48:43] Energy consumed for all CPUs : 0.000782 kWh. All CPUs Power : 12.5 W\n",
      "[codecarbon INFO @ 10:48:43] 0.000961 kWh of electricity used since the begining.\n"
     ]
    },
    {
     "name": "stdout",
     "output_type": "stream",
     "text": [
      "1/1 [==============================] - ETA: 0s - loss: 1.6999e-04 - accuracy: 1.0000\n",
      "Epoch 6: saving model to model_incept-res.h5\n"
     ]
    },
    {
     "name": "stderr",
     "output_type": "stream",
     "text": [
      "[codecarbon INFO @ 10:48:54] Energy consumed for RAM : 0.000884 kWh. RAM Power : 2.8654117584228516 W\n",
      "[codecarbon INFO @ 10:48:54] Energy consumed for all CPUs : 0.003860 kWh. All CPUs Power : 12.5 W\n",
      "[codecarbon INFO @ 10:48:54] 0.004745 kWh of electricity used since the begining.\n"
     ]
    },
    {
     "name": "stdout",
     "output_type": "stream",
     "text": [
      "1/1 [==============================] - 35s 35s/step - loss: 1.6999e-04 - accuracy: 1.0000 - val_loss: 8.2977 - val_accuracy: 0.2667\n",
      "Epoch 7/10\n"
     ]
    },
    {
     "name": "stderr",
     "output_type": "stream",
     "text": [
      "[codecarbon INFO @ 10:48:58] Energy consumed for RAM : 0.000191 kWh. RAM Power : 2.8654117584228516 W\n",
      "[codecarbon INFO @ 10:48:58] Energy consumed for all CPUs : 0.000834 kWh. All CPUs Power : 12.5 W\n",
      "[codecarbon INFO @ 10:48:58] 0.001025 kWh of electricity used since the begining.\n",
      "[codecarbon INFO @ 10:49:09] Energy consumed for RAM : 0.000896 kWh. RAM Power : 2.8654117584228516 W\n",
      "[codecarbon INFO @ 10:49:09] Energy consumed for all CPUs : 0.003912 kWh. All CPUs Power : 12.5 W\n",
      "[codecarbon INFO @ 10:49:09] 0.004809 kWh of electricity used since the begining.\n",
      "[codecarbon INFO @ 10:49:13] Energy consumed for RAM : 0.000203 kWh. RAM Power : 2.8654117584228516 W\n",
      "[codecarbon INFO @ 10:49:13] Energy consumed for all CPUs : 0.000886 kWh. All CPUs Power : 12.5 W\n",
      "[codecarbon INFO @ 10:49:13] 0.001089 kWh of electricity used since the begining.\n"
     ]
    },
    {
     "name": "stdout",
     "output_type": "stream",
     "text": [
      "1/1 [==============================] - ETA: 0s - loss: 2.9797e-04 - accuracy: 1.0000\n",
      "Epoch 7: saving model to model_incept-res.h5\n",
      "1/1 [==============================] - 28s 28s/step - loss: 2.9797e-04 - accuracy: 1.0000 - val_loss: 10.1039 - val_accuracy: 0.3333\n",
      "Epoch 8/10\n"
     ]
    },
    {
     "name": "stderr",
     "output_type": "stream",
     "text": [
      "[codecarbon INFO @ 10:49:24] Energy consumed for RAM : 0.000908 kWh. RAM Power : 2.8654117584228516 W\n",
      "[codecarbon INFO @ 10:49:24] Energy consumed for all CPUs : 0.003964 kWh. All CPUs Power : 12.5 W\n",
      "[codecarbon INFO @ 10:49:24] 0.004873 kWh of electricity used since the begining.\n",
      "[codecarbon INFO @ 10:49:28] Energy consumed for RAM : 0.000215 kWh. RAM Power : 2.8654117584228516 W\n",
      "[codecarbon INFO @ 10:49:28] Energy consumed for all CPUs : 0.000938 kWh. All CPUs Power : 12.5 W\n",
      "[codecarbon INFO @ 10:49:28] 0.001153 kWh of electricity used since the begining.\n",
      "[codecarbon INFO @ 10:49:39] Energy consumed for RAM : 0.000920 kWh. RAM Power : 2.8654117584228516 W\n",
      "[codecarbon INFO @ 10:49:39] Energy consumed for all CPUs : 0.004017 kWh. All CPUs Power : 12.5 W\n",
      "[codecarbon INFO @ 10:49:39] 0.004937 kWh of electricity used since the begining.\n"
     ]
    },
    {
     "name": "stdout",
     "output_type": "stream",
     "text": [
      "1/1 [==============================] - ETA: 0s - loss: 2.3932e-04 - accuracy: 1.0000"
     ]
    },
    {
     "name": "stderr",
     "output_type": "stream",
     "text": [
      "[codecarbon INFO @ 10:49:43] Energy consumed for RAM : 0.000227 kWh. RAM Power : 2.8654117584228516 W\n",
      "[codecarbon INFO @ 10:49:43] Energy consumed for all CPUs : 0.000990 kWh. All CPUs Power : 12.5 W\n",
      "[codecarbon INFO @ 10:49:43] 0.001217 kWh of electricity used since the begining.\n"
     ]
    },
    {
     "name": "stdout",
     "output_type": "stream",
     "text": [
      "\n",
      "Epoch 8: saving model to model_incept-res.h5\n",
      "1/1 [==============================] - 28s 28s/step - loss: 2.3932e-04 - accuracy: 1.0000 - val_loss: 12.5256 - val_accuracy: 0.3333\n",
      "Epoch 9/10\n"
     ]
    },
    {
     "name": "stderr",
     "output_type": "stream",
     "text": [
      "[codecarbon INFO @ 10:49:54] Energy consumed for RAM : 0.000932 kWh. RAM Power : 2.8654117584228516 W\n",
      "[codecarbon INFO @ 10:49:54] Energy consumed for all CPUs : 0.004069 kWh. All CPUs Power : 12.5 W\n",
      "[codecarbon INFO @ 10:49:54] 0.005001 kWh of electricity used since the begining.\n",
      "[codecarbon INFO @ 10:49:58] Energy consumed for RAM : 0.000239 kWh. RAM Power : 2.8654117584228516 W\n",
      "[codecarbon INFO @ 10:49:58] Energy consumed for all CPUs : 0.001042 kWh. All CPUs Power : 12.5 W\n",
      "[codecarbon INFO @ 10:49:58] 0.001281 kWh of electricity used since the begining.\n",
      "[codecarbon INFO @ 10:50:09] Energy consumed for RAM : 0.000944 kWh. RAM Power : 2.8654117584228516 W\n",
      "[codecarbon INFO @ 10:50:09] Energy consumed for all CPUs : 0.004121 kWh. All CPUs Power : 12.5 W\n",
      "[codecarbon INFO @ 10:50:09] 0.005065 kWh of electricity used since the begining.\n"
     ]
    },
    {
     "name": "stdout",
     "output_type": "stream",
     "text": [
      "1/1 [==============================] - ETA: 0s - loss: 4.1821e-04 - accuracy: 1.0000"
     ]
    },
    {
     "name": "stderr",
     "output_type": "stream",
     "text": [
      "[codecarbon INFO @ 10:50:13] Energy consumed for RAM : 0.000251 kWh. RAM Power : 2.8654117584228516 W\n",
      "[codecarbon INFO @ 10:50:13] Energy consumed for all CPUs : 0.001094 kWh. All CPUs Power : 12.5 W\n",
      "[codecarbon INFO @ 10:50:13] 0.001345 kWh of electricity used since the begining.\n"
     ]
    },
    {
     "name": "stdout",
     "output_type": "stream",
     "text": [
      "\n",
      "Epoch 9: saving model to model_incept-res.h5\n",
      "1/1 [==============================] - 27s 27s/step - loss: 4.1821e-04 - accuracy: 1.0000 - val_loss: 15.5664 - val_accuracy: 0.4000\n",
      "Epoch 10/10\n"
     ]
    },
    {
     "name": "stderr",
     "output_type": "stream",
     "text": [
      "[codecarbon INFO @ 10:50:24] Energy consumed for RAM : 0.000956 kWh. RAM Power : 2.8654117584228516 W\n",
      "[codecarbon INFO @ 10:50:24] Energy consumed for all CPUs : 0.004173 kWh. All CPUs Power : 12.5 W\n",
      "[codecarbon INFO @ 10:50:24] 0.005129 kWh of electricity used since the begining.\n",
      "[codecarbon INFO @ 10:50:28] Energy consumed for RAM : 0.000263 kWh. RAM Power : 2.8654117584228516 W\n",
      "[codecarbon INFO @ 10:50:28] Energy consumed for all CPUs : 0.001147 kWh. All CPUs Power : 12.5 W\n",
      "[codecarbon INFO @ 10:50:28] 0.001409 kWh of electricity used since the begining.\n"
     ]
    },
    {
     "name": "stdout",
     "output_type": "stream",
     "text": [
      "1/1 [==============================] - ETA: 0s - loss: 4.0277e-04 - accuracy: 1.0000"
     ]
    },
    {
     "name": "stderr",
     "output_type": "stream",
     "text": [
      "[codecarbon INFO @ 10:50:39] Energy consumed for RAM : 0.000968 kWh. RAM Power : 2.8654117584228516 W\n",
      "[codecarbon INFO @ 10:50:39] Energy consumed for all CPUs : 0.004225 kWh. All CPUs Power : 12.5 W\n",
      "[codecarbon INFO @ 10:50:39] 0.005193 kWh of electricity used since the begining.\n"
     ]
    },
    {
     "name": "stdout",
     "output_type": "stream",
     "text": [
      "\n",
      "Epoch 10: saving model to model_incept-res.h5\n"
     ]
    },
    {
     "name": "stderr",
     "output_type": "stream",
     "text": [
      "[codecarbon INFO @ 10:50:43] Energy consumed for RAM : 0.000275 kWh. RAM Power : 2.8654117584228516 W\n",
      "[codecarbon INFO @ 10:50:43] Energy consumed for all CPUs : 0.001199 kWh. All CPUs Power : 12.5 W\n",
      "[codecarbon INFO @ 10:50:43] 0.001473 kWh of electricity used since the begining.\n"
     ]
    },
    {
     "name": "stdout",
     "output_type": "stream",
     "text": [
      "1/1 [==============================] - 27s 27s/step - loss: 4.0277e-04 - accuracy: 1.0000 - val_loss: 18.6925 - val_accuracy: 0.4000\n"
     ]
    },
    {
     "name": "stderr",
     "output_type": "stream",
     "text": [
      "[codecarbon INFO @ 10:50:45] Energy consumed for RAM : 0.000277 kWh. RAM Power : 2.8654117584228516 W\n",
      "[codecarbon INFO @ 10:50:45] Energy consumed for all CPUs : 0.001208 kWh. All CPUs Power : 12.5 W\n",
      "[codecarbon INFO @ 10:50:45] 0.001484 kWh of electricity used since the begining.\n"
     ]
    },
    {
     "name": "stdout",
     "output_type": "stream",
     "text": [
      "Emissions: 8.163468129332811e-05 kg\n"
     ]
    },
    {
     "name": "stderr",
     "output_type": "stream",
     "text": [
      "[codecarbon INFO @ 10:50:54] Energy consumed for RAM : 0.000980 kWh. RAM Power : 2.8654117584228516 W\n",
      "[codecarbon INFO @ 10:50:54] Energy consumed for all CPUs : 0.004277 kWh. All CPUs Power : 12.5 W\n",
      "[codecarbon INFO @ 10:50:54] 0.005257 kWh of electricity used since the begining.\n",
      "[codecarbon INFO @ 10:51:09] Energy consumed for RAM : 0.000992 kWh. RAM Power : 2.8654117584228516 W\n",
      "[codecarbon INFO @ 10:51:09] Energy consumed for all CPUs : 0.004329 kWh. All CPUs Power : 12.5 W\n",
      "[codecarbon INFO @ 10:51:09] 0.005321 kWh of electricity used since the begining.\n",
      "[codecarbon INFO @ 10:51:24] Energy consumed for RAM : 0.001004 kWh. RAM Power : 2.8654117584228516 W\n",
      "[codecarbon INFO @ 10:51:24] Energy consumed for all CPUs : 0.004381 kWh. All CPUs Power : 12.5 W\n",
      "[codecarbon INFO @ 10:51:24] 0.005385 kWh of electricity used since the begining.\n",
      "[codecarbon INFO @ 10:51:39] Energy consumed for RAM : 0.001016 kWh. RAM Power : 2.8654117584228516 W\n",
      "[codecarbon INFO @ 10:51:39] Energy consumed for all CPUs : 0.004433 kWh. All CPUs Power : 12.5 W\n",
      "[codecarbon INFO @ 10:51:39] 0.005449 kWh of electricity used since the begining.\n",
      "[codecarbon INFO @ 10:51:54] Energy consumed for RAM : 0.001028 kWh. RAM Power : 2.8654117584228516 W\n",
      "[codecarbon INFO @ 10:51:54] Energy consumed for all CPUs : 0.004485 kWh. All CPUs Power : 12.5 W\n",
      "[codecarbon INFO @ 10:51:54] 0.005513 kWh of electricity used since the begining.\n",
      "[codecarbon INFO @ 10:52:09] Energy consumed for RAM : 0.001039 kWh. RAM Power : 2.8654117584228516 W\n",
      "[codecarbon INFO @ 10:52:09] Energy consumed for all CPUs : 0.004538 kWh. All CPUs Power : 12.5 W\n",
      "[codecarbon INFO @ 10:52:09] 0.005577 kWh of electricity used since the begining.\n"
     ]
    }
   ],
   "source": [
    "from tensorflow.keras.applications.inception_resnet_v2 import InceptionResNetV2\n",
    "base_model = InceptionResNetV2(weights='imagenet', include_top=False)\n",
    "\n",
    "model = Sequential()\n",
    "model.add(base_model)\n",
    "model.add(GlobalAveragePooling2D())\n",
    "model.add(Dense(1024, activation='relu'))\n",
    "model.add(Dropout(0.5))\n",
    "model.add(Dense(5, activation='softmax'))\n",
    "\n",
    "from codecarbon import EmissionsTracker\n",
    "model.compile(loss='categorical_crossentropy',\n",
    "              optimizer='adam', metrics=['accuracy'])\n",
    "\n",
    "checkpoint = ModelCheckpoint('model_incept-res.h5', \n",
    "                             verbose=1, \n",
    "                             save_best_only=False, \n",
    "                             save_weights_only=False,\n",
    "                             mode='auto')\n",
    "\n",
    "tracker = EmissionsTracker()\n",
    "tracker.start()\n",
    "model.fit(train_generator,\n",
    "          epochs=10,\n",
    "          validation_data=test_generator,\n",
    "          callbacks=[checkpoint])\n",
    "emissions: float = tracker.stop()\n",
    "print(f\"Emissions: {emissions} kg\")"
   ]
  },
  {
   "cell_type": "code",
   "execution_count": 16,
   "metadata": {},
   "outputs": [
    {
     "name": "stderr",
     "output_type": "stream",
     "text": [
      "WARNING:absl:`lr` is deprecated, please use `learning_rate` instead, or use the legacy optimizer, e.g.,tf.keras.optimizers.legacy.Adam.\n"
     ]
    },
    {
     "name": "stdout",
     "output_type": "stream",
     "text": [
      "Epoch 1/50\n",
      "1/1 [==============================] - ETA: 0s - loss: 2.2777 - accuracy: 0.1364\n",
      "Epoch 1: saving model to model_demo3.h5\n",
      "1/1 [==============================] - 9s 9s/step - loss: 2.2777 - accuracy: 0.1364 - val_loss: 1.7884 - val_accuracy: 0.5333\n",
      "Epoch 2/50\n",
      "1/1 [==============================] - ETA: 0s - loss: 2.0797 - accuracy: 0.1818\n",
      "Epoch 2: saving model to model_demo3.h5\n",
      "1/1 [==============================] - 3s 3s/step - loss: 2.0797 - accuracy: 0.1818 - val_loss: 1.7058 - val_accuracy: 0.4000\n",
      "Epoch 3/50\n",
      "1/1 [==============================] - ETA: 0s - loss: 1.7389 - accuracy: 0.4091\n",
      "Epoch 3: saving model to model_demo3.h5\n",
      "1/1 [==============================] - 3s 3s/step - loss: 1.7389 - accuracy: 0.4091 - val_loss: 1.3891 - val_accuracy: 0.6000\n",
      "Epoch 4/50\n",
      "1/1 [==============================] - ETA: 0s - loss: 1.5247 - accuracy: 0.4545\n",
      "Epoch 4: saving model to model_demo3.h5\n",
      "1/1 [==============================] - 4s 4s/step - loss: 1.5247 - accuracy: 0.4545 - val_loss: 1.0917 - val_accuracy: 0.7333\n",
      "Epoch 5/50\n",
      "1/1 [==============================] - ETA: 0s - loss: 1.0859 - accuracy: 0.5000\n",
      "Epoch 5: saving model to model_demo3.h5\n",
      "1/1 [==============================] - 4s 4s/step - loss: 1.0859 - accuracy: 0.5000 - val_loss: 0.9552 - val_accuracy: 0.7333\n",
      "Epoch 6/50\n",
      "1/1 [==============================] - ETA: 0s - loss: 0.9317 - accuracy: 0.5909\n",
      "Epoch 6: saving model to model_demo3.h5\n",
      "1/1 [==============================] - 4s 4s/step - loss: 0.9317 - accuracy: 0.5909 - val_loss: 0.9897 - val_accuracy: 0.6000\n",
      "Epoch 7/50\n",
      "1/1 [==============================] - ETA: 0s - loss: 1.1007 - accuracy: 0.5000\n",
      "Epoch 7: saving model to model_demo3.h5\n",
      "1/1 [==============================] - 3s 3s/step - loss: 1.1007 - accuracy: 0.5000 - val_loss: 0.8840 - val_accuracy: 0.6000\n",
      "Epoch 8/50\n",
      "1/1 [==============================] - ETA: 0s - loss: 0.9770 - accuracy: 0.5909\n",
      "Epoch 8: saving model to model_demo3.h5\n",
      "1/1 [==============================] - 4s 4s/step - loss: 0.9770 - accuracy: 0.5909 - val_loss: 0.7823 - val_accuracy: 0.8667\n",
      "Epoch 9/50\n",
      "1/1 [==============================] - ETA: 0s - loss: 0.6771 - accuracy: 0.7727\n",
      "Epoch 9: saving model to model_demo3.h5\n",
      "1/1 [==============================] - 4s 4s/step - loss: 0.6771 - accuracy: 0.7727 - val_loss: 0.7469 - val_accuracy: 0.8000\n",
      "Epoch 10/50\n",
      "1/1 [==============================] - ETA: 0s - loss: 0.8907 - accuracy: 0.5455\n",
      "Epoch 10: saving model to model_demo3.h5\n",
      "1/1 [==============================] - 4s 4s/step - loss: 0.8907 - accuracy: 0.5455 - val_loss: 0.7357 - val_accuracy: 0.8000\n",
      "Epoch 11/50\n",
      "1/1 [==============================] - ETA: 0s - loss: 0.8967 - accuracy: 0.6818\n",
      "Epoch 11: saving model to model_demo3.h5\n",
      "1/1 [==============================] - 4s 4s/step - loss: 0.8967 - accuracy: 0.6818 - val_loss: 0.6966 - val_accuracy: 0.8000\n",
      "Epoch 12/50\n",
      "1/1 [==============================] - ETA: 0s - loss: 0.7783 - accuracy: 0.8182\n",
      "Epoch 12: saving model to model_demo3.h5\n",
      "1/1 [==============================] - 3s 3s/step - loss: 0.7783 - accuracy: 0.8182 - val_loss: 0.6405 - val_accuracy: 0.8000\n",
      "Epoch 13/50\n",
      "1/1 [==============================] - ETA: 0s - loss: 0.7563 - accuracy: 0.7727\n",
      "Epoch 13: saving model to model_demo3.h5\n",
      "1/1 [==============================] - 4s 4s/step - loss: 0.7563 - accuracy: 0.7727 - val_loss: 0.5974 - val_accuracy: 0.9333\n",
      "Epoch 14/50\n",
      "1/1 [==============================] - ETA: 0s - loss: 0.5185 - accuracy: 0.8636\n",
      "Epoch 14: saving model to model_demo3.h5\n",
      "1/1 [==============================] - 5s 5s/step - loss: 0.5185 - accuracy: 0.8636 - val_loss: 0.5782 - val_accuracy: 0.9333\n",
      "Epoch 15/50\n",
      "1/1 [==============================] - ETA: 0s - loss: 0.7962 - accuracy: 0.7727\n",
      "Epoch 15: saving model to model_demo3.h5\n",
      "1/1 [==============================] - 4s 4s/step - loss: 0.7962 - accuracy: 0.7727 - val_loss: 0.5615 - val_accuracy: 0.8000\n",
      "Epoch 16/50\n",
      "1/1 [==============================] - ETA: 0s - loss: 0.5702 - accuracy: 0.7273\n",
      "Epoch 16: saving model to model_demo3.h5\n",
      "1/1 [==============================] - 4s 4s/step - loss: 0.5702 - accuracy: 0.7273 - val_loss: 0.5354 - val_accuracy: 0.8667\n",
      "Epoch 17/50\n",
      "1/1 [==============================] - ETA: 0s - loss: 0.5474 - accuracy: 0.7273\n",
      "Epoch 17: saving model to model_demo3.h5\n",
      "1/1 [==============================] - 4s 4s/step - loss: 0.5474 - accuracy: 0.7273 - val_loss: 0.4950 - val_accuracy: 0.9333\n",
      "Epoch 18/50\n",
      "1/1 [==============================] - ETA: 0s - loss: 0.4836 - accuracy: 0.8182\n",
      "Epoch 18: saving model to model_demo3.h5\n",
      "1/1 [==============================] - 3s 3s/step - loss: 0.4836 - accuracy: 0.8182 - val_loss: 0.4566 - val_accuracy: 1.0000\n",
      "Epoch 19/50\n",
      "1/1 [==============================] - ETA: 0s - loss: 0.4752 - accuracy: 0.8636\n",
      "Epoch 19: saving model to model_demo3.h5\n",
      "1/1 [==============================] - 3s 3s/step - loss: 0.4752 - accuracy: 0.8636 - val_loss: 0.4344 - val_accuracy: 1.0000\n",
      "Epoch 20/50\n",
      "1/1 [==============================] - ETA: 0s - loss: 0.4821 - accuracy: 0.8636\n",
      "Epoch 20: saving model to model_demo3.h5\n",
      "1/1 [==============================] - 3s 3s/step - loss: 0.4821 - accuracy: 0.8636 - val_loss: 0.4337 - val_accuracy: 1.0000\n",
      "Epoch 21/50\n",
      "1/1 [==============================] - ETA: 0s - loss: 0.4204 - accuracy: 0.9091\n",
      "Epoch 21: saving model to model_demo3.h5\n",
      "1/1 [==============================] - 3s 3s/step - loss: 0.4204 - accuracy: 0.9091 - val_loss: 0.4249 - val_accuracy: 0.9333\n",
      "Epoch 22/50\n",
      "1/1 [==============================] - ETA: 0s - loss: 0.3322 - accuracy: 1.0000\n",
      "Epoch 22: saving model to model_demo3.h5\n",
      "1/1 [==============================] - 3s 3s/step - loss: 0.3322 - accuracy: 1.0000 - val_loss: 0.4071 - val_accuracy: 0.9333\n",
      "Epoch 23/50\n",
      "1/1 [==============================] - ETA: 0s - loss: 0.4710 - accuracy: 0.8636\n",
      "Epoch 23: saving model to model_demo3.h5\n",
      "1/1 [==============================] - 4s 4s/step - loss: 0.4710 - accuracy: 0.8636 - val_loss: 0.3913 - val_accuracy: 0.9333\n",
      "Epoch 24/50\n",
      "1/1 [==============================] - ETA: 0s - loss: 0.3823 - accuracy: 0.9091\n",
      "Epoch 24: saving model to model_demo3.h5\n",
      "1/1 [==============================] - 4s 4s/step - loss: 0.3823 - accuracy: 0.9091 - val_loss: 0.3817 - val_accuracy: 0.9333\n",
      "Epoch 25/50\n",
      "1/1 [==============================] - ETA: 0s - loss: 0.5850 - accuracy: 0.7727\n",
      "Epoch 25: saving model to model_demo3.h5\n",
      "1/1 [==============================] - 4s 4s/step - loss: 0.5850 - accuracy: 0.7727 - val_loss: 0.3699 - val_accuracy: 0.9333\n",
      "Epoch 26/50\n",
      "1/1 [==============================] - ETA: 0s - loss: 0.2896 - accuracy: 1.0000\n",
      "Epoch 26: saving model to model_demo3.h5\n",
      "1/1 [==============================] - 3s 3s/step - loss: 0.2896 - accuracy: 1.0000 - val_loss: 0.3583 - val_accuracy: 0.9333\n",
      "Epoch 27/50\n",
      "1/1 [==============================] - ETA: 0s - loss: 0.3403 - accuracy: 0.8636\n",
      "Epoch 27: saving model to model_demo3.h5\n",
      "1/1 [==============================] - 3s 3s/step - loss: 0.3403 - accuracy: 0.8636 - val_loss: 0.3331 - val_accuracy: 1.0000\n",
      "Epoch 28/50\n",
      "1/1 [==============================] - ETA: 0s - loss: 0.3262 - accuracy: 0.9545\n",
      "Epoch 28: saving model to model_demo3.h5\n",
      "1/1 [==============================] - 3s 3s/step - loss: 0.3262 - accuracy: 0.9545 - val_loss: 0.3031 - val_accuracy: 1.0000\n",
      "Epoch 29/50\n",
      "1/1 [==============================] - ETA: 0s - loss: 0.3449 - accuracy: 0.9091\n",
      "Epoch 29: saving model to model_demo3.h5\n",
      "1/1 [==============================] - 3s 3s/step - loss: 0.3449 - accuracy: 0.9091 - val_loss: 0.2820 - val_accuracy: 1.0000\n",
      "Epoch 30/50\n",
      "1/1 [==============================] - ETA: 0s - loss: 0.2926 - accuracy: 0.9091\n",
      "Epoch 30: saving model to model_demo3.h5\n",
      "1/1 [==============================] - 4s 4s/step - loss: 0.2926 - accuracy: 0.9091 - val_loss: 0.2625 - val_accuracy: 1.0000\n",
      "Epoch 31/50\n",
      "1/1 [==============================] - ETA: 0s - loss: 0.2802 - accuracy: 0.9091\n",
      "Epoch 31: saving model to model_demo3.h5\n",
      "1/1 [==============================] - 4s 4s/step - loss: 0.2802 - accuracy: 0.9091 - val_loss: 0.2512 - val_accuracy: 1.0000\n",
      "Epoch 32/50\n",
      "1/1 [==============================] - ETA: 0s - loss: 0.3263 - accuracy: 0.9091\n",
      "Epoch 32: saving model to model_demo3.h5\n",
      "1/1 [==============================] - 4s 4s/step - loss: 0.3263 - accuracy: 0.9091 - val_loss: 0.2532 - val_accuracy: 1.0000\n",
      "Epoch 33/50\n",
      "1/1 [==============================] - ETA: 0s - loss: 0.3342 - accuracy: 0.9545\n",
      "Epoch 33: saving model to model_demo3.h5\n",
      "1/1 [==============================] - 4s 4s/step - loss: 0.3342 - accuracy: 0.9545 - val_loss: 0.2613 - val_accuracy: 1.0000\n",
      "Epoch 34/50\n",
      "1/1 [==============================] - ETA: 0s - loss: 0.3290 - accuracy: 0.8636\n",
      "Epoch 34: saving model to model_demo3.h5\n",
      "1/1 [==============================] - 4s 4s/step - loss: 0.3290 - accuracy: 0.8636 - val_loss: 0.2462 - val_accuracy: 1.0000\n",
      "Epoch 35/50\n",
      "1/1 [==============================] - ETA: 0s - loss: 0.2670 - accuracy: 0.9091\n",
      "Epoch 35: saving model to model_demo3.h5\n",
      "1/1 [==============================] - 4s 4s/step - loss: 0.2670 - accuracy: 0.9091 - val_loss: 0.2256 - val_accuracy: 1.0000\n",
      "Epoch 36/50\n",
      "1/1 [==============================] - ETA: 0s - loss: 0.1915 - accuracy: 1.0000\n",
      "Epoch 36: saving model to model_demo3.h5\n",
      "1/1 [==============================] - 4s 4s/step - loss: 0.1915 - accuracy: 1.0000 - val_loss: 0.2169 - val_accuracy: 1.0000\n",
      "Epoch 37/50\n",
      "1/1 [==============================] - ETA: 0s - loss: 0.2411 - accuracy: 0.9545\n",
      "Epoch 37: saving model to model_demo3.h5\n",
      "1/1 [==============================] - 4s 4s/step - loss: 0.2411 - accuracy: 0.9545 - val_loss: 0.2273 - val_accuracy: 1.0000\n",
      "Epoch 38/50\n",
      "1/1 [==============================] - ETA: 0s - loss: 0.1932 - accuracy: 1.0000\n",
      "Epoch 38: saving model to model_demo3.h5\n",
      "1/1 [==============================] - 4s 4s/step - loss: 0.1932 - accuracy: 1.0000 - val_loss: 0.2413 - val_accuracy: 1.0000\n",
      "Epoch 39/50\n",
      "1/1 [==============================] - ETA: 0s - loss: 0.2459 - accuracy: 0.9091\n",
      "Epoch 39: saving model to model_demo3.h5\n",
      "1/1 [==============================] - 4s 4s/step - loss: 0.2459 - accuracy: 0.9091 - val_loss: 0.2417 - val_accuracy: 1.0000\n",
      "Epoch 40/50\n",
      "1/1 [==============================] - ETA: 0s - loss: 0.1976 - accuracy: 0.9545\n",
      "Epoch 40: saving model to model_demo3.h5\n",
      "1/1 [==============================] - 5s 5s/step - loss: 0.1976 - accuracy: 0.9545 - val_loss: 0.2284 - val_accuracy: 1.0000\n",
      "Epoch 41/50\n",
      "1/1 [==============================] - ETA: 0s - loss: 0.2924 - accuracy: 0.9091\n",
      "Epoch 41: saving model to model_demo3.h5\n",
      "1/1 [==============================] - 4s 4s/step - loss: 0.2924 - accuracy: 0.9091 - val_loss: 0.2101 - val_accuracy: 1.0000\n",
      "Epoch 42/50\n",
      "1/1 [==============================] - ETA: 0s - loss: 0.2139 - accuracy: 0.9091\n",
      "Epoch 42: saving model to model_demo3.h5\n",
      "1/1 [==============================] - 5s 5s/step - loss: 0.2139 - accuracy: 0.9091 - val_loss: 0.2133 - val_accuracy: 0.9333\n",
      "Epoch 43/50\n",
      "1/1 [==============================] - ETA: 0s - loss: 0.1636 - accuracy: 1.0000\n",
      "Epoch 43: saving model to model_demo3.h5\n",
      "1/1 [==============================] - 6s 6s/step - loss: 0.1636 - accuracy: 1.0000 - val_loss: 0.2215 - val_accuracy: 0.9333\n",
      "Epoch 44/50\n",
      "1/1 [==============================] - ETA: 0s - loss: 0.1445 - accuracy: 1.0000\n",
      "Epoch 44: saving model to model_demo3.h5\n",
      "1/1 [==============================] - 4s 4s/step - loss: 0.1445 - accuracy: 1.0000 - val_loss: 0.2244 - val_accuracy: 0.9333\n",
      "Epoch 45/50\n",
      "1/1 [==============================] - ETA: 0s - loss: 0.1415 - accuracy: 1.0000\n",
      "Epoch 45: saving model to model_demo3.h5\n",
      "1/1 [==============================] - 4s 4s/step - loss: 0.1415 - accuracy: 1.0000 - val_loss: 0.2243 - val_accuracy: 0.9333\n",
      "Epoch 46/50\n",
      "1/1 [==============================] - ETA: 0s - loss: 0.0765 - accuracy: 1.0000\n",
      "Epoch 46: saving model to model_demo3.h5\n",
      "1/1 [==============================] - 4s 4s/step - loss: 0.0765 - accuracy: 1.0000 - val_loss: 0.2256 - val_accuracy: 0.9333\n",
      "Epoch 47/50\n",
      "1/1 [==============================] - ETA: 0s - loss: 0.1269 - accuracy: 1.0000\n",
      "Epoch 47: saving model to model_demo3.h5\n",
      "1/1 [==============================] - 5s 5s/step - loss: 0.1269 - accuracy: 1.0000 - val_loss: 0.2205 - val_accuracy: 1.0000\n",
      "Epoch 48/50\n",
      "1/1 [==============================] - ETA: 0s - loss: 0.1668 - accuracy: 1.0000\n",
      "Epoch 48: saving model to model_demo3.h5\n",
      "1/1 [==============================] - 4s 4s/step - loss: 0.1668 - accuracy: 1.0000 - val_loss: 0.2183 - val_accuracy: 1.0000\n",
      "Epoch 49/50\n",
      "1/1 [==============================] - ETA: 0s - loss: 0.1121 - accuracy: 1.0000\n",
      "Epoch 49: saving model to model_demo3.h5\n",
      "1/1 [==============================] - 4s 4s/step - loss: 0.1121 - accuracy: 1.0000 - val_loss: 0.2116 - val_accuracy: 1.0000\n",
      "Epoch 50/50\n",
      "1/1 [==============================] - ETA: 0s - loss: 0.0885 - accuracy: 1.0000\n",
      "Epoch 50: saving model to model_demo3.h5\n",
      "1/1 [==============================] - 4s 4s/step - loss: 0.0885 - accuracy: 1.0000 - val_loss: 0.2010 - val_accuracy: 1.0000\n"
     ]
    }
   ],
   "source": [
    "from tensorflow.keras import models\n",
    "from tensorflow.keras import layers\n",
    "from tensorflow.keras.applications import ResNet50\n",
    "from tensorflow.keras.optimizers import Adam\n",
    "\n",
    "# Charger le modèle ResNet50 pré-entraîné sur ImageNet\n",
    "base_model = ResNet50(weights=\"imagenet\", include_top=False)\n",
    "\n",
    "# Congeler les couches de base pour éviter la rétropropagation du gradient\n",
    "for layer in base_model.layers:\n",
    "    layer.trainable = False\n",
    "\n",
    "# Créer le modèle de classification à partir du modèle de base\n",
    "model = models.Sequential()\n",
    "model.add(base_model)\n",
    "model.add(layers.GlobalAveragePooling2D())\n",
    "model.add(layers.Dense(1024, activation='relu'))\n",
    "model.add(layers.Dropout(0.5))\n",
    "model.add(layers.Dense(5, activation='softmax'))\n",
    "\n",
    "# Compiler le modèle avec un taux d'apprentissage plus faible et l'algorithme d'optimisation Adam\n",
    "model.compile(optimizer=Adam(lr=0.005), loss='categorical_crossentropy', metrics=['accuracy'])\n",
    "\n",
    "checkpoint = ModelCheckpoint('model_lr.h5', \n",
    "                             verbose=1, \n",
    "                             save_best_only=False, \n",
    "                             save_weights_only=False,\n",
    "                             mode='auto')\n",
    "\n",
    "\n",
    "# Utiliser un ensemble de données d'entraînement équilibré\n",
    "#class_weights = class_weight.compute_class_weight('balanced', np.unique(train_generator.classes), train_generator.classes)\n",
    "\n",
    "# Entraîner le modèle avec un nombre d'époques plus élevé\n",
    "history = model.fit(train_generator, epochs=50, validation_data=test_generator, callbacks=[checkpoint])\n"
   ]
  },
  {
   "cell_type": "code",
   "execution_count": 11,
   "metadata": {},
   "outputs": [
    {
     "name": "stdout",
     "output_type": "stream",
     "text": [
      "1/1 [==============================] - 1s 1s/step\n",
      "Classe prédite : shale\n"
     ]
    }
   ],
   "source": [
    "#prédiction de la classe unique pour une image\n",
    "from tensorflow.keras.models import load_model\n",
    "from tensorflow.keras.preprocessing.image import load_img, img_to_array\n",
    "from tensorflow.keras.applications.resnet50 import preprocess_input\n",
    "\n",
    "model = load_model('model.h5')\n",
    "\n",
    "# Charger une image de test et effectuer la prédiction\n",
    "img = load_img('motifs_legende/supervised/test/chalk/chalk_15-2-1.png', target_size=(224, 224))\n",
    "x = img_to_array(img)\n",
    "x = np.expand_dims(x, axis=0)\n",
    "x = preprocess_input(x)\n",
    "preds = model.predict(x)\n",
    "\n",
    "# Trouver la classe prédite et afficher le résultat\n",
    "class_idx = np.argmax(preds[0])\n",
    "predicted_label = class_labels[class_idx]\n",
    "print(\"Classe prédite :\", predicted_label)\n"
   ]
  },
  {
   "cell_type": "code",
   "execution_count": 22,
   "metadata": {},
   "outputs": [
    {
     "name": "stdout",
     "output_type": "stream",
     "text": [
      "1/1 [==============================] - 1s 1s/step\n"
     ]
    },
    {
     "data": {
      "image/png": "[encoded data removed]",
      "text/plain": [
       "<Figure size 640x480 with 1 Axes>"
      ]
     },
     "metadata": {},
     "output_type": "display_data"
    }
   ],
   "source": [
    "#prédiction du top 5 pour une image avec les probabilités\n",
    "import matplotlib.pyplot as plt\n",
    "from tensorflow.keras.models import load_model\n",
    "from tensorflow.keras.preprocessing.image import load_img, img_to_array\n",
    "from tensorflow.keras.applications.resnet50 import preprocess_input\n",
    "\n",
    "model = load_model('model.h5')\n",
    "\n",
    "# Charger une image de test et effectuer la prédiction\n",
    "img = load_img('motifs_legende/supervised/test/coal_lignite/coal_lig_15-9-1.png', target_size=(224, 224))\n",
    "x = img_to_array(img)\n",
    "x = np.expand_dims(x, axis=0)\n",
    "x = preprocess_input(x)\n",
    "preds = model.predict(x)\n",
    "\n",
    "# Trouver les cinq classes les plus probables\n",
    "top_preds = np.argsort(preds[0])[::-1][:5]\n",
    "top_labels = [class_labels[i] for i in top_preds]\n",
    "top_probs = preds[0][top_preds]\n",
    "\n",
    "\n",
    "# Afficher l'image et les classes prédites avec leurs probabilités\n",
    "plt.imshow(img)\n",
    "plt.axis('off')\n",
    "plt.title('Top 5 classes prédites')\n",
    "for i in range(len(top_labels)):\n",
    "    plt.text(250, 50 + i * 50, f'{top_labels[i]}: {top_probs[i]:.2%}')\n",
    "plt.show()"
   ]
  },
  {
   "cell_type": "code",
   "execution_count": 20,
   "metadata": {},
   "outputs": [
    {
     "name": "stdout",
     "output_type": "stream",
     "text": [
      "1/1 [==============================] - 2s 2s/step\n"
     ]
    },
    {
     "data": {
      "image/png": "[encoded data removed]",
      "text/plain": [
       "<Figure size 640x480 with 1 Axes>"
      ]
     },
     "metadata": {},
     "output_type": "display_data"
    }
   ],
   "source": [
    "model = load_model('model.h5')\n",
    "\n",
    "# Charger une image de test et effectuer la prédiction\n",
    "img = load_img('motifs_legende/supervised/test/coal_lignite/coal_lig_15-9-1.png', target_size=(224, 224))\n",
    "x = img_to_array(img)\n",
    "x = np.expand_dims(x, axis=0)\n",
    "x = preprocess_input(x)\n",
    "preds = model.predict(x)\n",
    "\n",
    "#Trouver les cinq classes les plus probables\n",
    "top_preds = np.argsort(preds[0])[::-1][:5]\n",
    "top_labels = [class_labels[i] for i in top_preds]\n",
    "top_probs = preds[0][top_preds]\n",
    "\n",
    "# Vérifier si la probabilité de la classe numéro 1 est inférieure à 50%\n",
    "if top_probs[0] < 0.5:\n",
    "    # Si c'est le cas, prédire \"autres\" comme classe\n",
    "    top_labels[0] = \"non identifié\"\n",
    "    top_probs[0] = 1 - np.sum(top_probs[1:])  # La probabilité de la classe \"autres\" est le complément des autres probabilités\n",
    "\n",
    "# Afficher l'image et les classes prédites avec leurs probabilités\n",
    "plt.imshow(img)\n",
    "plt.axis('off')\n",
    "plt.title('Top 5 classes prédites')\n",
    "for i in range(len(top_labels)):\n",
    "    plt.text(250, 50 + i * 50, f'{top_labels[i]}: {top_probs[i]:.2%}')\n",
    "plt.show()\n"
   ]
  },
  {
   "cell_type": "code",
   "execution_count": 10,
   "metadata": {},
   "outputs": [
    {
     "name": "stdout",
     "output_type": "stream",
     "text": [
      "WARNING:tensorflow:5 out of the last 9 calls to <function Model.make_predict_function.<locals>.predict_function at 0x000002201933D430> triggered tf.function retracing. Tracing is expensive and the excessive number of tracings could be due to (1) creating @tf.function repeatedly in a loop, (2) passing tensors with different shapes, (3) passing Python objects instead of tensors. For (1), please define your @tf.function outside of the loop. For (2), @tf.function has reduce_retracing=True option that can avoid unnecessary retracing. For (3), please refer to https://www.tensorflow.org/guide/function#controlling_retracing and https://www.tensorflow.org/api_docs/python/tf/function for  more details.\n",
      "1/1 [==============================] - 1s 1s/step\n",
      "Classe prédite : coal_lignite\n",
      "1/1 [==============================] - 0s 162ms/step\n",
      "Classe prédite : coal_lignite\n",
      "1/1 [==============================] - 0s 156ms/step\n",
      "Classe prédite : coal_lignite\n",
      "1/1 [==============================] - 0s 135ms/step\n",
      "Classe prédite : coal_lignite\n",
      "1/1 [==============================] - 0s 133ms/step\n",
      "Classe prédite : coal_lignite\n"
     ]
    }
   ],
   "source": [
    "#prédiction de plusieurs images d'une même classe\n",
    "import os\n",
    "import numpy as np\n",
    "import glob\n",
    "from tensorflow.keras.models import load_model\n",
    "from tensorflow.keras.preprocessing.image import load_img, img_to_array\n",
    "from tensorflow.keras.applications.resnet50 import preprocess_input\n",
    "\n",
    "model = load_model('model.h5')\n",
    "\n",
    "# Charger toutes les images du dossier test\n",
    "test_dir = 'motifs_legende/supervised/test/coal_lignite/'\n",
    "image_files = glob.glob(os.path.join(test_dir, '*.png'))\n",
    "\n",
    "for image_file in image_files:\n",
    "    img = load_img(image_file, target_size=(224, 224))\n",
    "    x = img_to_array(img)\n",
    "    x = np.expand_dims(x, axis=0)\n",
    "    x = preprocess_input(x)\n",
    "    preds = model.predict(x)\n",
    "\n",
    "    # Trouver la classe prédite et afficher le résultat\n",
    "    class_idx = np.argmax(preds[0])\n",
    "    predicted_label = class_labels[class_idx]\n",
    "    print(\"Classe prédite :\", predicted_label)\n",
    "\n"
   ]
  },
  {
   "cell_type": "code",
   "execution_count": 14,
   "metadata": {},
   "outputs": [
    {
     "name": "stdout",
     "output_type": "stream",
     "text": [
      "1/1 [==============================] - 1s 1s/step\n",
      "Classe prédite : coal_lignite\n",
      "1/1 [==============================] - 0s 136ms/step\n",
      "Classe prédite : coal_lignite\n",
      "1/1 [==============================] - 0s 139ms/step\n",
      "Classe prédite : coal_lignite\n",
      "1/1 [==============================] - 0s 123ms/step\n",
      "Classe prédite : coal_lignite\n",
      "1/1 [==============================] - 0s 147ms/step\n",
      "Classe prédite : non identifié\n"
     ]
    }
   ],
   "source": [
    "#ajout de la classe \"non identifié\"\n",
    "# Charger toutes les images du dossier test\n",
    "model = load_model('model.h5')\n",
    "test_dir = 'motifs_legende/supervised/test/coal_lignite/'\n",
    "image_files = glob.glob(os.path.join(test_dir, '*.png'))\n",
    "\n",
    "for image_file in image_files:\n",
    "    img = load_img(image_file, target_size=(224, 224))\n",
    "    x = img_to_array(img)\n",
    "    x = np.expand_dims(x, axis=0)\n",
    "    x = preprocess_input(x)\n",
    "    preds = model.predict(x)\n",
    "\n",
    "    # Trouver la classe prédite et la probabilité correspondante\n",
    "    class_idx = np.argmax(preds[0])\n",
    "    predicted_prob = preds[0][class_idx]\n",
    "\n",
    "    # Vérifier si la probabilité de la classe prédite est inférieure à 50%\n",
    "    if predicted_prob < 0.5:\n",
    "        predicted_label = \"non identifié\"\n",
    "    else:\n",
    "        predicted_label = class_labels[class_idx]\n",
    "\n",
    "    # Afficher le résultat\n",
    "    print(\"Classe prédite :\", predicted_label)\n"
   ]
  }
 ],
 "metadata": {
  "kernelspec": {
   "display_name": "Python 3",
   "language": "python",
   "name": "python3"
  },
  "language_info": {
   "codemirror_mode": {
    "name": "ipython",
    "version": 3
   },
   "file_extension": ".py",
   "mimetype": "text/x-python",
   "name": "python",
   "nbconvert_exporter": "python",
   "pygments_lexer": "ipython3",
   "version": "3.8.3"
  },
  "orig_nbformat": 4
 },
 "nbformat": 4,
 "nbformat_minor": 2
}
