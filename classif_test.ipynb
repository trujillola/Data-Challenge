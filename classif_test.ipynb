{
 "cells": [
  {
   "cell_type": "code",
   "execution_count": 1,
   "metadata": {},
   "outputs": [],
   "source": [
    "import numpy as np\n",
    "from tensorflow.keras.models import Sequential\n",
    "from tensorflow.keras.layers import Dense, Dropout, Flatten\n",
    "from tensorflow.keras.layers import Conv2D, MaxPooling2D, GlobalAveragePooling2D\n",
    "from tensorflow.keras.applications.resnet50 import ResNet50\n",
    "from tensorflow.keras.preprocessing.image import ImageDataGenerator\n",
    "from tensorflow.keras.callbacks import ModelCheckpoint\n"
   ]
  },
  {
   "cell_type": "code",
   "execution_count": 2,
   "metadata": {},
   "outputs": [
    {
     "name": "stdout",
     "output_type": "stream",
     "text": [
      "Found 30 images belonging to 7 classes.\n",
      "Found 18 images belonging to 7 classes.\n",
      "['limestone', 'marl_limestone', 'marl_marlstone', 'salt', 'sand', 'sand_clay', 'silt']\n"
     ]
    }
   ],
   "source": [
    "train_datagen = ImageDataGenerator(rescale=1./255)\n",
    "train_generator = train_datagen.flow_from_directory(\n",
    "    'motifs_7_classes/train/',\n",
    "    target_size=(224, 224),\n",
    "    #batch_size=8,\n",
    "    class_mode='categorical')\n",
    "\n",
    "test_datagen = ImageDataGenerator(rescale=1./255)\n",
    "test_generator = test_datagen.flow_from_directory(\n",
    "    'motifs_7_classes/test/',\n",
    "    target_size=(224, 224),\n",
    "    #batch_size=8,\n",
    "    class_mode='categorical')\n",
    "\n",
    "# Créer un tableau numpy pour les étiquettes de classe\n",
    "class_labels = list(test_generator.class_indices.keys())\n",
    "print(class_labels)\n",
    "class_indices = test_generator.class_indices\n",
    "num_classes = len(class_labels)\n",
    "\n"
   ]
  },
  {
   "cell_type": "code",
   "execution_count": 98,
   "metadata": {},
   "outputs": [
    {
     "data": {
      "text/plain": [
       "<matplotlib.image.AxesImage at 0x27abfa37b50>"
      ]
     },
     "execution_count": 98,
     "metadata": {},
     "output_type": "execute_result"
    },
    {
     "data": {
      "image/png": "[encoded data removed]",
      "text/plain": [
       "<Figure size 640x480 with 1 Axes>"
      ]
     },
     "metadata": {},
     "output_type": "display_data"
    }
   ],
   "source": [
    "from tensorflow.keras.preprocessing.image import load_img\n",
    "import matplotlib.pyplot as plt\n",
    "# Charger une image de test et effectuer la prédiction\n",
    "img = load_img('motifs_7_classes/train/sand/sand1.png', target_size=(224, 224))\n",
    "plt.imshow(img)"
   ]
  },
  {
   "cell_type": "code",
   "execution_count": 75,
   "metadata": {},
   "outputs": [],
   "source": [
    "base_model = ResNet50(weights=\"imagenet\", include_top=False)\n",
    "\n",
    "model = Sequential()\n",
    "model.add(base_model)\n",
    "#léger fine tuning\n",
    "model.add(GlobalAveragePooling2D())\n",
    "model.add(Dense(1024, activation='relu'))\n",
    "model.add(Dropout(0.5))\n",
    "#on prédit 1 des 7 classes\n",
    "model.add(Dense(7, activation='softmax'))\n"
   ]
  },
  {
   "cell_type": "code",
   "execution_count": 36,
   "metadata": {},
   "outputs": [],
   "source": [
    "#convnet clasique\n",
    "# from tensorflow.keras.models import Sequential\n",
    "# from tensorflow.keras.layers import Flatten, Dense, Conv2D, MaxPooling2D, Dropout\n",
    "# from tensorflow.keras.layers import Dropout\n",
    "\n",
    "# model = Sequential(name=\"Scratch\")\n",
    "\n",
    "\n",
    "# model.add(Conv2D(32, (3, 3), activation='relu', input_shape=(224,224, 3), padding=\"same\"))\n",
    "# model.add(MaxPooling2D((2, 2)))\n",
    "# model.add(Conv2D(64, (3, 3), activation='relu'))\n",
    "# model.add(MaxPooling2D((2, 2)))\n",
    "# model.add(Conv2D(128, (3, 3), activation='relu'))\n",
    "# model.add(Dropout(0.25))\n",
    "# model.add(MaxPooling2D((2, 2)))\n",
    "\n",
    "# model.add(Flatten())\n",
    "# model.add(Dense(256, activation='relu'))\n",
    "# model.add(Dropout(0.5))\n",
    "\n",
    "# model.add(Dense(units=5, activation = 'softmax'))\n",
    "\n",
    "# model_scratch.build()\n",
    "# model_scratch.compile(optimizer=\"adam\", loss=\"categorical_crossentropy\", metrics=[\"accuracy\"])\n",
    "# #model_.build(input_shape)\n",
    "# model_scratch.summary()"
   ]
  },
  {
   "cell_type": "code",
   "execution_count": null,
   "metadata": {},
   "outputs": [],
   "source": [
    "#modèle plus petit : MobileNet\n",
    "# base_model = MobileNetV2(weights='imagenet', include_top=False)\n",
    "\n",
    "# model = Sequential()\n",
    "# model.add(base_model)\n",
    "# model.add(GlobalAveragePooling2D())\n",
    "# model.add(Dense(1024, activation='relu'))\n",
    "# model.add(Dropout(0.5))\n",
    "# model.add(Dense(7, activation='softmax'))\n"
   ]
  },
  {
   "cell_type": "code",
   "execution_count": 76,
   "metadata": {},
   "outputs": [
    {
     "name": "stdout",
     "output_type": "stream",
     "text": [
      "Epoch 1/20\n",
      "1/1 [==============================] - ETA: 0s - loss: 2.3903 - accuracy: 0.1333\n",
      "Epoch 1: val_loss improved from inf to 2.98803, saving model to model.h5\n",
      "1/1 [==============================] - 35s 35s/step - loss: 2.3903 - accuracy: 0.1333 - val_loss: 2.9880 - val_accuracy: 0.0556\n",
      "Epoch 2/20\n",
      "1/1 [==============================] - ETA: 0s - loss: 1.1265 - accuracy: 0.6667\n",
      "Epoch 2: val_loss did not improve from 2.98803\n",
      "1/1 [==============================] - 13s 13s/step - loss: 1.1265 - accuracy: 0.6667 - val_loss: 3.5356 - val_accuracy: 0.1667\n",
      "Epoch 3/20\n",
      "1/1 [==============================] - ETA: 0s - loss: 0.0910 - accuracy: 1.0000\n",
      "Epoch 3: val_loss did not improve from 2.98803\n",
      "1/1 [==============================] - 13s 13s/step - loss: 0.0910 - accuracy: 1.0000 - val_loss: 3.7826 - val_accuracy: 0.1667\n",
      "Epoch 4/20\n",
      "1/1 [==============================] - ETA: 0s - loss: 0.0281 - accuracy: 1.0000\n",
      "Epoch 4: val_loss did not improve from 2.98803\n",
      "1/1 [==============================] - 13s 13s/step - loss: 0.0281 - accuracy: 1.0000 - val_loss: 5.4675 - val_accuracy: 0.1111\n",
      "Epoch 5/20\n",
      "1/1 [==============================] - ETA: 0s - loss: 0.0066 - accuracy: 1.0000\n",
      "Epoch 5: val_loss did not improve from 2.98803\n",
      "1/1 [==============================] - 13s 13s/step - loss: 0.0066 - accuracy: 1.0000 - val_loss: 10.2061 - val_accuracy: 0.1111\n",
      "Epoch 6/20\n",
      "1/1 [==============================] - ETA: 0s - loss: 0.0098 - accuracy: 1.0000\n",
      "Epoch 6: val_loss did not improve from 2.98803\n",
      "1/1 [==============================] - 14s 14s/step - loss: 0.0098 - accuracy: 1.0000 - val_loss: 15.3727 - val_accuracy: 0.1111\n",
      "Epoch 7/20\n",
      "1/1 [==============================] - ETA: 0s - loss: 5.6089e-04 - accuracy: 1.0000\n",
      "Epoch 7: val_loss did not improve from 2.98803\n",
      "1/1 [==============================] - 15s 15s/step - loss: 5.6089e-04 - accuracy: 1.0000 - val_loss: 18.9873 - val_accuracy: 0.1111\n",
      "Epoch 8/20\n",
      "1/1 [==============================] - ETA: 0s - loss: 0.0384 - accuracy: 0.9667\n",
      "Epoch 8: val_loss did not improve from 2.98803\n",
      "1/1 [==============================] - 16s 16s/step - loss: 0.0384 - accuracy: 0.9667 - val_loss: 19.5568 - val_accuracy: 0.1111\n",
      "Epoch 9/20\n",
      "1/1 [==============================] - ETA: 0s - loss: 0.0018 - accuracy: 1.0000\n",
      "Epoch 9: val_loss did not improve from 2.98803\n",
      "1/1 [==============================] - 16s 16s/step - loss: 0.0018 - accuracy: 1.0000 - val_loss: 18.1443 - val_accuracy: 0.1111\n",
      "Epoch 10/20\n",
      "1/1 [==============================] - ETA: 0s - loss: 0.0017 - accuracy: 1.0000\n",
      "Epoch 10: val_loss did not improve from 2.98803\n",
      "1/1 [==============================] - 16s 16s/step - loss: 0.0017 - accuracy: 1.0000 - val_loss: 16.6827 - val_accuracy: 0.2222\n",
      "Epoch 11/20\n",
      "1/1 [==============================] - ETA: 0s - loss: 0.2360 - accuracy: 0.9667\n",
      "Epoch 11: val_loss did not improve from 2.98803\n",
      "1/1 [==============================] - 16s 16s/step - loss: 0.2360 - accuracy: 0.9667 - val_loss: 29.1802 - val_accuracy: 0.1111\n",
      "Epoch 12/20\n",
      "1/1 [==============================] - ETA: 0s - loss: 0.0034 - accuracy: 1.0000\n",
      "Epoch 12: val_loss did not improve from 2.98803\n",
      "1/1 [==============================] - 16s 16s/step - loss: 0.0034 - accuracy: 1.0000 - val_loss: 48.3202 - val_accuracy: 0.1111\n",
      "Epoch 13/20\n",
      "1/1 [==============================] - ETA: 0s - loss: 0.0034 - accuracy: 1.0000\n",
      "Epoch 13: val_loss did not improve from 2.98803\n",
      "1/1 [==============================] - 15s 15s/step - loss: 0.0034 - accuracy: 1.0000 - val_loss: 56.4324 - val_accuracy: 0.1111\n",
      "Epoch 14/20\n",
      "1/1 [==============================] - ETA: 0s - loss: 0.0015 - accuracy: 1.0000\n",
      "Epoch 14: val_loss did not improve from 2.98803\n",
      "1/1 [==============================] - 15s 15s/step - loss: 0.0015 - accuracy: 1.0000 - val_loss: 53.5495 - val_accuracy: 0.1111\n",
      "Epoch 15/20\n",
      "1/1 [==============================] - ETA: 0s - loss: 6.1008e-04 - accuracy: 1.0000\n",
      "Epoch 15: val_loss did not improve from 2.98803\n",
      "1/1 [==============================] - 15s 15s/step - loss: 6.1008e-04 - accuracy: 1.0000 - val_loss: 168.5895 - val_accuracy: 0.1111\n",
      "Epoch 16/20\n",
      "1/1 [==============================] - ETA: 0s - loss: 4.8616e-04 - accuracy: 1.0000\n",
      "Epoch 16: val_loss did not improve from 2.98803\n",
      "1/1 [==============================] - 16s 16s/step - loss: 4.8616e-04 - accuracy: 1.0000 - val_loss: 644.2595 - val_accuracy: 0.1111\n",
      "Epoch 17/20\n",
      "1/1 [==============================] - ETA: 0s - loss: 0.0880 - accuracy: 0.9667\n",
      "Epoch 17: val_loss did not improve from 2.98803\n",
      "1/1 [==============================] - 15s 15s/step - loss: 0.0880 - accuracy: 0.9667 - val_loss: 1562.5409 - val_accuracy: 0.1111\n",
      "Epoch 18/20\n",
      "1/1 [==============================] - ETA: 0s - loss: 1.8473e-04 - accuracy: 1.0000\n",
      "Epoch 18: val_loss did not improve from 2.98803\n",
      "1/1 [==============================] - 16s 16s/step - loss: 1.8473e-04 - accuracy: 1.0000 - val_loss: 2731.3494 - val_accuracy: 0.1111\n",
      "Epoch 19/20\n",
      "1/1 [==============================] - ETA: 0s - loss: 3.6601e-04 - accuracy: 1.0000\n",
      "Epoch 19: val_loss did not improve from 2.98803\n",
      "1/1 [==============================] - 15s 15s/step - loss: 3.6601e-04 - accuracy: 1.0000 - val_loss: 3806.9519 - val_accuracy: 0.1111\n",
      "Epoch 20/20\n",
      "1/1 [==============================] - ETA: 0s - loss: 0.0012 - accuracy: 1.0000\n",
      "Epoch 20: val_loss did not improve from 2.98803\n",
      "1/1 [==============================] - 16s 16s/step - loss: 0.0012 - accuracy: 1.0000 - val_loss: 4666.3613 - val_accuracy: 0.1111\n"
     ]
    },
    {
     "data": {
      "text/plain": [
       "<keras.callbacks.History at 0x27a1d97b520>"
      ]
     },
     "execution_count": 76,
     "metadata": {},
     "output_type": "execute_result"
    }
   ],
   "source": [
    "model.compile(loss='categorical_crossentropy',\n",
    "              optimizer='adam', metrics=['accuracy'])\n",
    "\n",
    "checkpoint = ModelCheckpoint('model.h5', \n",
    "                             verbose=1, \n",
    "                             save_best_only=True, \n",
    "                             save_weights_only=False,\n",
    "                             mode='auto')\n",
    "\n",
    "model.fit(train_generator,\n",
    "          epochs=20,\n",
    "          validation_data=test_generator,\n",
    "          callbacks=[checkpoint])\n"
   ]
  },
  {
   "cell_type": "code",
   "execution_count": 77,
   "metadata": {},
   "outputs": [
    {
     "name": "stdout",
     "output_type": "stream",
     "text": [
      "1/1 [==============================] - 1s 1s/step\n",
      "Classe prédite : salt\n"
     ]
    }
   ],
   "source": [
    "#prédiction de la classe unique pour une image\n",
    "from tensorflow.keras.models import load_model\n",
    "from tensorflow.keras.preprocessing.image import load_img, img_to_array\n",
    "from tensorflow.keras.applications.resnet50 import preprocess_input\n",
    "\n",
    "model = load_model('model.h5')\n",
    "\n",
    "# Charger une image de test et effectuer la prédiction\n",
    "img = load_img('motifs_7_classes/test/salt/salt4.png', target_size=(224, 224))\n",
    "x = img_to_array(img)\n",
    "x = np.expand_dims(x, axis=0)\n",
    "x = preprocess_input(x)\n",
    "preds = model.predict(x)\n",
    "\n",
    "# Trouver la classe prédite et afficher le résultat\n",
    "class_idx = np.argmax(preds[0])\n",
    "predicted_label = class_labels[class_idx]\n",
    "print(\"Classe prédite :\", predicted_label)\n"
   ]
  },
  {
   "cell_type": "code",
   "execution_count": 78,
   "metadata": {},
   "outputs": [
    {
     "name": "stdout",
     "output_type": "stream",
     "text": [
      "1/1 [==============================] - 1s 1s/step\n"
     ]
    },
    {
     "data": {
      "image/png": "[encoded data removed]",
      "text/plain": [
       "<Figure size 640x480 with 1 Axes>"
      ]
     },
     "metadata": {},
     "output_type": "display_data"
    }
   ],
   "source": [
    "#prédiction du top 5 pour une image avec les probabilités\n",
    "import matplotlib.pyplot as plt\n",
    "from tensorflow.keras.models import load_model\n",
    "from tensorflow.keras.preprocessing.image import load_img, img_to_array\n",
    "from tensorflow.keras.applications.resnet50 import preprocess_input\n",
    "\n",
    "model = load_model('model.h5')\n",
    "\n",
    "# Charger une image de test et effectuer la prédiction\n",
    "img = load_img('motifs_7_classes/test/sand/sand18.png', target_size=(224, 224))\n",
    "x = img_to_array(img)\n",
    "x = np.expand_dims(x, axis=0)\n",
    "x = preprocess_input(x)\n",
    "preds = model.predict(x)\n",
    "\n",
    "# Trouver les cinq classes les plus probables\n",
    "top_preds = np.argsort(preds[0])[::-1][:5]\n",
    "top_labels = [class_labels[i] for i in top_preds]\n",
    "top_probs = preds[0][top_preds]\n",
    "\n",
    "# Afficher l'image et les classes prédites avec leurs probabilités\n",
    "plt.imshow(img)\n",
    "plt.axis('off')\n",
    "plt.title('Top 5 classes prédites')\n",
    "for i in range(len(top_labels)):\n",
    "    plt.text(250, 50 + i * 50, f'{top_labels[i]}: {top_probs[i]:.2%}')\n",
    "plt.show()"
   ]
  },
  {
   "cell_type": "code",
   "execution_count": 87,
   "metadata": {},
   "outputs": [
    {
     "name": "stdout",
     "output_type": "stream",
     "text": [
      "1/1 [==============================] - 1s 1s/step\n",
      "Classe prédite : silt\n",
      "1/1 [==============================] - 0s 161ms/step\n",
      "Classe prédite : silt\n"
     ]
    }
   ],
   "source": [
    "#prédiction de plusieurs images d'une même classe\n",
    "import os\n",
    "import numpy as np\n",
    "import glob\n",
    "from tensorflow.keras.models import load_model\n",
    "from tensorflow.keras.preprocessing.image import load_img, img_to_array\n",
    "from tensorflow.keras.applications.resnet50 import preprocess_input\n",
    "\n",
    "model = load_model('model.h5')\n",
    "\n",
    "# Charger toutes les images du dossier test\n",
    "test_dir = 'motifs_7_classes/test/silt/'\n",
    "image_files = glob.glob(os.path.join(test_dir, '*.png'))\n",
    "\n",
    "for image_file in image_files:\n",
    "    img = load_img(image_file, target_size=(224, 224))\n",
    "    x = img_to_array(img)\n",
    "    x = np.expand_dims(x, axis=0)\n",
    "    x = preprocess_input(x)\n",
    "    preds = model.predict(x)\n",
    "\n",
    "    # Trouver la classe prédite et afficher le résultat\n",
    "    class_idx = np.argmax(preds[0])\n",
    "    predicted_label = class_labels[class_idx]\n",
    "    print(\"Classe prédite :\", predicted_label)\n",
    "\n"
   ]
  }
 ],
 "metadata": {
  "kernelspec": {
   "display_name": "Python 3",
   "language": "python",
   "name": "python3"
  },
  "language_info": {
   "codemirror_mode": {
    "name": "ipython",
    "version": 3
   },
   "file_extension": ".py",
   "mimetype": "text/x-python",
   "name": "python",
   "nbconvert_exporter": "python",
   "pygments_lexer": "ipython3",
   "version": "3.8.3"
  },
  "orig_nbformat": 4
 },
 "nbformat": 4,
 "nbformat_minor": 2
}
